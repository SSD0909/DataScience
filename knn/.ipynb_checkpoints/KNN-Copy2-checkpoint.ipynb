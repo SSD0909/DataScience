{
 "cells": [
  {
   "cell_type": "code",
   "execution_count": 1,
   "metadata": {
    "id": "WR-0Q038AnT-"
   },
   "outputs": [],
   "source": [
    "#import packages\n",
    "\n",
    "import numpy as np\n",
    "import pandas as pd\n",
    "import matplotlib.pyplot as plt\n",
    "import seaborn as sns\n",
    "from sklearn.cluster import KMeans\n",
    "from sklearn.model_selection\n"
   ]
  },
  {
   "cell_type": "code",
   "execution_count": 2,
   "metadata": {
    "id": "eJqMMTDrAnUC"
   },
   "outputs": [],
   "source": [
    "#read data\n",
    "df  =  pd.read_csv('gene.csv')"
   ]
  },
  {
   "cell_type": "code",
   "execution_count": 5,
   "metadata": {
    "id": "hpUiuG3FAnUD",
    "outputId": "0f51e437-0631-40f6-a41e-1382fdafd558"
   },
   "outputs": [
    {
     "data": {
      "text/html": [
       "<div>\n",
       "<style scoped>\n",
       "    .dataframe tbody tr th:only-of-type {\n",
       "        vertical-align: middle;\n",
       "    }\n",
       "\n",
       "    .dataframe tbody tr th {\n",
       "        vertical-align: top;\n",
       "    }\n",
       "\n",
       "    .dataframe thead th {\n",
       "        text-align: right;\n",
       "    }\n",
       "</style>\n",
       "<table border=\"1\" class=\"dataframe\">\n",
       "  <thead>\n",
       "    <tr style=\"text-align: right;\">\n",
       "      <th></th>\n",
       "      <th>Gene One</th>\n",
       "      <th>Gene Two</th>\n",
       "      <th>Cancer Present</th>\n",
       "    </tr>\n",
       "  </thead>\n",
       "  <tbody>\n",
       "    <tr>\n",
       "      <th>0</th>\n",
       "      <td>4.3</td>\n",
       "      <td>3.9</td>\n",
       "      <td>1</td>\n",
       "    </tr>\n",
       "    <tr>\n",
       "      <th>1</th>\n",
       "      <td>2.5</td>\n",
       "      <td>6.3</td>\n",
       "      <td>0</td>\n",
       "    </tr>\n",
       "    <tr>\n",
       "      <th>2</th>\n",
       "      <td>5.7</td>\n",
       "      <td>3.9</td>\n",
       "      <td>1</td>\n",
       "    </tr>\n",
       "    <tr>\n",
       "      <th>3</th>\n",
       "      <td>6.1</td>\n",
       "      <td>6.2</td>\n",
       "      <td>0</td>\n",
       "    </tr>\n",
       "    <tr>\n",
       "      <th>4</th>\n",
       "      <td>7.4</td>\n",
       "      <td>3.4</td>\n",
       "      <td>1</td>\n",
       "    </tr>\n",
       "  </tbody>\n",
       "</table>\n",
       "</div>"
      ],
      "text/plain": [
       "   Gene One  Gene Two  Cancer Present\n",
       "0       4.3       3.9               1\n",
       "1       2.5       6.3               0\n",
       "2       5.7       3.9               1\n",
       "3       6.1       6.2               0\n",
       "4       7.4       3.4               1"
      ]
     },
     "execution_count": 5,
     "metadata": {},
     "output_type": "execute_result"
    }
   ],
   "source": [
    "#inspect data\n",
    "df.head()"
   ]
  },
  {
   "cell_type": "code",
   "execution_count": 6,
   "metadata": {
    "id": "zoWc_QXpAnUE",
    "outputId": "b3a380fb-bc7f-44be-d12c-034fde38facc"
   },
   "outputs": [
    {
     "data": {
      "text/plain": [
       "Gene One          0\n",
       "Gene Two          0\n",
       "Cancer Present    0\n",
       "dtype: int64"
      ]
     },
     "execution_count": 6,
     "metadata": {},
     "output_type": "execute_result"
    }
   ],
   "source": [
    "df.isnull().sum() #checking missing values"
   ]
  },
  {
   "cell_type": "code",
   "execution_count": 7,
   "metadata": {
    "id": "SbpejzxdAnUF",
    "outputId": "da6d70fd-c8dc-432f-bda1-134bc51cbb81"
   },
   "outputs": [
    {
     "name": "stdout",
     "output_type": "stream",
     "text": [
      "<class 'pandas.core.frame.DataFrame'>\n",
      "RangeIndex: 3000 entries, 0 to 2999\n",
      "Data columns (total 3 columns):\n",
      " #   Column          Non-Null Count  Dtype  \n",
      "---  ------          --------------  -----  \n",
      " 0   Gene One        3000 non-null   float64\n",
      " 1   Gene Two        3000 non-null   float64\n",
      " 2   Cancer Present  3000 non-null   int64  \n",
      "dtypes: float64(2), int64(1)\n",
      "memory usage: 70.4 KB\n"
     ]
    }
   ],
   "source": [
    "df.info()"
   ]
  },
  {
   "cell_type": "code",
   "execution_count": null,
   "metadata": {
    "id": "0ftt_WTHAnUF",
    "outputId": "8943d726-4f14-4b1d-e2b9-973d21fbf510"
   },
   "outputs": [],
   "source": [
    "df.describe()"
   ]
  },
  {
   "cell_type": "code",
   "execution_count": null,
   "metadata": {
    "id": "158Dbr-WAnUG",
    "outputId": "3fa7c6b2-c1de-4d3c-faf4-df5d173d4601"
   },
   "outputs": [],
   "source": [
    "#EDA \n",
    "sns.scatterplot(x= df['Gene One'], y=df['Gene Two'], hue=df['Cancer Present'])"
   ]
  },
  {
   "cell_type": "code",
   "execution_count": null,
   "metadata": {
    "id": "5F93fhB1AnUG",
    "outputId": "173f531a-80bc-4564-abea-39db4d92c898"
   },
   "outputs": [],
   "source": [
    "#count plot\n",
    "\n",
    "sns.countplot(x= df['Cancer Present'])\n",
    "\n",
    "print(df['Cancer Present'].value_counts())\n",
    "\n",
    "#not baised  #imbalanced dataset "
   ]
  },
  {
   "cell_type": "code",
   "execution_count": null,
   "metadata": {
    "id": "Lz3vSnbTAnUH",
    "outputId": "1f3f9be0-f795-4790-df47-c37bd04ccd69"
   },
   "outputs": [],
   "source": [
    "sns.pairplot(data=df, hue = 'Cancer Present')"
   ]
  },
  {
   "cell_type": "code",
   "execution_count": null,
   "metadata": {
    "id": "geAAPVQiAnUI",
    "outputId": "905f9f98-2e20-4488-9086-1a8444213197"
   },
   "outputs": [],
   "source": [
    "#outlier \n",
    "sns.boxplot(x=df['Gene Two'])"
   ]
  },
  {
   "cell_type": "code",
   "execution_count": null,
   "metadata": {
    "id": "dCD0AvfxAnUI"
   },
   "outputs": [],
   "source": [
    "#split data\n",
    "\n",
    "X  =  df.iloc[:,:-1]\n",
    "\n",
    "y  = df.iloc[:,-1]\n",
    " \n",
    "\n"
   ]
  },
  {
   "cell_type": "code",
   "execution_count": null,
   "metadata": {
    "id": "F0ZoEQYSAnUJ"
   },
   "outputs": [],
   "source": [
    "#import train and test model\n",
    "\n",
    "from sklearn.model_selection import train_test_split"
   ]
  },
  {
   "cell_type": "code",
   "execution_count": null,
   "metadata": {
    "id": "3wmampWSAnUJ"
   },
   "outputs": [],
   "source": [
    "#get x train and y train\n",
    "X_train, X_test, y_train, y_test = train_test_split(X, y, test_size=0.20, random_state=10)\n",
    "X_train.shape , X_test.shape , y_train.shape , y_test.shape"
   ]
  },
  {
   "cell_type": "code",
   "execution_count": null,
   "metadata": {
    "id": "x_dOjxtZAnUJ"
   },
   "outputs": [],
   "source": [
    "#preprocess your data\n",
    "from sklearn.preprocessing import StandardScaler\n"
   ]
  },
  {
   "cell_type": "code",
   "execution_count": null,
   "metadata": {
    "id": "E8ehqm85AnUK"
   },
   "outputs": [],
   "source": [
    "scaler =   StandardScaler()  #initialize standard scaler\n",
    "\n",
    "X_train_scaled  =  scaler.fit_transform(X_train)\n",
    "\n",
    "X_test_scaled = scaler.transform(X_test)     "
   ]
  },
  {
   "cell_type": "code",
   "execution_count": null,
   "metadata": {
    "id": "Hl2d9k2lAnUK"
   },
   "outputs": [],
   "source": [
    "from sklearn.neighbors import KNeighborsClassifier"
   ]
  },
  {
   "cell_type": "code",
   "execution_count": null,
   "metadata": {
    "id": "OGIUpmNZAnUK"
   },
   "outputs": [],
   "source": [
    "model   =  KNeighborsClassifier(n_neighbors=13)  #initialize model"
   ]
  },
  {
   "cell_type": "code",
   "execution_count": null,
   "metadata": {
    "id": "7dbSxKwYAnUK",
    "outputId": "f8bede16-85dd-4544-d739-8c155ee2d2b0"
   },
   "outputs": [],
   "source": [
    "model.fit(X_train_scaled , y_train) #training model   # data + algorithm --> model "
   ]
  },
  {
   "cell_type": "code",
   "execution_count": null,
   "metadata": {
    "id": "ZqHz03O5AnUL"
   },
   "outputs": [],
   "source": [
    "#predict on test data\n",
    "y_predict =  model.predict(X_test_scaled)\n"
   ]
  },
  {
   "cell_type": "code",
   "execution_count": null,
   "metadata": {
    "id": "UUdjzAGqAnUM"
   },
   "outputs": [],
   "source": [
    "#classification metrics\n",
    "\n",
    "from sklearn.metrics import accuracy_score , recall_score , precision_score , f1_score, confusion_matrix\n",
    "\n"
   ]
  },
  {
   "cell_type": "code",
   "execution_count": null,
   "metadata": {
    "id": "N8jz3VTdAnUM",
    "outputId": "c7d2e01e-fcca-4188-e76d-cb5aaab3a04d"
   },
   "outputs": [],
   "source": [
    "#accuarcy of model\n",
    "\n",
    "print(\"accuarcy score:\",accuracy_score(y_true=y_test, y_pred=y_predict))\n",
    "print(\"recall:\",recall_score(y_test , y_predict))\n",
    "print(\"precision:\", precision_score(y_test, y_predict))\n",
    "print(\"f score:\", f1_score(y_test, y_predict))\n",
    "print(\"confusion  matrix :\\n\", confusion_matrix(y_test, y_predict))"
   ]
  },
  {
   "cell_type": "code",
   "execution_count": null,
   "metadata": {
    "id": "c51NEgS1AnUN",
    "outputId": "d1637a60-1f15-43a0-dcb7-5baaa2afe701"
   },
   "outputs": [],
   "source": [
    "pd.crosstab(y_test, y_predict)"
   ]
  },
  {
   "cell_type": "markdown",
   "metadata": {},
   "source": [
    "### Find optimal number of K"
   ]
  },
  {
   "cell_type": "code",
   "execution_count": null,
   "metadata": {
    "id": "b81gC11pAnUN",
    "outputId": "bdfe0a7b-c8bf-438e-abd2-c417f5400ed5"
   },
   "outputs": [],
   "source": []
  },
  {
   "cell_type": "code",
   "execution_count": null,
   "metadata": {
    "id": "0UKsNoiNAnUO"
   },
   "outputs": [],
   "source": []
  }
 ],
 "metadata": {
  "colab": {
   "name": "KNN.ipynb",
   "provenance": []
  },
  "kernelspec": {
   "display_name": "Python 3",
   "language": "python",
   "name": "python3"
  },
  "language_info": {
   "codemirror_mode": {
    "name": "ipython",
    "version": 3
   },
   "file_extension": ".py",
   "mimetype": "text/x-python",
   "name": "python",
   "nbconvert_exporter": "python",
   "pygments_lexer": "ipython3",
   "version": "3.8.5"
  }
 },
 "nbformat": 4,
 "nbformat_minor": 1
}
