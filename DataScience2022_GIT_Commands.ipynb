{
 "cells": [
  {
   "cell_type": "markdown",
   "metadata": {},
   "source": [
    "### GIT Commands\n"
   ]
  },
  {
   "cell_type": "code",
   "execution_count": null,
   "metadata": {},
   "outputs": [],
   "source": [
    "\n",
    "# GIT INIT\n",
    "It is used to create an empty Git repository. After the git init command is used, a .git folder is created in the directory with some subdirectories. \n",
    "# GIT COMMIT\n",
    "This command makes sure that the changes are saved to local repository\n",
    "# GIT STATUS\n",
    "This command tells the current state of the repository\n",
    "# GIT CONFIG\n",
    "This command is used initially to configure the user.name and user.email\n",
    "# GIT BRANCH\n",
    "This is used to determine which branch the local repository is on\n",
    "# GIT Checkout\n",
    "This is used to switch branches whenever the work has to be started on a different branch\n",
    "# GIT Merge\n",
    "This is used to integrate the branches together\n",
    "# GIT Remote\n",
    "This is used to create, view and delete connections to other repositories\n",
    "# GIT Clone\n",
    "This is used to create a local working copy of an existing remote repository\n",
    "# GIT Pull\n",
    "This is used to fetch and merge changes from remote repository to the local repository\n",
    "# GIT Push\n",
    "This is used to transfer the commits or pushing the content from the local repository to remote repository\n"
   ]
  }
 ],
 "metadata": {
  "kernelspec": {
   "display_name": "Python 3",
   "language": "python",
   "name": "python3"
  },
  "language_info": {
   "codemirror_mode": {
    "name": "ipython",
    "version": 3
   },
   "file_extension": ".py",
   "mimetype": "text/x-python",
   "name": "python",
   "nbconvert_exporter": "python",
   "pygments_lexer": "ipython3",
   "version": "3.8.5"
  }
 },
 "nbformat": 4,
 "nbformat_minor": 4
}
