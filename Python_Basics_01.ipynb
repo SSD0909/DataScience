{
 "cells": [
  {
   "cell_type": "code",
   "execution_count": null,
   "metadata": {
    "id": "mm2gl5NZ7eF6",
    "outputId": "d4030b20-df58-4f53-c738-9bacb5ff9943"
   },
   "outputs": [
    {
     "name": "stdout",
     "output_type": "stream",
     "text": [
      "Hello, world!\n"
     ]
    }
   ],
   "source": [
    "print(\"Hello, world!\")"
   ]
  },
  {
   "cell_type": "code",
   "execution_count": null,
   "metadata": {
    "id": "XI6hCOfB7eF-"
   },
   "outputs": [],
   "source": []
  },
  {
   "cell_type": "code",
   "execution_count": null,
   "metadata": {
    "id": "xV0ZV8_77eF-"
   },
   "outputs": [],
   "source": []
  },
  {
   "cell_type": "markdown",
   "metadata": {
    "id": "nbxA3ASb7eF_"
   },
   "source": [
    "\"Chandni\""
   ]
  },
  {
   "cell_type": "code",
   "execution_count": null,
   "metadata": {
    "id": "pJ5Kb5337eGA",
    "outputId": "da3d2d50-96b1-4d83-cee0-25d639133f46"
   },
   "outputs": [
    {
     "data": {
      "text/plain": [
       "'/Users/chandinisingh/Bedata/Classes-Notebooks/Python-Programming'"
      ]
     },
     "execution_count": 7,
     "metadata": {},
     "output_type": "execute_result"
    }
   ],
   "source": [
    "# Import the os module\n",
    "import os\n",
    "os.getcwd()"
   ]
  },
  {
   "cell_type": "markdown",
   "metadata": {
    "id": "Vh0H5h577eGC"
   },
   "source": [
    "## Keywords and Identifiers"
   ]
  },
  {
   "cell_type": "markdown",
   "metadata": {
    "id": "k6j31en07eGD"
   },
   "source": [
    "There are 33 keywords in Python 3.7. This number can vary slightly over the course of time.\n",
    "\n",
    "All the keywords except True, False and None are in lowercase and they must be written as they are. The list of all the keywords is given below.\n",
    "\n",
    "False\tawait\telse\timport\tpass\n",
    "None\tbreak\texcept\tin\traise\n",
    "True\tclass\tfinally\tis\treturn\n",
    "and\tcontinue\tfor\tlambda\ttry\n",
    "as\tdef\tfrom\tnonlocal\twhile\n",
    "assert\tdel\tglobal\tnot\twith\n",
    "async\telif\tif\tor\tyield"
   ]
  },
  {
   "cell_type": "markdown",
   "metadata": {
    "id": "67y15OEY7eGE"
   },
   "source": [
    "Python Identifiers\n",
    "\n",
    "An identifier is a name given to entities like class, functions, variables, etc. It helps to differentiate one entity from another."
   ]
  },
  {
   "cell_type": "markdown",
   "metadata": {
    "id": "Fhg4x7717eGF"
   },
   "source": [
    "Python is a case-sensitive language. This means, Variable and variable are not the same.\n",
    "\n",
    "Always give the identifiers a name that makes sense. While c = 10 is a valid name, writing count = 10 would make more sense, and it would be easier to figure out what it represents when you look at your code after a long gap.\n",
    "\n",
    "Multiple words can be separated using an underscore, like this_is_a_long_variable."
   ]
  },
  {
   "cell_type": "markdown",
   "metadata": {
    "id": "-98GR9E57eGG"
   },
   "source": [
    "## Python Statement"
   ]
  },
  {
   "cell_type": "markdown",
   "metadata": {
    "id": "ZEmBiYUA7eGG"
   },
   "source": [
    "Instructions that a Python interpreter can execute are called statements. For example, a = 1 is an assignment statement. if statement, for statement, while statement, etc. "
   ]
  },
  {
   "cell_type": "code",
   "execution_count": null,
   "metadata": {
    "id": "W72_E8no7eGH",
    "outputId": "570eae76-6d9d-4f06-a390-b1d6506345b1"
   },
   "outputs": [
    {
     "data": {
      "text/plain": [
       "'test'"
      ]
     },
     "execution_count": 7,
     "metadata": {},
     "output_type": "execute_result"
    }
   ],
   "source": [
    "a = 'test'\n",
    "a\n"
   ]
  },
  {
   "cell_type": "markdown",
   "metadata": {
    "id": "nRy6jBST7eGH"
   },
   "source": [
    "## Multi-line statement"
   ]
  },
  {
   "cell_type": "code",
   "execution_count": null,
   "metadata": {
    "id": "yl7Ijz7E7eGH",
    "outputId": "301b6115-bcad-45db-f1af-d08ff187b290"
   },
   "outputs": [
    {
     "data": {
      "text/plain": [
       "45"
      ]
     },
     "execution_count": 8,
     "metadata": {},
     "output_type": "execute_result"
    }
   ],
   "source": [
    "a = 1 + 2 + 3 + \\\n",
    "    4 + 5 + 6 + \\\n",
    "    7 + 8 + 9\n",
    "a"
   ]
  },
  {
   "cell_type": "markdown",
   "metadata": {
    "id": "KyvK97uu7eGI"
   },
   "source": [
    "This is an explicit line continuation. In Python, line continuation is implied inside parentheses ( ), brackets [ ], and braces { }. For instance, we can implement the above multi-line statement as:"
   ]
  },
  {
   "cell_type": "code",
   "execution_count": null,
   "metadata": {
    "id": "1tL4ACXd7eGI",
    "outputId": "881b96ee-453d-4f18-c9c1-60694cc2b201"
   },
   "outputs": [
    {
     "data": {
      "text/plain": [
       "45"
      ]
     },
     "execution_count": 9,
     "metadata": {},
     "output_type": "execute_result"
    }
   ],
   "source": [
    "a = (1 + 2 + 3 +\n",
    "    4 + 5 + 6 +\n",
    "    7 + 8 + 9)\n",
    "a"
   ]
  },
  {
   "cell_type": "code",
   "execution_count": null,
   "metadata": {
    "id": "QGWtV0Wv7eGI",
    "outputId": "5788787c-7f99-4ee7-a103-fd136a4dd8d5"
   },
   "outputs": [
    {
     "name": "stdout",
     "output_type": "stream",
     "text": [
      "red\n",
      "['red', 'blue', 'green']\n"
     ]
    }
   ],
   "source": [
    "colors = ['red',\n",
    "          'blue',\n",
    "          'green']\n",
    "\n",
    "print(colors[0])\n",
    "\n",
    "#list_1 = [1, 2, 'x']\n",
    "\n",
    "print(colors)"
   ]
  },
  {
   "cell_type": "code",
   "execution_count": null,
   "metadata": {
    "id": "XWI-Wa107eGJ",
    "outputId": "6b1d1a5d-09c3-4ac2-f603-b3728b73c310"
   },
   "outputs": [
    {
     "data": {
      "text/plain": [
       "1"
      ]
     },
     "execution_count": 15,
     "metadata": {},
     "output_type": "execute_result"
    }
   ],
   "source": [
    "a = 1; b = 2; c = 3\n",
    "a\n",
    "# b\n",
    "#c"
   ]
  },
  {
   "cell_type": "markdown",
   "metadata": {
    "id": "VM-3JSVE7eGJ"
   },
   "source": [
    "## Python Indentation"
   ]
  },
  {
   "cell_type": "markdown",
   "metadata": {
    "id": "p3JBmlaF7eGJ"
   },
   "source": [
    "\n",
    "Most of the programming languages like C, C++, and Java use braces { } to define a block of code. Python, however, uses indentation.\n",
    "\n",
    "A code block (body of a function, loop, etc.) starts with indentation and ends with the first unindented line. The amount of indentation is up to you, but it must be consistent throughout that block.\n",
    "\n",
    "Generally, four whitespaces are used for indentation and are preferred over tabs. Here is an example."
   ]
  },
  {
   "cell_type": "code",
   "execution_count": null,
   "metadata": {
    "id": "wiqPafwM7eGJ",
    "outputId": "6286223c-a582-4967-8c41-200a67e56729"
   },
   "outputs": [
    {
     "name": "stdout",
     "output_type": "stream",
     "text": [
      "1\n",
      "end loop\n",
      "2\n",
      "end loop\n",
      "3\n",
      "end loop\n",
      "4\n",
      "end loop\n",
      "5\n"
     ]
    }
   ],
   "source": [
    "\n",
    "for i in range(1,11):\n",
    "    print(i)\n",
    "    if i == 5:\n",
    "        print(\"chandini\")\n",
    "        i =  i *5\n",
    "        if i == 10:\n",
    "            print(\"chandini\")\n",
    "            i =  i *5\n",
    "\n",
    "        break\n",
    "        \n",
    "    print('end loop')"
   ]
  },
  {
   "cell_type": "code",
   "execution_count": null,
   "metadata": {
    "id": "HTZ38qE-7eGK",
    "outputId": "d53d3942-1eae-4cd8-c08c-a9e915308deb"
   },
   "outputs": [
    {
     "name": "stdout",
     "output_type": "stream",
     "text": [
      "1\n",
      "chandni\n",
      "2\n",
      "chandni\n",
      "3\n",
      "chandni\n",
      "4\n",
      "chandni\n",
      "5\n",
      "chandni\n"
     ]
    }
   ],
   "source": [
    "for i in range(1,11):\n",
    "    print(i)\n",
    "    print('chandni')\n",
    "    if i == 5:\n",
    "        break"
   ]
  },
  {
   "cell_type": "markdown",
   "metadata": {
    "id": "s8t1H8-B7eGK"
   },
   "source": [
    "Indentation can be ignored in line continuation, but it's always a good idea to indent. It makes the code more readable. For example:\n"
   ]
  },
  {
   "cell_type": "code",
   "execution_count": null,
   "metadata": {
    "id": "fDz77-XI7eGK"
   },
   "outputs": [],
   "source": [
    "if True:\n",
    "    print('Hello')\n",
    "a = 5\n"
   ]
  },
  {
   "cell_type": "code",
   "execution_count": null,
   "metadata": {
    "id": "F1Ux3g7z7eGL"
   },
   "outputs": [],
   "source": [
    "if True: print('Hello'); a = 5"
   ]
  },
  {
   "cell_type": "markdown",
   "metadata": {
    "id": "AeupfV4o7eGL"
   },
   "source": [
    "both are valid and do the same thing, but the former style is clearer.\n",
    "\n",
    "Incorrect indentation will result in IndentationError."
   ]
  },
  {
   "cell_type": "markdown",
   "metadata": {
    "id": "Qc7Ljds77eGL"
   },
   "source": [
    "## Python Comments\n"
   ]
  },
  {
   "cell_type": "markdown",
   "metadata": {
    "id": "GTnFZUxf7eGL"
   },
   "source": [
    "Python Comments\n",
    "Comments are very important while writing a program. They describe what is going on inside a program, so that a person looking at the source code does not have a hard time figuring it out.\n",
    "\n",
    "You might forget the key details of the program you just wrote in a month's time. So taking the time to explain these concepts in the form of comments is always fruitful.\n",
    "\n",
    "In Python, we use the hash (#) symbol to start writing a comment.\n",
    "\n",
    "It extends up to the newline character. Comments are for programmers to better understand a program. Python Interpreter ignores comments."
   ]
  },
  {
   "cell_type": "code",
   "execution_count": null,
   "metadata": {
    "id": "buubojn47eGL"
   },
   "outputs": [],
   "source": [
    "#This is a comment\n",
    "#print out Hello\n",
    "print('Hello')"
   ]
  },
  {
   "cell_type": "markdown",
   "metadata": {
    "id": "NoFsSx_E7eGM"
   },
   "source": [
    "## Multi-line comments\n"
   ]
  },
  {
   "cell_type": "markdown",
   "metadata": {
    "id": "fUsLdffl7eGM"
   },
   "source": [
    "\n",
    "We can have comments that extend up to multiple lines. One way is to use the hash(#) symbol at the beginning of each line. For example:"
   ]
  },
  {
   "cell_type": "code",
   "execution_count": null,
   "metadata": {
    "id": "F06cBBqY7eGM"
   },
   "outputs": [],
   "source": [
    "# This is a long comment\n",
    "# and it extends\n",
    "# to multiple lines\n"
   ]
  },
  {
   "cell_type": "markdown",
   "metadata": {
    "id": "rpqK_HcC7eGM"
   },
   "source": [
    "Another way of doing this is to use triple quotes, either ''' or \"\"\".\n",
    "\n",
    "These triple quotes are generally used for multi-line strings. But they can be used as a multi-line comment as well. Unless they are not docstrings, they do not generate any extra code.\n",
    "\n"
   ]
  },
  {
   "cell_type": "code",
   "execution_count": null,
   "metadata": {
    "id": "7_YdyufK7eGM"
   },
   "outputs": [],
   "source": [
    "\"\"\"This is also a\n",
    "perfect example of\n",
    "multi-line comments\"\"\""
   ]
  },
  {
   "cell_type": "markdown",
   "metadata": {
    "id": "zcUmwj8v7eGM"
   },
   "source": [
    "## Docstrings in Python "
   ]
  },
  {
   "cell_type": "markdown",
   "metadata": {
    "id": "I9cP2uT67eGM"
   },
   "source": [
    "A docstring is short for documentation string.\n",
    "\n",
    "Python docstrings (documentation strings) are the string literals that appear right after the definition of a function, method, class, or module.\n",
    "\n",
    "Triple quotes are used while writing docstrings. For example:"
   ]
  },
  {
   "cell_type": "code",
   "execution_count": null,
   "metadata": {
    "id": "gh0mXduc7eGN"
   },
   "outputs": [],
   "source": [
    "def double(num):\n",
    "    \"\"\"Function to double the value\"\"\"\n",
    "    return 2*num"
   ]
  },
  {
   "cell_type": "markdown",
   "metadata": {
    "id": "ZaEoKQfh7eGN"
   },
   "source": [
    "Docstrings appear right after the definition of a function, class, or a module. This separates docstrings from multiline comments using triple quotes.\n",
    "\n",
    "The docstrings are associated with the object as their __doc__ attribute.\n",
    "\n",
    "So, we can access the docstrings of the above function with the following lines of code:"
   ]
  },
  {
   "cell_type": "code",
   "execution_count": null,
   "metadata": {
    "id": "QkKphPfh7eGN",
    "outputId": "799347e4-0cae-4eb7-8575-189d8c13c860"
   },
   "outputs": [
    {
     "name": "stdout",
     "output_type": "stream",
     "text": [
      "Function to double the value\n"
     ]
    }
   ],
   "source": [
    "def double(num):\n",
    "    \"\"\"Function to double the value\"\"\"\n",
    "    return 2*num\n",
    "print(double.__doc__)\n",
    "\n"
   ]
  },
  {
   "cell_type": "markdown",
   "metadata": {
    "id": "M3xgsxNh7eGN"
   },
   "source": [
    "## Python Variables, Constants and Literals\n",
    " "
   ]
  },
  {
   "cell_type": "markdown",
   "metadata": {
    "id": "4EQiqO_j7eGN"
   },
   "source": [
    "## Python Variables"
   ]
  },
  {
   "cell_type": "markdown",
   "metadata": {
    "id": "MdZU4NYu7eGO"
   },
   "source": [
    "\n",
    "A variable is a named location used to store data in the memory. It is helpful to think of variables as a container that holds data that can be changed later in the program. For example,\n",
    "\n"
   ]
  },
  {
   "cell_type": "code",
   "execution_count": null,
   "metadata": {
    "id": "L6Vvs5747eGO",
    "outputId": "c3007c99-51a5-4fb9-ea82-23729b8cfe2d"
   },
   "outputs": [
    {
     "data": {
      "text/plain": [
       "10"
      ]
     },
     "execution_count": 19,
     "metadata": {},
     "output_type": "execute_result"
    }
   ],
   "source": [
    "number = 10\n",
    "number"
   ]
  },
  {
   "cell_type": "markdown",
   "metadata": {
    "id": "f_xUe1J87eGO"
   },
   "source": [
    "Here, we have created a variable named number. We have assigned the value 10 to the variable.\n",
    "\n",
    "You can think of variables as a bag to store books in it and that book can be replaced at any time."
   ]
  },
  {
   "cell_type": "code",
   "execution_count": null,
   "metadata": {
    "id": "FYdSryt27eGO",
    "outputId": "6decca66-9c3a-4932-bcaa-160d5eab6213"
   },
   "outputs": [
    {
     "data": {
      "text/plain": [
       "'x'"
      ]
     },
     "execution_count": 20,
     "metadata": {},
     "output_type": "execute_result"
    }
   ],
   "source": [
    "number = 10\n",
    "number = 1.1\n",
    "number = 'x'\n",
    "number"
   ]
  },
  {
   "cell_type": "markdown",
   "metadata": {
    "id": "9F2u8vpt7eGO"
   },
   "source": [
    "Note: In Python, we don't actually assign values to the variables. Instead, Python gives the reference of the object(value) to the variable."
   ]
  },
  {
   "cell_type": "markdown",
   "metadata": {
    "id": "PnjhNoW07eGO"
   },
   "source": [
    "Assigning values to Variables in Python\n",
    "As you can see from the above example, you can use the assignment operator = to assign a value to a variable.\n",
    "\n",
    "Example 1: Declaring and assigning value to a variable\n"
   ]
  },
  {
   "cell_type": "code",
   "execution_count": null,
   "metadata": {
    "id": "496H1z0y7eGO",
    "outputId": "674892cb-d517-45f7-ec2d-795d6b92623a"
   },
   "outputs": [
    {
     "name": "stdout",
     "output_type": "stream",
     "text": [
      "apple.com\n"
     ]
    }
   ],
   "source": [
    "website = \"apple.com\"\n",
    "print(website)"
   ]
  },
  {
   "cell_type": "markdown",
   "metadata": {
    "id": "YWanmU9L7eGP"
   },
   "source": [
    "Note: Python is a type-inferred language, so you don't have to explicitly define the variable type. It automatically knows that apple.com is a string and declares the website variable as a string."
   ]
  },
  {
   "cell_type": "markdown",
   "metadata": {
    "id": "GyORmgvL7eGP"
   },
   "source": [
    "Example 2: Changing the value of a variable"
   ]
  },
  {
   "cell_type": "code",
   "execution_count": null,
   "metadata": {
    "id": "T0mxUBnH7eGP"
   },
   "outputs": [],
   "source": [
    "website = \"apple.com\"\n",
    "print(website)\n",
    "\n",
    "# assigning a new variable to website\n",
    "website = \"programiz.com\"\n",
    "\n",
    "print(website)"
   ]
  },
  {
   "cell_type": "markdown",
   "metadata": {
    "id": "suVi1nNv7eGP"
   },
   "source": [
    "Example 3: Assigning multiple values to multiple variables"
   ]
  },
  {
   "cell_type": "code",
   "execution_count": null,
   "metadata": {
    "id": "DJzsZI4D7eGP",
    "outputId": "fb07d7ef-175c-495b-eb67-c530409002c6"
   },
   "outputs": [
    {
     "name": "stdout",
     "output_type": "stream",
     "text": [
      "51\n",
      "3.2\n",
      "Hello\n"
     ]
    }
   ],
   "source": [
    "a, b, c = 51, 3.2, \"Hello\"\n",
    "\n",
    "print (a)\n",
    "print (b)\n",
    "print (c)"
   ]
  },
  {
   "cell_type": "markdown",
   "metadata": {
    "id": "4NqaikQB7eGP"
   },
   "source": [
    "If we want to assign the same value to multiple variables at once, we can do this as:"
   ]
  },
  {
   "cell_type": "code",
   "execution_count": null,
   "metadata": {
    "id": "yqnqe2mS7eGP",
    "outputId": "419e402c-5183-491c-e00d-e50241a856ca"
   },
   "outputs": [
    {
     "name": "stdout",
     "output_type": "stream",
     "text": [
      "10\n",
      "10\n",
      "10 10\n"
     ]
    }
   ],
   "source": [
    "x = y = z = 10\n",
    "\n",
    "print (x)\n",
    "print (y)\n",
    "print (z, x)"
   ]
  },
  {
   "cell_type": "markdown",
   "metadata": {
    "id": "Wxjz1o6Z7eGQ"
   },
   "source": [
    "## Constants "
   ]
  },
  {
   "cell_type": "markdown",
   "metadata": {
    "id": "pn5NaHZZ7eGQ"
   },
   "source": [
    "A constant is a type of variable whose value cannot be changed. It is helpful to think of constants as containers that hold information which cannot be changed later.\n",
    "\n",
    "You can think of constants as a bag to store some books which cannot be replaced once placed inside the bag.\n",
    "\n"
   ]
  },
  {
   "cell_type": "markdown",
   "metadata": {
    "id": "ePpb1DzV7eGQ"
   },
   "source": [
    "Assigning value to constant in Python\n",
    "\n",
    "In Python, constants are usually declared and assigned in a module. Here, the module is a new file containing variables, functions, etc which is imported to the main file. Inside the module, constants are written in all capital letters and underscores separating the words."
   ]
  },
  {
   "cell_type": "markdown",
   "metadata": {
    "id": "qy_UQCQ57eGQ"
   },
   "source": [
    "Example 3: Declaring and assigning value to a constant\n",
    "Create a constant.py:"
   ]
  },
  {
   "cell_type": "code",
   "execution_count": null,
   "metadata": {
    "id": "WsAZEsTn7eGR",
    "outputId": "1ff6e132-128f-4f51-fbeb-99868417456c"
   },
   "outputs": [
    {
     "name": "stdout",
     "output_type": "stream",
     "text": [
      "3.14\n"
     ]
    }
   ],
   "source": [
    "PI = 3.14\n",
    "print(PI )\n",
    "GRAVITY = 9.8"
   ]
  },
  {
   "cell_type": "markdown",
   "metadata": {
    "id": "suWvjEtK7eGR"
   },
   "source": [
    "Create a main.py:"
   ]
  },
  {
   "cell_type": "code",
   "execution_count": null,
   "metadata": {
    "id": "_k2N2GEB7eGR"
   },
   "outputs": [],
   "source": [
    "#import constant\n",
    "\n",
    "# print(constant.PI)\n",
    "# print(constant.GRAVITY)"
   ]
  },
  {
   "cell_type": "markdown",
   "metadata": {
    "id": "_ZYdqC5M7eGR"
   },
   "source": [
    "In the above program, we create a constant.py module file. Then, we assign the constant value to PI and GRAVITY. After that, we create a main.py file and import the constant module. Finally, we print the constant value.\n",
    "\n",
    "Note: In reality, we don't use constants in Python. Naming them in all capital letters is a convention to separate them from variables, however, it does not actually prevent reassignment.\n",
    "\n"
   ]
  },
  {
   "cell_type": "markdown",
   "metadata": {
    "id": "aPxgaRQq7eGR"
   },
   "source": [
    "Rules and Naming Convention for Variables and constants\n",
    "Constant and variable names should have a combination of letters in lowercase (a to z) or uppercase (A to Z) or digits (0 to 9) or an underscore (_). For example:\n",
    "snake_case\n",
    "MACRO_CASE\n",
    "camelCase\n",
    "CapWords\n",
    "Create a name that makes sense. For example, vowel makes more sense than v.\n",
    "If you want to create a variable name having two words, use underscore to separate them. For example:\n",
    "my_name\n",
    "current_salary\n",
    "Use capital letters possible to declare a constant. For example:\n",
    "PI\n",
    "G\n",
    "MASS\n",
    "SPEED_OF_LIGHT\n",
    "TEMP\n",
    "Never use special symbols like !, @, #, $, %, etc.\n",
    "Don't start a variable name with a digit.\n"
   ]
  },
  {
   "cell_type": "markdown",
   "metadata": {
    "id": "wKKsWtnt7eGR"
   },
   "source": [
    "## Literals "
   ]
  },
  {
   "cell_type": "markdown",
   "metadata": {
    "id": "PFLI2wtX7eGR"
   },
   "source": [
    "Literal is a raw data given in a variable or constant. In Python, there are various types of literals they are as follows:"
   ]
  },
  {
   "cell_type": "markdown",
   "metadata": {
    "id": "_0WI9iJ-7eGS"
   },
   "source": [
    "Numeric Literals\n",
    "Numeric Literals are immutable (unchangeable). Numeric literals can belong to 3 different numerical types: Integer, Float, and Complex."
   ]
  },
  {
   "cell_type": "markdown",
   "metadata": {
    "id": "dsetQssc7eGS"
   },
   "source": [
    "Example 4: How to use Numeric literals in Python?"
   ]
  },
  {
   "cell_type": "code",
   "execution_count": null,
   "metadata": {
    "id": "ydCLNglw7eGS",
    "outputId": "dc1437a0-7737-4dec-988c-aa01b4ac9037"
   },
   "outputs": [
    {
     "name": "stdout",
     "output_type": "stream",
     "text": [
      "10 100 200 300\n",
      "10.5 150.0\n",
      "3.14j 3.14 0.0\n"
     ]
    }
   ],
   "source": [
    "a = 0b1010 #Binary Literals\n",
    "b = 100 #Decimal Literal \n",
    "c = 0o310 #Octal Literal\n",
    "d = 0x12c #Hexadecimal Literal\n",
    "\n",
    "#Float Literal\n",
    "float_1 = 10.5 \n",
    "float_2 = 1.5e2\n",
    "\n",
    "#Complex Literal \n",
    "x = 3.14j\n",
    "\n",
    "print(a, b, c, d)\n",
    "print(float_1, float_2)\n",
    "print(x, x.imag, x.real)"
   ]
  },
  {
   "cell_type": "markdown",
   "metadata": {
    "id": "SBlhJh-57eGS"
   },
   "source": [
    "## String literals"
   ]
  },
  {
   "cell_type": "markdown",
   "metadata": {
    "id": "cT5fw-Y-7eGS"
   },
   "source": [
    "A string literal is a sequence of characters surrounded by quotes. We can use both single, double, or triple quotes for a string. And, a character literal is a single character surrounded by single or double quotes."
   ]
  },
  {
   "cell_type": "code",
   "execution_count": null,
   "metadata": {
    "id": "xO-ry7vL7eGS",
    "outputId": "217d4939-f289-40e7-9e6d-668e7eac9e41",
    "scrolled": true
   },
   "outputs": [
    {
     "name": "stdout",
     "output_type": "stream",
     "text": [
      "This is Python\n",
      "C\n",
      "This is a multiline string with more than one line code.\n",
      "Ünicöde\n",
      "raw \\n string\n"
     ]
    }
   ],
   "source": [
    "strings = \"This is Python\"\n",
    "char = \"C\"\n",
    "multiline_str = \"\"\"This is a multiline string with \n",
    "more than one line code.\"\"\"\n",
    "unicode = u\"\\u00dcnic\\u00f6de\"\n",
    "raw_str = r\"raw \\n string\"\n",
    "\n",
    "print(strings)\n",
    "print(char)\n",
    "print(multiline_str)\n",
    "print(unicode)\n",
    "print(raw_str)"
   ]
  },
  {
   "cell_type": "markdown",
   "metadata": {
    "id": "PEzNh1Jv7eGT"
   },
   "source": [
    "## Boolean literals "
   ]
  },
  {
   "cell_type": "code",
   "execution_count": null,
   "metadata": {
    "id": "4PxNUF857eGT",
    "outputId": "1280cd50-0bb2-4b74-b55b-77bb76e10abb"
   },
   "outputs": [
    {
     "name": "stdout",
     "output_type": "stream",
     "text": [
      "True\n"
     ]
    }
   ],
   "source": [
    "x = (1 == True)\n",
    "print(x)\n",
    "\n",
    "#x == True\n",
    "\n",
    "# z == True\n",
    "# z = True\n",
    "# z   \n",
    "#print(z)\n",
    "# y = (1 == False)\n",
    "# a = True + 4\n",
    "# b = False + 10\n",
    "\n",
    "# print(\"x is\", x)\n",
    "# print(\"y is\", y)\n",
    "# print(\"a:\", a)\n",
    "# print(\"b:\", b)\n",
    "\n",
    "# x = 5\n",
    "# print(x)\n",
    "# type(x)\n",
    "#print(x)"
   ]
  },
  {
   "cell_type": "markdown",
   "metadata": {
    "id": "M3o-apXP7eGT"
   },
   "source": [
    "## Special literals"
   ]
  },
  {
   "cell_type": "markdown",
   "metadata": {
    "id": "kRiojrFg7eGT"
   },
   "source": [
    "Python contains one special literal i.e. None. We use it to specify that the field has not been created."
   ]
  },
  {
   "cell_type": "code",
   "execution_count": null,
   "metadata": {
    "id": "rWkodtaw7eGT",
    "outputId": "6a359f43-fa72-4cae-e830-b4e892387ee8"
   },
   "outputs": [
    {
     "name": "stdout",
     "output_type": "stream",
     "text": [
      "None\n"
     ]
    }
   ],
   "source": [
    "drink = \"Available\"\n",
    "food = None\n",
    "\n",
    "def menu(x):\n",
    "    if x == drink:\n",
    "        print(drink)\n",
    "    else:\n",
    "        print(food)\n",
    "\n",
    "#menu(drink)\n",
    "menu(food)"
   ]
  },
  {
   "cell_type": "markdown",
   "metadata": {
    "id": "hf2IRi1U7eGU"
   },
   "source": [
    "## Literal Collections"
   ]
  },
  {
   "cell_type": "markdown",
   "metadata": {
    "id": "JQRgwZI47eGU"
   },
   "source": [
    "There are four different literal collections List literals, Tuple literals, Dict literals, and Set literals."
   ]
  },
  {
   "cell_type": "code",
   "execution_count": null,
   "metadata": {
    "id": "LLP_GYRr7eGV",
    "outputId": "6a0b3f59-cc73-48a0-c6c1-47716df13517"
   },
   "outputs": [
    {
     "name": "stdout",
     "output_type": "stream",
     "text": [
      "dictionary apple\n",
      "apple\n",
      "abc\n",
      "['apple', 'mango', 'orange']\n",
      "(1, 2, 3)\n",
      "{'a': 'apple', 'b': 'ball', 'c': 'cat'}\n",
      "{'a', 'i', 'o', 'e', 'u'}\n"
     ]
    }
   ],
   "source": [
    "fruits = [\"apple\", \"mango\", 'orange'] #list\n",
    "\n",
    "\n",
    "\n",
    "numbers = (1, 2, 3) #tuple\n",
    "\n",
    "alphabets = {'a':'apple', 'b':'ball', 'c':'cat'} #dictionary\n",
    "print(\"dictionary\" ,alphabets['a'])\n",
    "\n",
    "vowels = {'a', 'e', 'i' , 'o', 'u'} #set\n",
    "\n",
    "print(fruits[0])\n",
    "\n",
    "x = \"abc\"\n",
    "print(x)\n",
    "print(fruits)\n",
    "print(numbers)\n",
    "print(alphabets)\n",
    "print(vowels)"
   ]
  },
  {
   "cell_type": "markdown",
   "metadata": {
    "id": "97KHc0G57eGV"
   },
   "source": [
    "## Python Data Types"
   ]
  },
  {
   "cell_type": "markdown",
   "metadata": {
    "id": "HI-fC4i47eGW"
   },
   "source": [
    "### Data types in Python:\n",
    "\n",
    "Every value in Python has a datatype. Since everything is an object in Python programming, data types are actually classes and variables are instance (object) of these classes.\n",
    "\n",
    "There are various data types in Python. Some of the important types are listed below.\n",
    "\n"
   ]
  },
  {
   "cell_type": "markdown",
   "metadata": {
    "id": "R9nEZkYr7eGW"
   },
   "source": [
    "Integers, floating point numbers and complex numbers fall under Python numbers category. They are defined as int, float and complex classes in Python.\n",
    "\n",
    "\n",
    "We can use the type() function to know which class a variable or a value belongs to. Similarly, the isinstance() function is used to check if an object belongs to a particular class.\n",
    "\n",
    "Integers can be of any length, it is only limited by the memory available.\n",
    "\n",
    "A floating-point number is accurate up to 15 decimal places. Integer and floating points are separated by decimal points. 1 is an integer, 1.0 is a floating-point number.\n",
    "\n",
    "Complex numbers are written in the form, x + yj, where x is the real part and y is the imaginary part. Here are some examples.\n",
    "\n",
    "\n"
   ]
  },
  {
   "cell_type": "code",
   "execution_count": null,
   "metadata": {
    "id": "-4N7YBT47eGW",
    "outputId": "0ab6b7b5-b379-4989-ebff-8b85a3e49708"
   },
   "outputs": [
    {
     "name": "stdout",
     "output_type": "stream",
     "text": [
      "5 is of type <class 'int'>\n",
      "2.0 is of type <class 'float'>\n",
      "(1+2j) is of type <class 'complex'>\n",
      "(1+2j) is complex number? False\n"
     ]
    }
   ],
   "source": [
    "a = 5\n",
    "print(a, \"is of type\", type(a))\n",
    "\n",
    "a = 2.0\n",
    "print(a, \"is of type\", type(a))\n",
    "\n",
    "a = 1+2j\n",
    "print(a, \"is of type\", type(a))\n",
    "print(a, \"is complex number?\", isinstance(1+2j,int))"
   ]
  },
  {
   "cell_type": "markdown",
   "metadata": {
    "id": "I-1Y3EMs7eGX"
   },
   "source": [
    "## Python List"
   ]
  },
  {
   "cell_type": "markdown",
   "metadata": {
    "id": "RgrI3ewN7eGX"
   },
   "source": [
    "List is an ordered sequence of items. \n",
    "\n",
    "It is one of the most used datatype in Python and is very flexible. \n",
    "\n",
    "All the items in a list do not need to be of the same type.\n",
    "\n",
    "Declaring a list is pretty straight forward. Items separated by commas are enclosed within brackets [ ].\n",
    "\n"
   ]
  },
  {
   "cell_type": "code",
   "execution_count": null,
   "metadata": {
    "id": "vIWSEgCU7eGX",
    "outputId": "8aabe43b-f792-4d1a-9cf1-00854d4be64d"
   },
   "outputs": [
    {
     "name": "stdout",
     "output_type": "stream",
     "text": [
      "a = list()--> []\n",
      "a = []--> []\n"
     ]
    }
   ],
   "source": [
    "a = list()\n",
    "print (\"a = list()-->\",a)\n",
    "\n",
    "a = []\n",
    "print (\"a = []-->\",a)\n"
   ]
  },
  {
   "cell_type": "markdown",
   "metadata": {
    "id": "cN_5j2vx7eGY"
   },
   "source": [
    "Accessing elements of the list "
   ]
  },
  {
   "cell_type": "code",
   "execution_count": null,
   "metadata": {
    "id": "DJM0nd1c7eGY",
    "outputId": "d8519c69-0afa-413b-a5a1-ffac62a98a71"
   },
   "outputs": [
    {
     "name": "stdout",
     "output_type": "stream",
     "text": [
      "[1, 2.2, 'python']\n",
      "[1, 2.2, 'python', 'x']\n",
      "python\n",
      "1\n",
      "x\n"
     ]
    }
   ],
   "source": [
    "\n",
    "a = [1, 2.2, 'python']\n",
    "print(a)\n",
    "\n",
    "a.append('x')\n",
    "\n",
    "print(a)\n",
    "print(a[2])\n",
    "print(a[0])\n",
    "print(a[3])"
   ]
  },
  {
   "cell_type": "markdown",
   "metadata": {
    "id": "wlcjeUrQ7eGY"
   },
   "source": [
    "We can use the slicing operator [ ] to extract an item or a range of items from a list. The index starts from 0 in Python.\n",
    "\n",
    "### a[start : end : step]"
   ]
  },
  {
   "cell_type": "code",
   "execution_count": null,
   "metadata": {
    "id": "_4DCQaWk7eGY",
    "outputId": "6e6d0507-574e-4110-ef33-0df2e3f467c1"
   },
   "outputs": [
    {
     "name": "stdout",
     "output_type": "stream",
     "text": [
      "a[2]-----> =  15\n",
      "a[:3]-----> [5, 10, 15]\n",
      "a[0:3]-----> =  [5, 10, 15]\n",
      "a[0:]-----> =  [5, 10, 15]\n"
     ]
    }
   ],
   "source": [
    "\n",
    "\n",
    "a = [5, 10, 15]\n",
    "print(\"a[2]-----> = \", a[2])\n",
    "print(\"a[:3]----->\",a[:3])\n",
    "print(\"a[0:3]-----> = \", a[0:3])\n",
    "print(\"a[0:]-----> = \", a[0:])\n",
    "\n"
   ]
  },
  {
   "cell_type": "code",
   "execution_count": null,
   "metadata": {
    "id": "vAO9STfe7eGY",
    "outputId": "0d80429f-201a-4e22-a17a-731877c508c8"
   },
   "outputs": [
    {
     "name": "stdout",
     "output_type": "stream",
     "text": [
      "a[0:5]-----> =  [5, 10, 15]\n",
      " a[5:9]-----> =  []\n"
     ]
    }
   ],
   "source": [
    "a = [5, 10, 15]\n",
    "print(\"a[0:5]-----> = \", a[0:5])\n",
    "\n",
    "a = [5, 10, 15]\n",
    "print(\" a[5:9]-----> = \", a[5:9])"
   ]
  },
  {
   "cell_type": "code",
   "execution_count": null,
   "metadata": {
    "id": "UjvqS6yx7eGY",
    "outputId": "4af7cec1-4861-4eb8-85eb-44f024d813a2"
   },
   "outputs": [
    {
     "name": "stdout",
     "output_type": "stream",
     "text": [
      " a[:9]-----> =  [5, 10, 15]\n"
     ]
    },
    {
     "ename": "IndexError",
     "evalue": "list index out of range",
     "output_type": "error",
     "traceback": [
      "\u001b[0;31m---------------------------------------------------------------------------\u001b[0m",
      "\u001b[0;31mIndexError\u001b[0m                                Traceback (most recent call last)",
      "\u001b[0;32m<ipython-input-39-7b3b367effa5>\u001b[0m in \u001b[0;36m<module>\u001b[0;34m\u001b[0m\n\u001b[1;32m      1\u001b[0m \u001b[0ma\u001b[0m \u001b[0;34m=\u001b[0m \u001b[0;34m[\u001b[0m\u001b[0;36m5\u001b[0m\u001b[0;34m,\u001b[0m \u001b[0;36m10\u001b[0m\u001b[0;34m,\u001b[0m \u001b[0;36m15\u001b[0m\u001b[0;34m]\u001b[0m\u001b[0;34m\u001b[0m\u001b[0;34m\u001b[0m\u001b[0m\n\u001b[1;32m      2\u001b[0m \u001b[0mprint\u001b[0m\u001b[0;34m(\u001b[0m\u001b[0;34m\" a[:9]-----> = \"\u001b[0m\u001b[0;34m,\u001b[0m \u001b[0ma\u001b[0m\u001b[0;34m[\u001b[0m\u001b[0;34m:\u001b[0m\u001b[0;36m9\u001b[0m\u001b[0;34m]\u001b[0m\u001b[0;34m)\u001b[0m\u001b[0;34m\u001b[0m\u001b[0;34m\u001b[0m\u001b[0m\n\u001b[0;32m----> 3\u001b[0;31m \u001b[0mprint\u001b[0m\u001b[0;34m(\u001b[0m\u001b[0;34m\" a[9]-----> = \"\u001b[0m\u001b[0;34m,\u001b[0m \u001b[0ma\u001b[0m\u001b[0;34m[\u001b[0m\u001b[0;36m9\u001b[0m\u001b[0;34m]\u001b[0m\u001b[0;34m)\u001b[0m\u001b[0;34m\u001b[0m\u001b[0;34m\u001b[0m\u001b[0m\n\u001b[0m",
      "\u001b[0;31mIndexError\u001b[0m: list index out of range"
     ]
    }
   ],
   "source": [
    "a = [5, 10, 15]\n",
    "print(\" a[:9]-----> = \", a[:9])\n",
    "print(\" a[9]-----> = \", a[9])\n"
   ]
  },
  {
   "cell_type": "code",
   "execution_count": null,
   "metadata": {
    "id": "zoSbQjoH7eGZ",
    "outputId": "3a9c2c67-76b9-4e2e-fd53-d083694787e6"
   },
   "outputs": [
    {
     "name": "stdout",
     "output_type": "stream",
     "text": [
      "b[2::3]---> [15, 30, 60]\n",
      "b[5:] ----->  [30, 35, 40, 60]\n"
     ]
    }
   ],
   "source": [
    "b = [5,10,15,20,25,30,35,40,60]\n",
    "print(\"b[2::3]--->\",b[2::3])\n",
    "print(\"b[5:] -----> \", b[5:])\n",
    "\n"
   ]
  },
  {
   "cell_type": "markdown",
   "metadata": {
    "id": "fvA3WJuG7eGZ"
   },
   "source": [
    "### negative pos in slicing operator\n",
    "\n",
    "Index -1 represents the last element and -n represents the first element of the list(considering n as the length of the list). Lists can also be manipulated using negative indexes also.\n",
    "\n"
   ]
  },
  {
   "cell_type": "code",
   "execution_count": null,
   "metadata": {
    "id": "4RSmh7GW7eGZ",
    "outputId": "55d6f469-c22c-48c2-8214-cb0dc30a6656"
   },
   "outputs": [
    {
     "name": "stdout",
     "output_type": "stream",
     "text": [
      " a[:-1]-----> =  [5, 10]\n",
      " a[-1]-----> =  15\n"
     ]
    }
   ],
   "source": [
    "a = [5, 10, 15]\n",
    "print(\" a[:-1]-----> = \", a[:-1])\n",
    "print(\" a[-1]-----> = \", a[-1])\n"
   ]
  },
  {
   "cell_type": "code",
   "execution_count": null,
   "metadata": {
    "id": "nlcpidTF7eGZ",
    "outputId": "b8ac4f49-6230-4a4f-8ba3-6abccc018e7d"
   },
   "outputs": [
    {
     "name": "stdout",
     "output_type": "stream",
     "text": [
      " b[:-7]-----> =  40\n",
      " b[-7 : ]-----> =  [40, 50, 60, 70, 80, 90, 100]\n",
      " b[::-1]-----> =  [100, 90, 80, 70, 60, 50, 40, 30, 20, 10]\n"
     ]
    }
   ],
   "source": [
    "b = [10,20,30,40,50,60,70,80,90,100]\n",
    "print(\" b[:-7]-----> = \", b[-7])\n",
    "print(\" b[-7 : ]-----> = \", b[-7 : ])\n",
    "\n",
    "print(\" b[::-1]-----> = \", b[::-1])"
   ]
  },
  {
   "cell_type": "markdown",
   "metadata": {
    "id": "1jibL80U7eGZ"
   },
   "source": [
    "Lists are mutable, meaning, the value of elements of a list can be altered.\n",
    "\n"
   ]
  },
  {
   "cell_type": "code",
   "execution_count": null,
   "metadata": {
    "id": "XVGASrnv7eGZ",
    "outputId": "fa5e74c6-7595-4f56-a476-b8341fdbec9d"
   },
   "outputs": [
    {
     "name": "stdout",
     "output_type": "stream",
     "text": [
      "[1, 2, 4]\n"
     ]
    }
   ],
   "source": [
    "a = [1, 2, 3]\n",
    "a[2] = 4\n",
    "print(a)"
   ]
  },
  {
   "cell_type": "markdown",
   "metadata": {
    "id": "7wEeIlmy7eGZ"
   },
   "source": [
    "## Time complexity \n",
    " Assignment / TBD"
   ]
  },
  {
   "cell_type": "markdown",
   "metadata": {
    "id": "ArKhi9nU7eGa"
   },
   "source": [
    "## Python Tuple"
   ]
  },
  {
   "cell_type": "markdown",
   "metadata": {
    "id": "jvCpkN2Q7eGa"
   },
   "source": [
    "Tuple is an ordered sequence of items same as a list. The only difference is that tuples are immutable. Tuples once created cannot be modified.\n",
    "\n",
    "Tuples are used to write-protect data and are usually faster than lists as they cannot change dynamically.\n",
    "\n",
    "It is defined within parentheses () where items are separated by commas."
   ]
  },
  {
   "cell_type": "code",
   "execution_count": null,
   "metadata": {
    "id": "l3Fgev2W7eGa"
   },
   "outputs": [],
   "source": [
    "t = (5,'program', 1+3j)\n",
    "\n"
   ]
  },
  {
   "cell_type": "code",
   "execution_count": null,
   "metadata": {
    "id": "JwMo1VhB7eGa",
    "outputId": "e1b5dba9-c286-4d3d-c140-9e64f1b80c10"
   },
   "outputs": [
    {
     "name": "stdout",
     "output_type": "stream",
     "text": [
      "t[1] ------------->  program\n",
      "t[0:3] ------->  (5, 'program', (1+3j))\n"
     ]
    }
   ],
   "source": [
    "#We can use the slicing operator [] to extract items but we cannot change its value.\n",
    "\n",
    "t = (5,'program', 1+3j)\n",
    "\n",
    "print(\"t[1] -------------> \", t[1])\n",
    "\n",
    "# t[0:3] = (5, 'program', (1+3j))\n",
    "print(\"t[0:3] -------> \", t[0:3])\n",
    "\n"
   ]
  },
  {
   "cell_type": "code",
   "execution_count": null,
   "metadata": {
    "id": "HF8O-Mn87eGa",
    "outputId": "1b3cc444-9e1d-4778-c11f-d26a894af16e"
   },
   "outputs": [
    {
     "ename": "TypeError",
     "evalue": "'tuple' object does not support item assignment",
     "output_type": "error",
     "traceback": [
      "\u001b[0;31m---------------------------------------------------------------------------\u001b[0m",
      "\u001b[0;31mTypeError\u001b[0m                                 Traceback (most recent call last)",
      "\u001b[0;32m<ipython-input-61-dfb88db5faa2>\u001b[0m in \u001b[0;36m<module>\u001b[0;34m\u001b[0m\n\u001b[1;32m      1\u001b[0m \u001b[0;31m# Generates error\u001b[0m\u001b[0;34m\u001b[0m\u001b[0;34m\u001b[0m\u001b[0;34m\u001b[0m\u001b[0m\n\u001b[1;32m      2\u001b[0m \u001b[0;31m# Tuples are immutable\u001b[0m\u001b[0;34m\u001b[0m\u001b[0;34m\u001b[0m\u001b[0;34m\u001b[0m\u001b[0m\n\u001b[0;32m----> 3\u001b[0;31m \u001b[0mt\u001b[0m\u001b[0;34m[\u001b[0m\u001b[0;36m0\u001b[0m\u001b[0;34m]\u001b[0m \u001b[0;34m=\u001b[0m \u001b[0;36m10\u001b[0m\u001b[0;34m\u001b[0m\u001b[0;34m\u001b[0m\u001b[0m\n\u001b[0m",
      "\u001b[0;31mTypeError\u001b[0m: 'tuple' object does not support item assignment"
     ]
    }
   ],
   "source": [
    "# Generates error\n",
    "# Tuples are immutable\n",
    "t[0] = 10"
   ]
  },
  {
   "cell_type": "markdown",
   "metadata": {
    "id": "dSX3ocuU7eGa"
   },
   "source": [
    "## Python Strings\n"
   ]
  },
  {
   "cell_type": "markdown",
   "metadata": {
    "id": "C89JJOhd7eGa"
   },
   "source": [
    "String is sequence of Unicode characters. We can use single quotes or double quotes to represent strings. Multi-line strings can be denoted using triple quotes, ''' or \"\"\".\n",
    "\n"
   ]
  },
  {
   "cell_type": "code",
   "execution_count": null,
   "metadata": {
    "id": "OAL1GzLt7eGa",
    "outputId": "d86e5aa2-41f5-4469-8522-bc54d2123bc3"
   },
   "outputs": [
    {
     "name": "stdout",
     "output_type": "stream",
     "text": [
      "This is a string\n"
     ]
    }
   ],
   "source": [
    "s = 'This is a string'\n",
    "\n",
    "print(s)\n",
    "\n"
   ]
  },
  {
   "cell_type": "code",
   "execution_count": null,
   "metadata": {
    "id": "aThWmaRR7eGa",
    "outputId": "8ca33431-db5f-4d57-b711-e7b5d4e499e6"
   },
   "outputs": [
    {
     "name": "stdout",
     "output_type": "stream",
     "text": [
      "A multiline\n",
      "string\n"
     ]
    }
   ],
   "source": [
    "s = '''A multiline\n",
    "string'''\n",
    "\n",
    "print(s)"
   ]
  },
  {
   "cell_type": "markdown",
   "metadata": {
    "id": "WpmsailA7eGb"
   },
   "source": [
    "Just like a list and tuple, the slicing operator [ ] can be used with strings. Strings, however, are immutable."
   ]
  },
  {
   "cell_type": "code",
   "execution_count": null,
   "metadata": {
    "id": "Ss3z53tg7eGb",
    "outputId": "b13c3b6d-a709-4e17-ec3e-9657a1455124",
    "scrolled": true
   },
   "outputs": [
    {
     "name": "stdout",
     "output_type": "stream",
     "text": [
      "s[4] ----->  o\n",
      "s[6:11] ----->  world\n"
     ]
    }
   ],
   "source": [
    "s = 'Hello world!'\n",
    "\n",
    "print(\"s[4] -----> \", s[4])\n",
    "\n",
    "print(\"s[6:11] -----> \", s[6:11])\n",
    "\n"
   ]
  },
  {
   "cell_type": "code",
   "execution_count": null,
   "metadata": {
    "id": "bRyEx7nO7eGb",
    "outputId": "b8bb715b-2129-4c5c-a779-826e8c4465ed"
   },
   "outputs": [
    {
     "ename": "TypeError",
     "evalue": "'str' object does not support item assignment",
     "output_type": "error",
     "traceback": [
      "\u001b[0;31m---------------------------------------------------------------------------\u001b[0m",
      "\u001b[0;31mTypeError\u001b[0m                                 Traceback (most recent call last)",
      "\u001b[0;32m<ipython-input-67-56479932d133>\u001b[0m in \u001b[0;36m<module>\u001b[0;34m\u001b[0m\n\u001b[1;32m      1\u001b[0m \u001b[0;31m# Generates error\u001b[0m\u001b[0;34m\u001b[0m\u001b[0;34m\u001b[0m\u001b[0;34m\u001b[0m\u001b[0m\n\u001b[1;32m      2\u001b[0m \u001b[0;31m# Strings are immutable in Python\u001b[0m\u001b[0;34m\u001b[0m\u001b[0;34m\u001b[0m\u001b[0;34m\u001b[0m\u001b[0m\n\u001b[0;32m----> 3\u001b[0;31m \u001b[0ms\u001b[0m\u001b[0;34m[\u001b[0m\u001b[0;36m5\u001b[0m\u001b[0;34m]\u001b[0m \u001b[0;34m=\u001b[0m\u001b[0;34m'd'\u001b[0m\u001b[0;34m\u001b[0m\u001b[0;34m\u001b[0m\u001b[0m\n\u001b[0m",
      "\u001b[0;31mTypeError\u001b[0m: 'str' object does not support item assignment"
     ]
    }
   ],
   "source": [
    "# Generates error\n",
    "# Strings are immutable in Python\n",
    "s[5] ='d'"
   ]
  },
  {
   "cell_type": "markdown",
   "metadata": {
    "id": "rKx-_MEl7eGb"
   },
   "source": [
    "## Python Set\n",
    "Set is an unordered collection of unique items. \n",
    "\n",
    "Set is defined by values separated by comma inside braces { }. Items in a set are not ordered.\n",
    "\n",
    "\n",
    "We can perform set operations like union, intersection on two sets. Sets have unique values. They eliminate duplicates.\n",
    "\n",
    "Since, set are unordered collection, indexing has no meaning. Hence, the slicing operator [] does not work."
   ]
  },
  {
   "cell_type": "code",
   "execution_count": null,
   "metadata": {
    "id": "QruRvr9Q7eGb",
    "outputId": "a14c586e-b151-48cb-aa44-058f5bb6dbca"
   },
   "outputs": [
    {
     "name": "stdout",
     "output_type": "stream",
     "text": [
      "a =  {1, 2, 3, 4, 5}\n",
      "<class 'set'>\n"
     ]
    }
   ],
   "source": [
    "a = {5,2,3,1,4}\n",
    "\n",
    "# printing set variable\n",
    "print(\"a = \", a)\n",
    "\n",
    "# data type of variable a\n",
    "print(type(a))"
   ]
  },
  {
   "cell_type": "code",
   "execution_count": null,
   "metadata": {
    "id": "Mea3kKV27eGb",
    "outputId": "832f8afa-1a97-49e1-8d16-f07f9f597b6c"
   },
   "outputs": [
    {
     "data": {
      "text/plain": [
       "{1, 2, 3, 4, 'A', 'a'}"
      ]
     },
     "execution_count": 70,
     "metadata": {},
     "output_type": "execute_result"
    }
   ],
   "source": [
    "a = {'A','a',2,3,1,4}\n",
    "a"
   ]
  },
  {
   "cell_type": "markdown",
   "metadata": {
    "id": "JYgE16ke7eGc"
   },
   "source": [
    "## Python Dictionary\n",
    "Dictionary is an unordered collection of key-value pairs.\n",
    "\n",
    "It is generally used when we have a huge amount of data. \n",
    "\n",
    "Dictionaries are optimized for retrieving data. We must know the key to retrieve the value.\n",
    "\n",
    "In Python, dictionaries are defined within braces {} with each item being a pair in the form key:value. \n",
    "\n",
    "Key and value can be of any type."
   ]
  },
  {
   "cell_type": "code",
   "execution_count": null,
   "metadata": {
    "id": "NT7uY08I7eGc",
    "outputId": "cd425873-74c8-478a-a6ce-a18128c8f75f"
   },
   "outputs": [
    {
     "data": {
      "text/plain": [
       "{'a': 'Apple', 'b': 'Ball'}"
      ]
     },
     "execution_count": 71,
     "metadata": {},
     "output_type": "execute_result"
    }
   ],
   "source": [
    "\n",
    "\n",
    "d = dict()\n",
    "\n",
    "d = {'a' : 'Apple', 'b' : 'Ball'}\n",
    "\n",
    "type(d)\n",
    "d"
   ]
  },
  {
   "cell_type": "code",
   "execution_count": null,
   "metadata": {
    "id": "EwC9EqNI7eGc",
    "outputId": "0af69ed5-42d3-4283-82b1-3991fa017619"
   },
   "outputs": [
    {
     "name": "stdout",
     "output_type": "stream",
     "text": [
      "<class 'dict'>\n",
      "d['a'] ----->  Apple\n",
      "d['b'] =  Ball\n"
     ]
    }
   ],
   "source": [
    "\n",
    "\n",
    "d = {'a' : 'Apple', 'b' : 'Ball'}\n",
    "\n",
    "print(type(d))\n",
    "\n",
    "print(\"d['a'] -----> \", d['a']);\n",
    "\n",
    "print(\"d['b'] ---------> \", d['b']);\n",
    "\n"
   ]
  },
  {
   "cell_type": "code",
   "execution_count": null,
   "metadata": {
    "id": "bZe-WAzz7eGc",
    "outputId": "fd52e083-06cb-4798-b615-04ab000e87ac"
   },
   "outputs": [
    {
     "name": "stdout",
     "output_type": "stream",
     "text": [
      "d------------------> {'a': 'Apple', 'b': 'Ball', 'B': 'Ball', 1: 'chandni', 5: 500}\n",
      "d------------------> {'a': 'singh', 'b': 'Ball', 'B': 'Ball', 1: 'chandni', 5: 500}\n"
     ]
    }
   ],
   "source": [
    "\n",
    "d = {'a' : 'Apple', 'b' : 'Ball', 'B' : 'Ball', 1 :\"chandni\", 5 : 500}\n",
    "print (\"d------------------>\", d)\n",
    "\n",
    "d ['a'] = \"singh\"  \n",
    "print (\"d------------------>\", d)\n",
    "    "
   ]
  },
  {
   "cell_type": "markdown",
   "metadata": {
    "id": "Y4v75U2s7eGd"
   },
   "source": [
    "## Conversion between data types\n",
    "\n",
    "We can convert between different data types by using different type conversion functions like int(), float(), str(), etc."
   ]
  },
  {
   "cell_type": "code",
   "execution_count": null,
   "metadata": {
    "id": "4FtOGfnU7eGd",
    "outputId": "1ad4a3fb-5330-4dc2-bd97-6a4794ed3fbc"
   },
   "outputs": [
    {
     "data": {
      "text/plain": [
       "5.0"
      ]
     },
     "execution_count": 54,
     "metadata": {},
     "output_type": "execute_result"
    }
   ],
   "source": [
    "float(5)"
   ]
  },
  {
   "cell_type": "code",
   "execution_count": null,
   "metadata": {
    "id": "vjJbZ6es7eGe",
    "outputId": "d0277c1d-a404-439d-ebe7-f4b7ffe80046"
   },
   "outputs": [
    {
     "data": {
      "text/plain": [
       "10"
      ]
     },
     "execution_count": 55,
     "metadata": {},
     "output_type": "execute_result"
    }
   ],
   "source": [
    "int(10.6)"
   ]
  },
  {
   "cell_type": "markdown",
   "metadata": {
    "id": "T2tuHluX7eGe"
   },
   "source": [
    "Conversion to and from string must contain compatible values."
   ]
  },
  {
   "cell_type": "code",
   "execution_count": null,
   "metadata": {
    "id": "8QHT17iP7eGe",
    "outputId": "a37e5d40-6298-4c1a-9995-f8f8b2665b61"
   },
   "outputs": [
    {
     "name": "stdout",
     "output_type": "stream",
     "text": [
      "2.5\n",
      "25\n"
     ]
    },
    {
     "ename": "ValueError",
     "evalue": "invalid literal for int() with base 10: 'x'",
     "output_type": "error",
     "traceback": [
      "\u001b[0;31m---------------------------------------------------------------------------\u001b[0m",
      "\u001b[0;31mValueError\u001b[0m                                Traceback (most recent call last)",
      "\u001b[0;32m<ipython-input-58-e0bba045335d>\u001b[0m in \u001b[0;36m<module>\u001b[0;34m\u001b[0m\n\u001b[1;32m      1\u001b[0m \u001b[0mprint\u001b[0m\u001b[0;34m(\u001b[0m\u001b[0mfloat\u001b[0m\u001b[0;34m(\u001b[0m\u001b[0;34m'2.5'\u001b[0m\u001b[0;34m)\u001b[0m\u001b[0;34m)\u001b[0m\u001b[0;34m\u001b[0m\u001b[0;34m\u001b[0m\u001b[0m\n\u001b[1;32m      2\u001b[0m \u001b[0mprint\u001b[0m\u001b[0;34m(\u001b[0m\u001b[0mstr\u001b[0m\u001b[0;34m(\u001b[0m\u001b[0;36m25\u001b[0m\u001b[0;34m)\u001b[0m\u001b[0;34m)\u001b[0m\u001b[0;34m\u001b[0m\u001b[0;34m\u001b[0m\u001b[0m\n\u001b[0;32m----> 3\u001b[0;31m \u001b[0mprint\u001b[0m\u001b[0;34m(\u001b[0m\u001b[0mint\u001b[0m\u001b[0;34m(\u001b[0m\u001b[0;34m'x'\u001b[0m\u001b[0;34m)\u001b[0m\u001b[0;34m)\u001b[0m\u001b[0;34m\u001b[0m\u001b[0;34m\u001b[0m\u001b[0m\n\u001b[0m\u001b[1;32m      4\u001b[0m \u001b[0;34m\u001b[0m\u001b[0m\n",
      "\u001b[0;31mValueError\u001b[0m: invalid literal for int() with base 10: 'x'"
     ]
    }
   ],
   "source": [
    "print(float('2.5'))\n",
    "print(str(25))\n",
    "print(int('x'))\n",
    "\n"
   ]
  },
  {
   "cell_type": "markdown",
   "metadata": {
    "id": "7ZWDJXBS7eGe"
   },
   "source": [
    "We can even convert one sequence to another."
   ]
  },
  {
   "cell_type": "code",
   "execution_count": null,
   "metadata": {
    "id": "w7cSgduj7eGe",
    "outputId": "4f329f62-da04-4b11-f65f-c770d31b4d35"
   },
   "outputs": [
    {
     "name": "stdout",
     "output_type": "stream",
     "text": [
      "{1, 2, 3}\n",
      "(5, 6, 7)\n",
      "['h', 'e', 'l', 'l', 'o']\n"
     ]
    }
   ],
   "source": [
    "print(set([1,2,3]))\n",
    "\n",
    "print(tuple({5,6,7})) \n",
    "(5, 6, 7)\n",
    "print(list('hello'))\n"
   ]
  },
  {
   "cell_type": "markdown",
   "metadata": {
    "id": "6SKOABKW7eGe"
   },
   "source": [
    "To convert to dictionary, each element must be a pair:"
   ]
  },
  {
   "cell_type": "code",
   "execution_count": null,
   "metadata": {
    "id": "A1_FRfA_7eGe",
    "outputId": "f63a5ffc-785c-4c22-f1fb-95cd3e457d17"
   },
   "outputs": [
    {
     "name": "stdout",
     "output_type": "stream",
     "text": [
      "{1: 2, 3: 4}\n",
      "{3: 26, 4: 44}\n"
     ]
    }
   ],
   "source": [
    "print(dict([[1,2],[3,4]]))\n",
    "\n",
    "\n",
    "print(dict([(3,26),(4,44)]))"
   ]
  },
  {
   "cell_type": "markdown",
   "metadata": {
    "id": "_kXGiPzg7eGf"
   },
   "source": [
    "## python output, input, import"
   ]
  },
  {
   "cell_type": "code",
   "execution_count": null,
   "metadata": {
    "id": "1wyLPLiN7eGf",
    "outputId": "111f7b01-4899-478a-9dc8-639b04cde2f4"
   },
   "outputs": [
    {
     "name": "stdout",
     "output_type": "stream",
     "text": [
      "1 2 3 4\n",
      "1*2*3*4\n",
      "1#2#3#4&\n",
      "\n",
      "my name is \n",
      " chandni\n"
     ]
    }
   ],
   "source": [
    "print(1, 2, 3, 4)\n",
    "print(1, 2, 3, 4, sep='*')\n",
    "print(1, 2, 3, 4, sep='#', end='&')\n",
    "print('\\n')\n",
    "name = 'chandni'\n",
    "print(\"my name is \\n\", name)"
   ]
  },
  {
   "cell_type": "code",
   "execution_count": null,
   "metadata": {
    "id": "L-FzEbBY7eGf",
    "outputId": "5b323f5b-7658-4e4c-a20a-4dadff3e8f22"
   },
   "outputs": [
    {
     "name": "stdout",
     "output_type": "stream",
     "text": [
      "Enter a number: 10\n"
     ]
    }
   ],
   "source": [
    "num = input('Enter a number: ')\n",
    "num = int(num) "
   ]
  },
  {
   "cell_type": "code",
   "execution_count": null,
   "metadata": {
    "id": "kRMNWANx7eGf",
    "outputId": "58fa8e35-eb35-4a41-d42c-d0fa3216e8d4"
   },
   "outputs": [
    {
     "data": {
      "text/plain": [
       "int"
      ]
     },
     "execution_count": 76,
     "metadata": {},
     "output_type": "execute_result"
    }
   ],
   "source": [
    "type(num)"
   ]
  },
  {
   "cell_type": "code",
   "execution_count": null,
   "metadata": {
    "id": "nze2FFGq7eGf",
    "outputId": "2203dc46-d5d7-4247-be25-2f103f08f450"
   },
   "outputs": [
    {
     "name": "stdout",
     "output_type": "stream",
     "text": [
      "3.141592653589793\n"
     ]
    }
   ],
   "source": [
    "import math\n",
    "print(math.pi)"
   ]
  },
  {
   "cell_type": "code",
   "execution_count": null,
   "metadata": {
    "id": "4HJeUo4F7eGg",
    "outputId": "1ace70e1-4558-438a-c124-21dcf8db436e"
   },
   "outputs": [
    {
     "data": {
      "text/plain": [
       "['',\n",
       " '/Users/chandinisingh/anaconda3/lib/python36.zip',\n",
       " '/Users/chandinisingh/anaconda3/lib/python3.6',\n",
       " '/Users/chandinisingh/anaconda3/lib/python3.6/lib-dynload',\n",
       " '/Users/chandinisingh/anaconda3/lib/python3.6/site-packages',\n",
       " '/Users/chandinisingh/anaconda3/lib/python3.6/site-packages/aeosa',\n",
       " '/Users/chandinisingh/anaconda3/lib/python3.6/site-packages/torchvision-0.2.1-py3.6.egg',\n",
       " '/Users/chandinisingh/anaconda3/lib/python3.6/site-packages/IPython/extensions',\n",
       " '/Users/chandinisingh/.ipython']"
      ]
     },
     "execution_count": 82,
     "metadata": {},
     "output_type": "execute_result"
    }
   ],
   "source": [
    "import sys\n",
    "sys.path"
   ]
  },
  {
   "cell_type": "code",
   "execution_count": null,
   "metadata": {
    "id": "rCunkMEU7eGg"
   },
   "outputs": [],
   "source": [
    "pandas\n",
    "scikit\n",
    "numpy\n",
    "matplotlib"
   ]
  },
  {
   "cell_type": "markdown",
   "metadata": {
    "id": "ZNDoWQNj7eGg"
   },
   "source": [
    "## Arithmetic operators"
   ]
  },
  {
   "cell_type": "code",
   "execution_count": null,
   "metadata": {
    "id": "Q_OxpHHY7eGg",
    "outputId": "d1555032-163a-41a6-db2b-b5cb57e53a72"
   },
   "outputs": [
    {
     "name": "stdout",
     "output_type": "stream",
     "text": [
      "x + y = 19\n",
      "x - y = 11\n",
      "x * y = 60\n",
      "x / y = 3.75\n",
      "x // y = 3\n",
      "x ** y = 50625\n"
     ]
    }
   ],
   "source": [
    "x = 15\n",
    "y = 4\n",
    "\n",
    "# Output: x + y = 19\n",
    "print('x + y =',x+y)\n",
    "\n",
    "# Output: x - y = 11\n",
    "print('x - y =',x-y)\n",
    "\n",
    "# Output: x * y = 60\n",
    "print('x * y =',x*y)\n",
    "\n",
    "# Output: x / y = 3.75\n",
    "print('x / y =',x/y)\n",
    "\n",
    "# Output: x // y = 3\n",
    "print('x // y =',x//y)\n",
    "\n",
    "# Output: x ** y = 50625\n",
    "print('x ** y =',x**y)\n",
    "\n"
   ]
  },
  {
   "cell_type": "markdown",
   "metadata": {
    "id": "Lw7_yUpB7eGh"
   },
   "source": [
    "## comparision "
   ]
  },
  {
   "cell_type": "code",
   "execution_count": null,
   "metadata": {
    "id": "-2m5nq-D7eGh",
    "outputId": "4ed4cd3b-526c-4f45-cbc2-f43347f022b5"
   },
   "outputs": [
    {
     "name": "stdout",
     "output_type": "stream",
     "text": [
      "x > y is False\n",
      "x < y is True\n",
      "x == y is False\n",
      "x != y is True\n",
      "x >= y is False\n",
      "x <= y is True\n"
     ]
    }
   ],
   "source": [
    "x = 10\n",
    "y = 12\n",
    "\n",
    "# Output: x > y is False\n",
    "print('x > y is',x>y)\n",
    "\n",
    "# Output: x < y is True\n",
    "print('x < y is',x<y)\n",
    "\n",
    "# Output: x == y is False\n",
    "print('x == y is',x==y)\n",
    "\n",
    "# Output: x != y is True\n",
    "print('x != y is',x!=y)\n",
    "\n",
    "# Output: x >= y is False\n",
    "print('x >= y is',x>=y)\n",
    "\n",
    "# Output: x <= y is True\n",
    "print('x <= y is',x<=y)"
   ]
  },
  {
   "cell_type": "markdown",
   "metadata": {
    "id": "_g7j4PRD7eGh"
   },
   "source": [
    "## logical "
   ]
  },
  {
   "cell_type": "code",
   "execution_count": null,
   "metadata": {
    "id": "ilfoIU5f7eGh"
   },
   "outputs": [],
   "source": []
  },
  {
   "cell_type": "code",
   "execution_count": null,
   "metadata": {
    "id": "KT8me9HK7eGh",
    "outputId": "f999d096-8461-440b-f7fb-725fafc20f7c"
   },
   "outputs": [
    {
     "name": "stdout",
     "output_type": "stream",
     "text": [
      "x and y is False\n",
      "x or y is True\n",
      "not x is False\n"
     ]
    }
   ],
   "source": [
    "x = True\n",
    "y = False\n",
    "\n",
    "\n",
    "\n",
    "print('x and y is',x and y)\n",
    "\n",
    "print('x or y is',x or y)\n",
    "\n",
    "print('not x is', not x)"
   ]
  },
  {
   "cell_type": "code",
   "execution_count": null,
   "metadata": {
    "id": "ZMBBJj9e7eGh"
   },
   "outputs": [],
   "source": [
    "## identidity operator"
   ]
  },
  {
   "cell_type": "code",
   "execution_count": null,
   "metadata": {
    "id": "dfmmTBLA7eGi",
    "outputId": "f1c465cf-47df-4a29-cdf8-46b91e4cce85"
   },
   "outputs": [
    {
     "name": "stdout",
     "output_type": "stream",
     "text": [
      "x1, y1---------> 5 5\n",
      "id(x1), id(y1)---------> 4520691152 4520691152\n",
      "x1, y1---------> 5 5\n",
      "x1 is y1, ---------> True\n"
     ]
    }
   ],
   "source": [
    "x1 = 5\n",
    "y1 = 5\n",
    "\n",
    "\n",
    "print(\"x1, y1--------->\",x1, y1)\n",
    "print(\"id(x1), id(y1)--------->\",id(x1), id(y1))\n",
    "\n",
    "print(\"x1, y1--------->\",x1, y1)\n",
    "print(\"x1 is y1, --------->\",x1 is y1)\n",
    "\n"
   ]
  },
  {
   "cell_type": "code",
   "execution_count": null,
   "metadata": {
    "id": "4PKfaP5x7eGi",
    "outputId": "83e6609c-5709-4c48-e0ad-f9b08ea8c171"
   },
   "outputs": [
    {
     "name": "stdout",
     "output_type": "stream",
     "text": [
      "x2, y2---------> Hello Hello\n",
      "id(x2), id(y2)---------> 140572932656128 140572932656128\n",
      "x2, y2---------> Hello Hello\n",
      "x2 is y2, ---------> True\n"
     ]
    }
   ],
   "source": [
    "\n",
    "x2 = 'Hello'\n",
    "y2 = 'Hello'\n",
    "\n",
    "print(\"x2, y2--------->\",x2, y2)\n",
    "print(\"id(x2), id(y2)--------->\",id(x2), id(y2))\n",
    "\n",
    "print(\"x2, y2--------->\",x2, y2)\n",
    "print(\"x2 is y2, --------->\",x2 is y2)\n",
    "\n"
   ]
  },
  {
   "cell_type": "code",
   "execution_count": null,
   "metadata": {
    "id": "6ZOoSmUY7eGi",
    "outputId": "00977906-dc0e-41f3-e32b-c2520798c96f"
   },
   "outputs": [
    {
     "name": "stdout",
     "output_type": "stream",
     "text": [
      "x3, y3---------> [1, 2, 3] [1, 2, 3]\n",
      "id(x3), id(y3)---------> 140572932433352 140572932453000\n",
      "x3, y3---------> [1, 2, 3] [1, 2, 3]\n",
      "x3 is y3, ---------> False\n"
     ]
    }
   ],
   "source": [
    "x3 = [1,2,3]\n",
    "y3 = [1,2,3]\n",
    "\n",
    "print(\"x3, y3--------->\",x3, y3)\n",
    "print(\"id(x3), id(y3)--------->\",id(x3), id(y3))\n",
    "\n",
    "\n",
    "print(\"x3, y3--------->\",x3, y3)\n",
    "print(\"x3 is y3, --------->\",x3 is y3)"
   ]
  },
  {
   "cell_type": "markdown",
   "metadata": {
    "id": "WfokdOwf7eGi"
   },
   "source": [
    "Identity operators compare the memory locations of two objects. There are two Identity operators as explained below −\n",
    "\n",
    "\n",
    "<div>\n",
    "<img src=\"attachment:is-operator.png\" width=\"600\"/>\n",
    "</div>"
   ]
  },
  {
   "cell_type": "markdown",
   "metadata": {
    "id": "omeLkGFp7eGi"
   },
   "source": [
    "Membership operators in Python"
   ]
  },
  {
   "cell_type": "code",
   "execution_count": null,
   "metadata": {
    "id": "Fmr6dH2j7eGj",
    "outputId": "a4295e25-fd8b-4f2d-8302-bd9f0b693789"
   },
   "outputs": [
    {
     "name": "stdout",
     "output_type": "stream",
     "text": [
      "False\n"
     ]
    }
   ],
   "source": [
    "x = 'Hello world'\n",
    "y = {1:'a',2:'b'}\n",
    "\n",
    "# # Output: True\n",
    "print('Z' in x)"
   ]
  },
  {
   "cell_type": "code",
   "execution_count": null,
   "metadata": {
    "id": "Ja9ASF4H7eGj",
    "outputId": "73e15af5-01d4-41ce-b322-8e5799e890c3"
   },
   "outputs": [
    {
     "name": "stdout",
     "output_type": "stream",
     "text": [
      "True\n",
      "False\n"
     ]
    }
   ],
   "source": [
    "\n",
    "# # Output: True\n",
    "print(1 in y)\n",
    "\n",
    "# # Output: False\n",
    "print('a' in y)"
   ]
  },
  {
   "cell_type": "markdown",
   "metadata": {
    "id": "c4Iv54bn7eGj"
   },
   "source": [
    "Python’s membership operators test for membership in a sequence, such as strings, lists, or tuples. There are two membership operators as explained below \n",
    "\n",
    "\n",
    "<div>\n",
    "<img src=\"attachment:in%20operator.png\" width=\"600\"/>\n",
    "</div>\n"
   ]
  },
  {
   "cell_type": "markdown",
   "metadata": {
    "id": "YA4GvyY67eGk"
   },
   "source": [
    "## python flow control"
   ]
  },
  {
   "cell_type": "code",
   "execution_count": null,
   "metadata": {
    "id": "VFPpb-nM7eGk",
    "outputId": "9e9e0b38-f209-4fa9-f092-84bba48775a0"
   },
   "outputs": [
    {
     "name": "stdout",
     "output_type": "stream",
     "text": [
      "3 is a positive number.\n",
      "This is always printed.\n",
      "This is also always printed.\n"
     ]
    }
   ],
   "source": [
    "# If the number is positive, we print an appropriate message\n",
    "\n",
    "num = 3\n",
    "if num > 0:\n",
    "    print(num, \"is a positive number.\")\n",
    "print(\"This is always printed.\")\n",
    "\n",
    "num = -1\n",
    "if num > 0:\n",
    "    print(num, \"is a positive number.\")\n",
    "print(\"This is also always printed.\")"
   ]
  },
  {
   "cell_type": "code",
   "execution_count": null,
   "metadata": {
    "id": "38BEg5lo7eGk",
    "outputId": "6ab4d879-ada7-427b-ccfd-927197457df4"
   },
   "outputs": [
    {
     "name": "stdout",
     "output_type": "stream",
     "text": [
      "Negative number\n"
     ]
    }
   ],
   "source": [
    "# And displays an appropriate message\n",
    "\n",
    "num = 3\n",
    "\n",
    "# Try these two variations as well. \n",
    "num = -5\n",
    "# num = 0\n",
    "\n",
    "if num >= 0:\n",
    "    print(\"Positive or Zero\")\n",
    "else:\n",
    "    print(\"Negative number\")"
   ]
  },
  {
   "cell_type": "code",
   "execution_count": null,
   "metadata": {
    "id": "CXxRLwfS7eGl",
    "outputId": "f8f68cdb-817d-416d-ec1b-a54eecb5b2ba"
   },
   "outputs": [
    {
     "name": "stdout",
     "output_type": "stream",
     "text": [
      "Zero\n"
     ]
    }
   ],
   "source": [
    "'''In this program, \n",
    "we check if the number is positive or\n",
    "negative or zero and \n",
    "display an appropriate message'''\n",
    "\n",
    "# num = 3.4\n",
    "\n",
    "# Try these two variations as well:\n",
    "num = 0\n",
    "# num = -4.5\n",
    "\n",
    "if num > 0:\n",
    "    print(\"Positive number\")\n",
    "elif num == 0:\n",
    "    print(\"Zero\")\n",
    "else:\n",
    "    print(\"Negative number\")"
   ]
  },
  {
   "cell_type": "code",
   "execution_count": null,
   "metadata": {
    "id": "nfdj-bQI7eGl",
    "outputId": "6434881c-d732-4f42-aff8-7fd59c8d50e5"
   },
   "outputs": [
    {
     "name": "stdout",
     "output_type": "stream",
     "text": [
      "Enter a number: 6\n",
      "Positive number\n"
     ]
    }
   ],
   "source": [
    "'''In this program, we input a number\n",
    "check if the number is positive or\n",
    "negative or zero and display\n",
    "an appropriate message\n",
    "This time we use nested if statement'''\n",
    "\n",
    "num = float(input(\"Enter a number: \"))\n",
    "if num >= 0:\n",
    "    if num == 0:\n",
    "        print(\"Zero\")\n",
    "    else:\n",
    "        print(\"Positive number\")\n",
    "else:\n",
    "    print(\"Negative number\")"
   ]
  },
  {
   "cell_type": "markdown",
   "metadata": {
    "id": "1ylcOTGL7eGl"
   },
   "source": [
    "## loop"
   ]
  },
  {
   "cell_type": "code",
   "execution_count": null,
   "metadata": {
    "id": "HGvRN4CL7eGl",
    "outputId": "d3dd4a84-d771-4205-ee35-ac3085956251"
   },
   "outputs": [
    {
     "name": "stdout",
     "output_type": "stream",
     "text": [
      "a\n",
      "b\n",
      "c\n",
      "1\n",
      "2\n",
      "3\n",
      "The sum is 48\n"
     ]
    }
   ],
   "source": [
    "# Program to find the sum of all numbers stored in a list\n",
    "\n",
    "# List of numbers\n",
    "numbers = [6, 5, 3, 8, 4, 2, 5, 4, 11]\n",
    "\n",
    "names = ['a', 'b', 'c', 1, 2, 3]\n",
    "\n",
    "for val in names:\n",
    "    print(val)\n",
    "\n",
    "# variable to store the sum\n",
    "sum = 0\n",
    "\n",
    "# iterate over the list\n",
    "for val in numbers:\n",
    "\tsum = sum+val\n",
    "\n",
    "print(\"The sum is\", sum)\n",
    "\t"
   ]
  },
  {
   "cell_type": "code",
   "execution_count": null,
   "metadata": {
    "id": "3ejPlHgn7eGl",
    "outputId": "6478713b-d494-4fe8-f9b5-53eadd1dfc27"
   },
   "outputs": [
    {
     "name": "stdout",
     "output_type": "stream",
     "text": [
      "range(0, 10)\n",
      "[0, 1, 2, 3, 4, 5, 6, 7, 8, 9]\n",
      "[2, 3, 4, 5, 6, 7]\n",
      "[2, 5, 8, 11, 14, 17]\n"
     ]
    }
   ],
   "source": [
    "## range\n",
    "\n",
    "print(range(10))\n",
    "l[:10]\n",
    "\n",
    "print(list(range(10)))\n",
    "\n",
    "print(list(range(2, 8)))\n",
    "\n",
    "print(list(range(2, 20, 3)))"
   ]
  },
  {
   "cell_type": "code",
   "execution_count": null,
   "metadata": {
    "id": "L1jYqLQe7eGl",
    "outputId": "ca605134-1847-46e5-e349-d85edc304917"
   },
   "outputs": [
    {
     "ename": "SyntaxError",
     "evalue": "invalid syntax (<ipython-input-91-49263f44c905>, line 11)",
     "output_type": "error",
     "traceback": [
      "\u001b[0;36m  File \u001b[0;32m\"<ipython-input-91-49263f44c905>\"\u001b[0;36m, line \u001b[0;32m11\u001b[0m\n\u001b[0;31m    for i in range(len(genre)) --> for i in range (3)  --> for i in [0,1,2]\u001b[0m\n\u001b[0m                                 ^\u001b[0m\n\u001b[0;31mSyntaxError\u001b[0m\u001b[0;31m:\u001b[0m invalid syntax\n"
     ]
    }
   ],
   "source": [
    "# Program to iterate through a list using indexing\n",
    "\n",
    "genre = ['pop', 'rock', 'jazz']\n",
    "\n",
    "# iterate over the list using index\n",
    "\n",
    "for i in range(len(genre)):\n",
    "    print(i)\n",
    "    print(\"I like\", genre[i])\n",
    "\n",
    "for i in range(len(genre)) --> for i in range (3)  --> for i in [0,1,2] \n",
    "\n",
    "for i in [0,1,2]  \n",
    "    genre[0] -- henere[i]\n",
    "    genere[1]\n",
    "    genere[2]\n",
    "    \n",
    "for g in genre :\n",
    "for g in ['pop', 'rock', 'jazz']:\n",
    "    print('pop') -- print(g)\n",
    "    pint(rock)\n",
    "    print(jazz)\n",
    "   "
   ]
  },
  {
   "cell_type": "code",
   "execution_count": null,
   "metadata": {
    "id": "6ta7HTWZ7eGm",
    "outputId": "c3f826f5-a4e5-4473-a75e-57fe14c5667a"
   },
   "outputs": [
    {
     "name": "stdout",
     "output_type": "stream",
     "text": [
      "pop\n",
      "rock\n",
      "jazz\n",
      "No items left.\n"
     ]
    }
   ],
   "source": [
    "\n",
    "digits = ['pop', 'rock', 'jazz']\n",
    "\n",
    "for i in digits:\n",
    "    print(i)\n",
    "else:\n",
    "    print(\"No items left.\")"
   ]
  },
  {
   "cell_type": "code",
   "execution_count": null,
   "metadata": {
    "id": "Z7ns_Ups7eGm",
    "outputId": "9dd80869-8c2a-412c-d0e1-1603682dab63"
   },
   "outputs": [
    {
     "name": "stdout",
     "output_type": "stream",
     "text": [
      "55\n"
     ]
    }
   ],
   "source": [
    "# program to display student's marks from record\n",
    "student_name = 'Jules'\n",
    "\n",
    "marks = {'James': 90, 'Jules': 55, 'Arthur': 77}\n",
    "\n",
    "for student in marks:\n",
    "    if student == student_name:\n",
    "        print(marks[student])\n",
    "        break\n",
    "else:\n",
    "    print('No entry with that name found.')"
   ]
  },
  {
   "cell_type": "code",
   "execution_count": null,
   "metadata": {
    "id": "NEPJHFmY7eGm",
    "outputId": "79f32034-e4af-4df2-f7f6-19c2b770d927"
   },
   "outputs": [
    {
     "name": "stdout",
     "output_type": "stream",
     "text": [
      "The sum is 15\n"
     ]
    }
   ],
   "source": [
    "# Program to add natural\n",
    "# numbers up to \n",
    "# sum = 1+2+3+...+n\n",
    "\n",
    "# To take input from the user,\n",
    "# n = int(input(\"Enter n: \"))\n",
    "\n",
    "n = 5\n",
    "\n",
    "# initialize sum and counter\n",
    "sum = 0\n",
    "i = 1\n",
    "\n",
    "while i <= n:\n",
    "    sum = sum + i\n",
    "    i = i+1    # update counter\n",
    "\n",
    "# print the sum\n",
    "print(\"The sum is\", sum)"
   ]
  },
  {
   "cell_type": "code",
   "execution_count": null,
   "metadata": {
    "id": "3xfcH0gx7eGn",
    "outputId": "b27b4966-ff93-4da2-f5d2-e0adf0a86981"
   },
   "outputs": [
    {
     "name": "stdout",
     "output_type": "stream",
     "text": [
      "Inside loop\n",
      "Inside loop\n",
      "Inside loop\n",
      "outside while\n"
     ]
    }
   ],
   "source": [
    "'''Example to illustrate\n",
    "the use of else statement\n",
    "with the while loop'''\n",
    "\n",
    "counter = 0\n",
    "\n",
    "while counter < 3:\n",
    "    print(\"Inside loop\")\n",
    "    counter = counter + 1\n",
    "else:\n",
    "    print(\"outside while\")"
   ]
  },
  {
   "cell_type": "code",
   "execution_count": null,
   "metadata": {
    "id": "A0sN8N9B7eGn",
    "outputId": "17eee360-8cfd-492d-f4b2-24a788df62d3"
   },
   "outputs": [
    {
     "name": "stdout",
     "output_type": "stream",
     "text": [
      "s\n",
      "t\n",
      "r\n",
      "The end\n"
     ]
    }
   ],
   "source": [
    "# Use of break statement inside the loop\n",
    "\n",
    "for val in \"string\":\n",
    "    if val == \"i\":\n",
    "        break\n",
    "    print(val)\n",
    "\n",
    "print(\"The end\")"
   ]
  },
  {
   "cell_type": "code",
   "execution_count": null,
   "metadata": {
    "id": "PmaozjIq7eGn",
    "outputId": "f043fa6c-17e5-4b0b-a301-bf6a1e3656bc"
   },
   "outputs": [
    {
     "name": "stdout",
     "output_type": "stream",
     "text": [
      "s\n",
      "t\n",
      "r\n",
      "n\n",
      "g\n",
      "The end\n"
     ]
    }
   ],
   "source": [
    "# Program to show the use of continue statement inside loops\n",
    "\n",
    "for val in \"string\":\n",
    "    if val == \"i\":\n",
    "        continue\n",
    "    print(val)\n",
    "\n",
    "print(\"The end\")"
   ]
  },
  {
   "cell_type": "code",
   "execution_count": null,
   "metadata": {
    "id": "kySBGfhk7eGn",
    "outputId": "250080f5-1057-46d5-a00a-7add70616ce8"
   },
   "outputs": [
    {
     "name": "stdout",
     "output_type": "stream",
     "text": [
      "a\n",
      "chandni\n",
      "p\n",
      "chandni\n",
      "s\n",
      "chandni\n"
     ]
    }
   ],
   "source": [
    "'''pass is just a placeholder for\n",
    "functionality to be added later.'''\n",
    "sequence = {'p', 'a', 's', 's'}\n",
    "for val in sequence:\n",
    "    print(val)\n",
    "    pass\n",
    "    print(\"chandni\")"
   ]
  },
  {
   "cell_type": "markdown",
   "metadata": {
    "id": "euOR_YjC7eGn"
   },
   "source": [
    "def function_name(parameters):\n",
    "\t\"\"\"docstring\"\"\"\n",
    "\tstatement(s)"
   ]
  },
  {
   "cell_type": "code",
   "execution_count": null,
   "metadata": {
    "id": "ZUBtHcEr7eGo",
    "outputId": "d6d16bde-9161-48e7-ed48-02888a11c3c7"
   },
   "outputs": [
    {
     "name": "stdout",
     "output_type": "stream",
     "text": [
      "Hello, chandni. Good morning!\n"
     ]
    }
   ],
   "source": [
    "def greet(name):\n",
    "    \"\"\"\n",
    "    This function greets to\n",
    "    the person passed in as\n",
    "    a parameter\n",
    "    \"\"\"\n",
    "    print(\"Hello, \" + name + \". Good morning!\")\n",
    "\n",
    "greet('chandni')\n",
    "\n"
   ]
  },
  {
   "cell_type": "code",
   "execution_count": null,
   "metadata": {
    "id": "CKiwYZZ87eGo"
   },
   "outputs": [],
   "source": [
    "def greet():\n",
    "    pass\n",
    "greet()\n",
    "    "
   ]
  },
  {
   "cell_type": "code",
   "execution_count": null,
   "metadata": {
    "id": "nMp4dQ0Q7eGo"
   },
   "outputs": [],
   "source": [
    "def "
   ]
  },
  {
   "cell_type": "code",
   "execution_count": null,
   "metadata": {
    "id": "4EI-iisW7eGo",
    "outputId": "0ff799b0-4d36-4dc4-c6d0-ce8a1dcb399d"
   },
   "outputs": [
    {
     "name": "stdout",
     "output_type": "stream",
     "text": [
      "2\n",
      "abc\n"
     ]
    }
   ],
   "source": [
    "def absolute_value(num):\n",
    "    \"\"\"This function returns the absolute\n",
    "    value of the entered number\"\"\"\n",
    "\n",
    "    if num >= 0:\n",
    "        return num, 'abc'\n",
    "    else:\n",
    "        return num\n",
    "\n",
    "ans, ans_str  = absolute_value(2)\n",
    "print(ans)\n",
    "print(ans_str)"
   ]
  },
  {
   "cell_type": "code",
   "execution_count": null,
   "metadata": {
    "id": "LCLGpUN07eGo",
    "outputId": "3c355d5b-a6ec-475b-a453-8163b506e307"
   },
   "outputs": [
    {
     "name": "stdout",
     "output_type": "stream",
     "text": [
      "(2, 'abc')\n",
      "4.3\n"
     ]
    }
   ],
   "source": [
    "print(absolute_value(2))\n",
    "\n",
    "print(absolute_value(-4.3))"
   ]
  },
  {
   "cell_type": "code",
   "execution_count": null,
   "metadata": {
    "id": "NRWIlhLk7eGo",
    "outputId": "a1f7a584-d5ec-436d-ef51-e12f010f5d00"
   },
   "outputs": [
    {
     "name": "stdout",
     "output_type": "stream",
     "text": [
      "Value inside function: 10\n",
      "Value outside function: 20\n"
     ]
    }
   ],
   "source": [
    "def my_func():\n",
    "\tx = 10\n",
    "\tprint(\"Value inside function:\",x)\n",
    "\n",
    "x = 20\n",
    "my_func()\n",
    "print(\"Value outside function:\",x)"
   ]
  },
  {
   "cell_type": "code",
   "execution_count": null,
   "metadata": {
    "id": "NU-v1BBo7eGo"
   },
   "outputs": [],
   "source": []
  },
  {
   "cell_type": "markdown",
   "metadata": {
    "id": "B2vYnkPQ7eGo"
   },
   "source": [
    "## Python Function Arguments\n",
    "In Python, you can define a function that takes variable number of arguments. In this article, you will learn to define such functions using default, keyword and arbitrary arguments."
   ]
  },
  {
   "cell_type": "code",
   "execution_count": null,
   "metadata": {
    "id": "AWgV0SAJ7eGp",
    "outputId": "2bd1b942-9539-445c-ae7b-e5de74ba01c8"
   },
   "outputs": [
    {
     "name": "stdout",
     "output_type": "stream",
     "text": [
      "Hello Monica, Good morning!\n"
     ]
    }
   ],
   "source": [
    "def greet(name, msg):\n",
    "    \"\"\"This function greets to\n",
    "    the person with the provided message\"\"\"\n",
    "    print(\"Hello\", name + ', ' + msg)\n",
    "\n",
    "greet(\"Monica\", \"Good morning!\")"
   ]
  },
  {
   "cell_type": "markdown",
   "metadata": {
    "id": "yWIJn2dM7eGp"
   },
   "source": [
    "Variable Function Arguments"
   ]
  },
  {
   "cell_type": "code",
   "execution_count": null,
   "metadata": {
    "id": "TYG2YIzc7eGp",
    "outputId": "58a2d8e3-d4e7-4ede-ee89-0353e06201f5"
   },
   "outputs": [
    {
     "name": "stdout",
     "output_type": "stream",
     "text": [
      "Hello Bruce, How do you do?\n"
     ]
    }
   ],
   "source": [
    "def greet(name, msg=\"Good morning!\"):\n",
    "    \"\"\"\n",
    "    This function greets to\n",
    "    the person with the\n",
    "    provided message.\n",
    "\n",
    "    If the message is not provided,\n",
    "    it defaults to \"Good\n",
    "    morning!\"\n",
    "    \"\"\"\n",
    "\n",
    "    print(\"Hello\", name + ', ' + msg)\n",
    "\n",
    "\n",
    "#greet(\"Kate\")\n",
    "greet(\"Bruce\", \"How do you do?\")"
   ]
  },
  {
   "cell_type": "markdown",
   "metadata": {
    "id": "8-iceODv7eGp"
   },
   "source": [
    "non-default arguments cannot follow default arguments. For example, if we had defined the function header above as:\n",
    "\n"
   ]
  },
  {
   "cell_type": "code",
   "execution_count": null,
   "metadata": {
    "id": "IdXevc1p7eGp",
    "outputId": "6ec02eaa-c5e9-4e50-cef2-d9c7f583ca91"
   },
   "outputs": [
    {
     "ename": "SyntaxError",
     "evalue": "non-default argument follows default argument (<ipython-input-138-861d2d2771c6>, line 1)",
     "output_type": "error",
     "traceback": [
      "\u001b[0;36m  File \u001b[0;32m\"<ipython-input-138-861d2d2771c6>\"\u001b[0;36m, line \u001b[0;32m1\u001b[0m\n\u001b[0;31m    def greet2(msg = \"Good morning!\", name):\u001b[0m\n\u001b[0m              ^\u001b[0m\n\u001b[0;31mSyntaxError\u001b[0m\u001b[0;31m:\u001b[0m non-default argument follows default argument\n"
     ]
    }
   ],
   "source": [
    "def greet2(msg = \"Good morning!\", name):\n",
    "    pass"
   ]
  },
  {
   "cell_type": "markdown",
   "metadata": {
    "id": "V3tdq8797eGp"
   },
   "source": [
    "## Python Keyword Arguments\n",
    "\n",
    "Python allows functions to be called using keyword arguments. When we call functions in this way, the order (position) of the arguments can be changed. Following calls to the above function are all valid and produce the same result."
   ]
  },
  {
   "cell_type": "code",
   "execution_count": null,
   "metadata": {
    "id": "QVkwSmaV7eGp",
    "outputId": "a001ff97-0037-4c15-8e46-fde9f30153e3"
   },
   "outputs": [
    {
     "name": "stdout",
     "output_type": "stream",
     "text": [
      "Hello Bruce, How do you do?\n",
      "Hello Bruce, How do you do?\n",
      "Hello Bruce, How do you do?\n"
     ]
    }
   ],
   "source": [
    "# 2 keyword arguments\n",
    "greet(name = \"Bruce\",msg = \"How do you do?\")\n",
    "\n",
    "# 2 keyword arguments (out of order)\n",
    "greet(msg = \"How do you do?\",name = \"Bruce\") \n",
    "\n",
    "#1 positional, 1 keyword argument\n",
    "greet(\"Bruce\", msg = \"How do you do?\")        "
   ]
  },
  {
   "cell_type": "markdown",
   "metadata": {
    "id": "4nvk4GuN7eGq"
   },
   "source": [
    "As we can see, we can mix positional arguments with keyword arguments during a function call. But we must keep in mind that keyword arguments must follow positional arguments.\n",
    "\n",
    "Having a positional argument after keyword arguments will result in errors. For example, the function call as follows:"
   ]
  },
  {
   "cell_type": "code",
   "execution_count": null,
   "metadata": {
    "id": "C3CEqJzU7eGq",
    "outputId": "ea3b916a-9087-4d77-df4f-f1653e3eb8a6"
   },
   "outputs": [
    {
     "ename": "SyntaxError",
     "evalue": "positional argument follows keyword argument (<ipython-input-141-088a7395114b>, line 1)",
     "output_type": "error",
     "traceback": [
      "\u001b[0;36m  File \u001b[0;32m\"<ipython-input-141-088a7395114b>\"\u001b[0;36m, line \u001b[0;32m1\u001b[0m\n\u001b[0;31m    greet(name=\"Bruce\",\"How do you do?\")\u001b[0m\n\u001b[0m                      ^\u001b[0m\n\u001b[0;31mSyntaxError\u001b[0m\u001b[0;31m:\u001b[0m positional argument follows keyword argument\n"
     ]
    }
   ],
   "source": [
    "greet(name=\"Bruce\",\"How do you do?\")"
   ]
  },
  {
   "cell_type": "markdown",
   "metadata": {
    "id": "nesXKFOy7eGq"
   },
   "source": [
    "## Python Arbitrary Arguments\n",
    "\n",
    "Sometimes, we do not know in advance the number of arguments that will be passed into a function. Python allows us to handle this kind of situation through function calls with an arbitrary number of arguments.\n",
    "\n",
    "In the function definition, we use an asterisk (*) before the parameter name to denote this kind of argument. Here is an example."
   ]
  },
  {
   "cell_type": "code",
   "execution_count": null,
   "metadata": {
    "id": "Pkj6rDqk7eGq"
   },
   "outputs": [],
   "source": [
    "def greet(*names):\n",
    "    \"\"\"This function greets all\n",
    "    the person in the names tuple.\"\"\"\n",
    "\n",
    "    # names is a tuple with arguments\n",
    "    for name in names:\n",
    "        print(\"Hello\", name)"
   ]
  },
  {
   "cell_type": "code",
   "execution_count": null,
   "metadata": {
    "id": "XnsTALhV7eGq",
    "outputId": "366ca46b-8200-4b6a-9049-84a810a56bff"
   },
   "outputs": [
    {
     "name": "stdout",
     "output_type": "stream",
     "text": [
      "Hello Monica\n",
      "Hello Luke\n",
      "Hello 1\n"
     ]
    }
   ],
   "source": [
    "greet(\"Monica\", \"Luke\", 1)"
   ]
  },
  {
   "cell_type": "markdown",
   "metadata": {
    "id": "obm8fADT7eGq"
   },
   "source": [
    "Here, we have called the function with multiple arguments. These arguments get wrapped up into a tuple before being passed into the function. Inside the function, we use a for loop to retrieve all the arguments back."
   ]
  },
  {
   "cell_type": "markdown",
   "metadata": {
    "id": "f6ZFLtG57eGq"
   },
   "source": [
    "## Python Recursion\n",
    "\n",
    "Recursion is the process of defining something in terms of itself."
   ]
  },
  {
   "cell_type": "code",
   "execution_count": null,
   "metadata": {
    "id": "nVooY6DB7eGq",
    "outputId": "f081304b-7292-4392-d85c-1184a5b4c82d"
   },
   "outputs": [
    {
     "name": "stdout",
     "output_type": "stream",
     "text": [
      "The factorial of 3 is 6\n"
     ]
    }
   ],
   "source": [
    "def factorial(x):\n",
    "    \"\"\"This is a recursive function\n",
    "    to find the factorial of an integer\"\"\"\n",
    "\n",
    "    if x == 1:\n",
    "        return 1\n",
    "    else:\n",
    "        return (x * factorial(x-1))\n",
    "\n",
    "\n",
    "num = 3\n",
    "print(\"The factorial of\", num, \"is\", factorial(num))"
   ]
  },
  {
   "cell_type": "markdown",
   "metadata": {
    "id": "jUN5Tww97eGr"
   },
   "source": [
    "The Python interpreter limits the depths of recursion to help avoid infinite recursions, resulting in stack overflows.\n",
    "\n",
    "By default, the maximum depth of recursion is 1000. If the limit is crossed, it results in RecursionError. Let's look at one such condition."
   ]
  },
  {
   "cell_type": "code",
   "execution_count": null,
   "metadata": {
    "id": "6d7kUktX7eGr",
    "outputId": "a20a3cf7-9f7d-46b7-b36d-280f24e08e4c"
   },
   "outputs": [
    {
     "ename": "RecursionError",
     "evalue": "maximum recursion depth exceeded",
     "output_type": "error",
     "traceback": [
      "\u001b[0;31m---------------------------------------------------------------------------\u001b[0m",
      "\u001b[0;31mRecursionError\u001b[0m                            Traceback (most recent call last)",
      "\u001b[0;32m<ipython-input-147-3ec8c6652eef>\u001b[0m in \u001b[0;36m<module>\u001b[0;34m\u001b[0m\n\u001b[1;32m      1\u001b[0m \u001b[0;32mdef\u001b[0m \u001b[0mrecursor\u001b[0m\u001b[0;34m(\u001b[0m\u001b[0;34m)\u001b[0m\u001b[0;34m:\u001b[0m\u001b[0;34m\u001b[0m\u001b[0;34m\u001b[0m\u001b[0m\n\u001b[1;32m      2\u001b[0m     \u001b[0mrecursor\u001b[0m\u001b[0;34m(\u001b[0m\u001b[0;34m)\u001b[0m\u001b[0;34m\u001b[0m\u001b[0;34m\u001b[0m\u001b[0m\n\u001b[0;32m----> 3\u001b[0;31m \u001b[0mrecursor\u001b[0m\u001b[0;34m(\u001b[0m\u001b[0;34m)\u001b[0m\u001b[0;34m\u001b[0m\u001b[0;34m\u001b[0m\u001b[0m\n\u001b[0m",
      "\u001b[0;32m<ipython-input-147-3ec8c6652eef>\u001b[0m in \u001b[0;36mrecursor\u001b[0;34m()\u001b[0m\n\u001b[1;32m      1\u001b[0m \u001b[0;32mdef\u001b[0m \u001b[0mrecursor\u001b[0m\u001b[0;34m(\u001b[0m\u001b[0;34m)\u001b[0m\u001b[0;34m:\u001b[0m\u001b[0;34m\u001b[0m\u001b[0;34m\u001b[0m\u001b[0m\n\u001b[0;32m----> 2\u001b[0;31m     \u001b[0mrecursor\u001b[0m\u001b[0;34m(\u001b[0m\u001b[0;34m)\u001b[0m\u001b[0;34m\u001b[0m\u001b[0;34m\u001b[0m\u001b[0m\n\u001b[0m\u001b[1;32m      3\u001b[0m \u001b[0mrecursor\u001b[0m\u001b[0;34m(\u001b[0m\u001b[0;34m)\u001b[0m\u001b[0;34m\u001b[0m\u001b[0;34m\u001b[0m\u001b[0m\n",
      "... last 1 frames repeated, from the frame below ...\n",
      "\u001b[0;32m<ipython-input-147-3ec8c6652eef>\u001b[0m in \u001b[0;36mrecursor\u001b[0;34m()\u001b[0m\n\u001b[1;32m      1\u001b[0m \u001b[0;32mdef\u001b[0m \u001b[0mrecursor\u001b[0m\u001b[0;34m(\u001b[0m\u001b[0;34m)\u001b[0m\u001b[0;34m:\u001b[0m\u001b[0;34m\u001b[0m\u001b[0;34m\u001b[0m\u001b[0m\n\u001b[0;32m----> 2\u001b[0;31m     \u001b[0mrecursor\u001b[0m\u001b[0;34m(\u001b[0m\u001b[0;34m)\u001b[0m\u001b[0;34m\u001b[0m\u001b[0;34m\u001b[0m\u001b[0m\n\u001b[0m\u001b[1;32m      3\u001b[0m \u001b[0mrecursor\u001b[0m\u001b[0;34m(\u001b[0m\u001b[0;34m)\u001b[0m\u001b[0;34m\u001b[0m\u001b[0;34m\u001b[0m\u001b[0m\n",
      "\u001b[0;31mRecursionError\u001b[0m: maximum recursion depth exceeded"
     ]
    }
   ],
   "source": [
    "def recursor():\n",
    "    recursor()\n",
    "recursor()"
   ]
  },
  {
   "cell_type": "markdown",
   "metadata": {
    "id": "Ezbt-nee7eGr"
   },
   "source": [
    "## Python Anonymous/Lambda Function\n",
    "\n",
    "In Python, an anonymous function is a function that is defined without a name.\n",
    "\n",
    "While normal functions are defined using the def keyword in Python, anonymous functions are defined using the lambda keyword.\n",
    "\n",
    "Hence, anonymous functions are also called lambda functions.\n",
    "\n",
    "Syntax of Lambda Function in python\n",
    "\n",
    "lambda arguments: expression"
   ]
  },
  {
   "cell_type": "code",
   "execution_count": null,
   "metadata": {
    "id": "pi-8Crdl7eGr",
    "outputId": "abacf25e-f1ce-43f6-cc0c-e195c114a5dc"
   },
   "outputs": [
    {
     "name": "stdout",
     "output_type": "stream",
     "text": [
      "20\n"
     ]
    }
   ],
   "source": [
    "# Program to show the use of lambda functions\n",
    "#double = lambda x: x * 2\n",
    "\n",
    "def double(x): \n",
    "    return x * 2\n",
    "\n",
    "\n",
    "print(double(10))\n"
   ]
  },
  {
   "cell_type": "markdown",
   "metadata": {
    "id": "lDrh8p7t7eGr"
   },
   "source": [
    "In the above program, lambda x: x * 2 is the lambda function. Here x is the argument and x * 2 is the expression that gets evaluated and returned.\n",
    "\n",
    "This function has no name. It returns a function object which is assigned to the identifier double. We can now call it as a normal function. The statement\n",
    "\n",
    "double = lambda x: x * 2\n",
    "\n",
    "is nearly the same as:\n",
    "\n",
    "def double(x):\n",
    "   return x * 2"
   ]
  },
  {
   "cell_type": "markdown",
   "metadata": {
    "id": "IK8mOCOO7eGr"
   },
   "source": [
    "We use lambda functions when we require a nameless function for a short period of time.\n",
    "\n",
    "In Python, we generally use it as an argument to a higher-order function (a function that takes in other functions as arguments). \n",
    "\n",
    "Lambda functions are used along with built-in functions like filter(), map() etc."
   ]
  },
  {
   "cell_type": "markdown",
   "metadata": {
    "id": "GP6VyRZE7eGr"
   },
   "source": [
    "Example use with filter()\n",
    "\n",
    "The filter() function in Python takes in a function and a list as arguments.\n",
    "\n",
    "The function is called with all the items in the list and a new list is returned which contains items for which the function evaluates to True.\n",
    "\n",
    "Here is an example use of filter() function to filter out only even numbers from a list."
   ]
  },
  {
   "cell_type": "code",
   "execution_count": null,
   "metadata": {
    "id": "Vx71B9J_7eGr",
    "outputId": "773e0835-bdc1-48b3-c2d8-f592131f6341"
   },
   "outputs": [
    {
     "name": "stdout",
     "output_type": "stream",
     "text": [
      "[4, 6, 8, 12]\n"
     ]
    }
   ],
   "source": [
    "# Program to filter out only the even items from a list\n",
    "my_list = [1, 5, 4, 6, 8, 11, 3, 12]\n",
    "\n",
    "new_list = list(filter(lambda x: (x%2 == 0) , my_list))\n",
    "\n",
    "print(new_list)"
   ]
  },
  {
   "cell_type": "markdown",
   "metadata": {
    "id": "2Flf-UUI7eGs"
   },
   "source": [
    "Example use with map()\n",
    "\n",
    "The map() function in Python takes in a function and a list.\n",
    "\n",
    "The function is called with all the items in the list and a new list is returned which contains items returned by that function for each item.\n",
    "\n",
    "Here is an example use of map() function to double all the items in a list.\n",
    "\n"
   ]
  },
  {
   "cell_type": "code",
   "execution_count": null,
   "metadata": {
    "id": "2Eotubi77eGs",
    "outputId": "b859923a-ea9b-40e2-8abc-683f6d3d7747"
   },
   "outputs": [
    {
     "name": "stdout",
     "output_type": "stream",
     "text": [
      "[2, 10, 8, 12, 16, 22, 6, 24]\n"
     ]
    }
   ],
   "source": [
    "my_list = [1, 5, 4, 6, 8, 11, 3, 12]\n",
    "\n",
    "new_list = list(map(lambda x: x * 2 , my_list))\n",
    "\n",
    "print(new_list)\n",
    "#print(map(lambda x: x * 2 , my_list))\n",
    "#new_list = map(lambda x: x * 2 , my_list)\n"
   ]
  },
  {
   "cell_type": "markdown",
   "metadata": {
    "id": "hTrq9PJE7eGs"
   },
   "source": [
    "## Python Global, Local and Nonlocal variables"
   ]
  },
  {
   "cell_type": "markdown",
   "metadata": {
    "id": "mDD6V5L_7eGs"
   },
   "source": [
    "Global Variables\n",
    "\n",
    "In Python, a variable declared outside of the function or in global scope is known as a global variable. This means that a global variable can be accessed inside or outside of the function.\n",
    "\n",
    "Let's see an example of how a global variable is created in Python."
   ]
  },
  {
   "cell_type": "code",
   "execution_count": null,
   "metadata": {
    "id": "_pHoH0TF7eGs",
    "outputId": "0732d7ab-9dc4-4f54-f9c1-d483395e6245"
   },
   "outputs": [
    {
     "name": "stdout",
     "output_type": "stream",
     "text": [
      "x inside: global\n",
      "x outside: global\n"
     ]
    }
   ],
   "source": [
    "x = \"global\"\n",
    "\n",
    "def foo():\n",
    "    print(\"x inside:\", x)\n",
    "\n",
    "\n",
    "foo()\n",
    "print(\"x outside:\", x)"
   ]
  },
  {
   "cell_type": "code",
   "execution_count": null,
   "metadata": {
    "id": "-89DSums7eGs",
    "outputId": "b9adfaac-22fc-4ac2-9546-cfecdfcd3c5c"
   },
   "outputs": [
    {
     "ename": "UnboundLocalError",
     "evalue": "local variable 'x' referenced before assignment",
     "output_type": "error",
     "traceback": [
      "\u001b[0;31m---------------------------------------------------------------------------\u001b[0m",
      "\u001b[0;31mUnboundLocalError\u001b[0m                         Traceback (most recent call last)",
      "\u001b[0;32m<ipython-input-2-6e8d8efe788e>\u001b[0m in \u001b[0;36m<module>\u001b[0;34m\u001b[0m\n\u001b[1;32m      5\u001b[0m     \u001b[0mprint\u001b[0m\u001b[0;34m(\u001b[0m\u001b[0mx\u001b[0m\u001b[0;34m)\u001b[0m\u001b[0;34m\u001b[0m\u001b[0;34m\u001b[0m\u001b[0m\n\u001b[1;32m      6\u001b[0m \u001b[0;34m\u001b[0m\u001b[0m\n\u001b[0;32m----> 7\u001b[0;31m \u001b[0mfoo\u001b[0m\u001b[0;34m(\u001b[0m\u001b[0;34m)\u001b[0m\u001b[0;34m\u001b[0m\u001b[0;34m\u001b[0m\u001b[0m\n\u001b[0m",
      "\u001b[0;32m<ipython-input-2-6e8d8efe788e>\u001b[0m in \u001b[0;36mfoo\u001b[0;34m()\u001b[0m\n\u001b[1;32m      2\u001b[0m \u001b[0;34m\u001b[0m\u001b[0m\n\u001b[1;32m      3\u001b[0m \u001b[0;32mdef\u001b[0m \u001b[0mfoo\u001b[0m\u001b[0;34m(\u001b[0m\u001b[0;34m)\u001b[0m\u001b[0;34m:\u001b[0m\u001b[0;34m\u001b[0m\u001b[0;34m\u001b[0m\u001b[0m\n\u001b[0;32m----> 4\u001b[0;31m     \u001b[0mx\u001b[0m \u001b[0;34m=\u001b[0m \u001b[0mx\u001b[0m \u001b[0;34m*\u001b[0m \u001b[0;36m2\u001b[0m\u001b[0;34m\u001b[0m\u001b[0;34m\u001b[0m\u001b[0m\n\u001b[0m\u001b[1;32m      5\u001b[0m     \u001b[0mprint\u001b[0m\u001b[0;34m(\u001b[0m\u001b[0mx\u001b[0m\u001b[0;34m)\u001b[0m\u001b[0;34m\u001b[0m\u001b[0;34m\u001b[0m\u001b[0m\n\u001b[1;32m      6\u001b[0m \u001b[0;34m\u001b[0m\u001b[0m\n",
      "\u001b[0;31mUnboundLocalError\u001b[0m: local variable 'x' referenced before assignment"
     ]
    }
   ],
   "source": [
    "x = \"global\"\n",
    "\n",
    "def foo():\n",
    "    x = x * 2    \n",
    "    print(x)\n",
    "\n",
    "foo()"
   ]
  },
  {
   "cell_type": "markdown",
   "metadata": {
    "id": "CxhN9abu7eGs"
   },
   "source": [
    "The output shows an error because Python treats x as a local variable and x is also not defined inside foo().\n",
    "\n",
    "To make this work, we use the global keyword"
   ]
  },
  {
   "cell_type": "markdown",
   "metadata": {
    "id": "vT6wOgEi7eGt"
   },
   "source": [
    "## Local Variables\n",
    "\n",
    "A variable declared inside the function's body or in the local scope is known as a local variable."
   ]
  },
  {
   "cell_type": "code",
   "execution_count": 3,
   "metadata": {
    "id": "TNvgafPd7eGt",
    "outputId": "cde5a541-a119-4b6a-90ca-60b3bcfaec5e"
   },
   "outputs": [
    {
     "ename": "NameError",
     "evalue": "name 'var' is not defined",
     "output_type": "error",
     "traceback": [
      "\u001b[1;31m---------------------------------------------------------------------------\u001b[0m",
      "\u001b[1;31mNameError\u001b[0m                                 Traceback (most recent call last)",
      "\u001b[1;32m<ipython-input-3-4529e4c06313>\u001b[0m in \u001b[0;36m<module>\u001b[1;34m\u001b[0m\n\u001b[0;32m      5\u001b[0m \u001b[1;33m\u001b[0m\u001b[0m\n\u001b[0;32m      6\u001b[0m \u001b[0mfoo\u001b[0m\u001b[1;33m(\u001b[0m\u001b[1;33m)\u001b[0m\u001b[1;33m\u001b[0m\u001b[1;33m\u001b[0m\u001b[0m\n\u001b[1;32m----> 7\u001b[1;33m \u001b[0mprint\u001b[0m\u001b[1;33m(\u001b[0m\u001b[0mvar\u001b[0m\u001b[1;33m)\u001b[0m\u001b[1;33m\u001b[0m\u001b[1;33m\u001b[0m\u001b[0m\n\u001b[0m",
      "\u001b[1;31mNameError\u001b[0m: name 'var' is not defined"
     ]
    }
   ],
   "source": [
    "def foo():\n",
    "    var = \"local\"\n",
    "    #print(var)\n",
    "\n",
    "\n",
    "foo()\n",
    "print(var)"
   ]
  },
  {
   "cell_type": "markdown",
   "metadata": {
    "id": "lYWMhk6s7eGt"
   },
   "source": [
    "The output shows an error because we are trying to access a local variable var in a global scope whereas the local variable only works inside foo() or local scope."
   ]
  },
  {
   "cell_type": "code",
   "execution_count": null,
   "metadata": {
    "id": "wMKa08_m7eGt"
   },
   "outputs": [],
   "source": [
    "Example 3: Create a Local Variable\n",
    "\n",
    "Normally, we declare a variable inside the function to create a local variable."
   ]
  },
  {
   "cell_type": "code",
   "execution_count": null,
   "metadata": {
    "id": "Ug4qk9L47eGt",
    "outputId": "3965fec8-f13d-4e22-8c10-8e32005a25f6"
   },
   "outputs": [
    {
     "name": "stdout",
     "output_type": "stream",
     "text": [
      "local\n"
     ]
    }
   ],
   "source": [
    "def foo():\n",
    "    var = \"local\"\n",
    "    print(var)\n",
    "\n",
    "foo()"
   ]
  },
  {
   "cell_type": "code",
   "execution_count": null,
   "metadata": {
    "id": "f-UqkyT07eGt"
   },
   "outputs": [],
   "source": [
    "Example 4: Using Global and Local variables in the same code"
   ]
  },
  {
   "cell_type": "code",
   "execution_count": null,
   "metadata": {
    "id": "RjFcIhMY7eGt",
    "outputId": "ee508aff-b6ef-418f-b150-d3e2ed505705"
   },
   "outputs": [
    {
     "name": "stdout",
     "output_type": "stream",
     "text": [
      "global global \n",
      "local\n"
     ]
    }
   ],
   "source": [
    "x = \"global \"\n",
    "\n",
    "def foo():\n",
    "    global x\n",
    "    #x = 4\n",
    "    y = \"local\"\n",
    "    x = x * 2\n",
    "    print(x)\n",
    "    print(y)\n",
    "\n",
    "foo()"
   ]
  },
  {
   "cell_type": "code",
   "execution_count": null,
   "metadata": {
    "id": "4EKrXkkY7eGu"
   },
   "outputs": [],
   "source": [
    "Example 5: Global variable and Local variable with same name"
   ]
  },
  {
   "cell_type": "code",
   "execution_count": null,
   "metadata": {
    "id": "qvBp8p3N7eGu",
    "outputId": "96c464dd-95a8-45c4-afd2-032205c25baa"
   },
   "outputs": [
    {
     "name": "stdout",
     "output_type": "stream",
     "text": [
      "local x: 10\n",
      "global x: 5\n"
     ]
    }
   ],
   "source": [
    "x = 5\n",
    "\n",
    "def foo():\n",
    "    x = 10\n",
    "    print(\"local x:\", x)\n",
    "\n",
    "\n",
    "foo()\n",
    "print(\"global x:\", x)"
   ]
  },
  {
   "cell_type": "markdown",
   "metadata": {
    "id": "PpHSCkeX7eGu"
   },
   "source": [
    "In the above code, we used the same name x for both global variable and local variable. We get a different result when we print the same variable because the variable is declared in both scopes, i.e. the local scope inside foo() and global scope outside foo().\n",
    "\n",
    "When we print the variable inside foo() it outputs local x: 10. This is called the local scope of the variable.\n",
    "\n",
    "Similarly, when we print the variable outside the foo(), it outputs global x: 5. This is called the global scope of the variable."
   ]
  },
  {
   "cell_type": "markdown",
   "metadata": {
    "id": "DDx5lA3r7eGu"
   },
   "source": [
    "## Nonlocal Variables\n",
    "\n",
    "Nonlocal variables are used in nested functions whose local scope is not defined. This means that the variable can be neither in the local nor the global scope.\n",
    "\n",
    "Let's see an example of how a global variable is created in Python.\n",
    "\n",
    "We use nonlocal keywords to create nonlocal variables."
   ]
  },
  {
   "cell_type": "markdown",
   "metadata": {
    "id": "TT9RVFpC7eGu"
   },
   "source": [
    "Example 6: Create a nonlocal variable\n",
    "    \n",
    "    "
   ]
  },
  {
   "cell_type": "code",
   "execution_count": null,
   "metadata": {
    "id": "DGdU8WlG7eGu",
    "outputId": "14bb5898-854d-4aaa-8014-2698530a3d9e"
   },
   "outputs": [
    {
     "name": "stdout",
     "output_type": "stream",
     "text": [
      "inner: nonlocal_2\n",
      "outer: local\n"
     ]
    }
   ],
   "source": [
    "def outer():\n",
    "    x = \"local\"\n",
    "\n",
    "    def inner():\n",
    "        #nonlocal x\n",
    "        #x = \"nonlocal\"\n",
    "        x = \"nonlocal_2\"\n",
    "        print(\"inner:\", x)\n",
    "\n",
    "    inner()\n",
    "    print(\"outer:\", x)\n",
    "\n",
    "\n",
    "outer()\n"
   ]
  },
  {
   "cell_type": "markdown",
   "metadata": {
    "id": "l8xNpGsD7eGu"
   },
   "source": [
    "In the above code, there is a nested inner() function. We use nonlocal keywords to create a nonlocal variable. The inner() function is defined in the scope of another function outer().\n",
    "\n",
    "Note : If we change the value of a nonlocal variable, the changes appear in the local variable."
   ]
  },
  {
   "cell_type": "markdown",
   "metadata": {
    "id": "x8PgMmNY7eGu"
   },
   "source": [
    "## Python Global Keyword\n",
    "\n",
    "In Python, global keyword allows you to modify the variable outside of the current scope. It is used to create a global variable and make changes to the variable in a local context.\n",
    "Rules of global Keyword\n",
    "\n",
    "The basic rules for global keyword in Python are:\n",
    "\n",
    "    When we create a variable inside a function, it is local by default.\n",
    "    When we define a variable outside of a function, it is global by default. You don't have to use global keyword.\n",
    "    We use global keyword to read and write a global variable inside a function.\n",
    "    Use of global keyword outside a function has no effect.\n",
    "\n",
    "\n"
   ]
  },
  {
   "cell_type": "markdown",
   "metadata": {
    "id": "HXlJHFna7eGu"
   },
   "source": [
    "## Use of global Keyword\n",
    "\n",
    "Let's take an example.\n",
    "Example 1: Accessing global Variable From Inside a Function\n",
    "\n"
   ]
  },
  {
   "cell_type": "code",
   "execution_count": null,
   "metadata": {
    "id": "cBs0gbSn7eGu",
    "outputId": "3d77c744-d7b7-42ee-e253-d9e941f6ad67"
   },
   "outputs": [
    {
     "name": "stdout",
     "output_type": "stream",
     "text": [
      "1\n"
     ]
    }
   ],
   "source": [
    "c = 1 # global variable\n",
    "\n",
    "def add():\n",
    "    print(c)\n",
    "\n",
    "add()"
   ]
  },
  {
   "cell_type": "markdown",
   "metadata": {
    "id": "IThB5Xis7eGv"
   },
   "source": [
    "However, we may have some scenarios where we need to modify the global variable from inside a function."
   ]
  },
  {
   "cell_type": "code",
   "execution_count": null,
   "metadata": {
    "id": "IPV4bQIZ7eGv",
    "outputId": "c7056c92-7304-45b0-f632-121ca654334b"
   },
   "outputs": [
    {
     "ename": "UnboundLocalError",
     "evalue": "local variable 'c' referenced before assignment",
     "output_type": "error",
     "traceback": [
      "\u001b[0;31m---------------------------------------------------------------------------\u001b[0m",
      "\u001b[0;31mUnboundLocalError\u001b[0m                         Traceback (most recent call last)",
      "\u001b[0;32m<ipython-input-16-10710404b9bd>\u001b[0m in \u001b[0;36m<module>\u001b[0;34m\u001b[0m\n\u001b[1;32m      5\u001b[0m     \u001b[0mprint\u001b[0m\u001b[0;34m(\u001b[0m\u001b[0mc\u001b[0m\u001b[0;34m)\u001b[0m\u001b[0;34m\u001b[0m\u001b[0;34m\u001b[0m\u001b[0m\n\u001b[1;32m      6\u001b[0m \u001b[0;34m\u001b[0m\u001b[0m\n\u001b[0;32m----> 7\u001b[0;31m \u001b[0madd\u001b[0m\u001b[0;34m(\u001b[0m\u001b[0;34m)\u001b[0m\u001b[0;34m\u001b[0m\u001b[0;34m\u001b[0m\u001b[0m\n\u001b[0m",
      "\u001b[0;32m<ipython-input-16-10710404b9bd>\u001b[0m in \u001b[0;36madd\u001b[0;34m()\u001b[0m\n\u001b[1;32m      2\u001b[0m \u001b[0;34m\u001b[0m\u001b[0m\n\u001b[1;32m      3\u001b[0m \u001b[0;32mdef\u001b[0m \u001b[0madd\u001b[0m\u001b[0;34m(\u001b[0m\u001b[0;34m)\u001b[0m\u001b[0;34m:\u001b[0m\u001b[0;34m\u001b[0m\u001b[0;34m\u001b[0m\u001b[0m\n\u001b[0;32m----> 4\u001b[0;31m     \u001b[0mc\u001b[0m \u001b[0;34m=\u001b[0m \u001b[0mc\u001b[0m \u001b[0;34m+\u001b[0m \u001b[0;36m2\u001b[0m \u001b[0;31m# increment c by 2\u001b[0m\u001b[0;34m\u001b[0m\u001b[0;34m\u001b[0m\u001b[0m\n\u001b[0m\u001b[1;32m      5\u001b[0m     \u001b[0mprint\u001b[0m\u001b[0;34m(\u001b[0m\u001b[0mc\u001b[0m\u001b[0;34m)\u001b[0m\u001b[0;34m\u001b[0m\u001b[0;34m\u001b[0m\u001b[0m\n\u001b[1;32m      6\u001b[0m \u001b[0;34m\u001b[0m\u001b[0m\n",
      "\u001b[0;31mUnboundLocalError\u001b[0m: local variable 'c' referenced before assignment"
     ]
    }
   ],
   "source": [
    "c = 1 # global variable\n",
    "    \n",
    "def add():\n",
    "    c = c + 2 # increment c by 2\n",
    "    print(c)\n",
    "\n",
    "add()"
   ]
  },
  {
   "cell_type": "markdown",
   "metadata": {
    "id": "V9Es5LAn7eGv"
   },
   "source": [
    "\n",
    "\n",
    "This is because we can only access the global variable but cannot modify it from inside the function.\n",
    "\n",
    "The solution for this is to use the global keyword."
   ]
  },
  {
   "cell_type": "code",
   "execution_count": null,
   "metadata": {
    "id": "790cbWYU7eGv",
    "outputId": "507f6847-68e6-4502-c1d3-fc9b87bb11c0"
   },
   "outputs": [
    {
     "name": "stdout",
     "output_type": "stream",
     "text": [
      "Inside add(): 2\n",
      "In main: 2\n"
     ]
    }
   ],
   "source": [
    "c = 0 # global variable\n",
    "\n",
    "def add():\n",
    "    global c\n",
    "    c = c + 2 # increment by 2\n",
    "    print(\"Inside add():\", c)\n",
    "\n",
    "add()\n",
    "print(\"In main:\", c)"
   ]
  },
  {
   "cell_type": "markdown",
   "metadata": {
    "id": "sKOL3QAx7eGw"
   },
   "source": [
    "In the above program, we define c as a global keyword inside the add() function.\n",
    "\n",
    "Then, we increment the variable c by 1, i.e c = c + 2. After that, we call the add() function. Finally, we print the global variable c.\n",
    "\n",
    "As we can see, change also occurred on the global variable outside the function, c = 2."
   ]
  },
  {
   "cell_type": "markdown",
   "metadata": {
    "id": "_fM3GdZL7eGw"
   },
   "source": [
    "## Global in Nested Functions\n",
    "\n",
    "Here is how you can use a global variable in nested function.\n",
    "Example 5: Using a Global Variable in Nested Function"
   ]
  },
  {
   "cell_type": "code",
   "execution_count": 5,
   "metadata": {
    "id": "2gIXL7Jy7eGw",
    "outputId": "78d7dcba-effd-49c6-80e5-f1caa3cd2075"
   },
   "outputs": [
    {
     "name": "stdout",
     "output_type": "stream",
     "text": [
      "Before calling bar:  100\n",
      "Calling bar now\n",
      "After calling bar:  100\n",
      "x in main:  10\n"
     ]
    }
   ],
   "source": [
    "def foo():\n",
    "    a = 100\n",
    "\n",
    "    def bar():\n",
    "        global a\n",
    "        a = 10\n",
    "    \n",
    "    print(\"Before calling bar: \", a)\n",
    "    print(\"Calling bar now\")\n",
    "    bar()\n",
    "    print(\"After calling bar: \", a)\n",
    "\n",
    "foo()\n",
    "print(\"x in main: \", a)"
   ]
  },
  {
   "cell_type": "markdown",
   "metadata": {
    "id": "sj6XnFBg7eGw"
   },
   "source": [
    "In the above program, we declared a global variable inside the nested function bar(). Inside foo() function, x has no effect of the global keyword.\n",
    "\n",
    "Before and after calling bar(), the variable x takes the value of local variable i.e x = 20. Outside of the foo() function, the variable x will take value defined in the bar() function i.e x = 25. This is because we have used global keyword in x to create global variable inside the bar() function (local scope).\n",
    "\n",
    "If we make any changes inside the bar() function, the changes appear outside the local scope, i.e. foo()."
   ]
  },
  {
   "cell_type": "markdown",
   "metadata": {
    "id": "1IVxr8EL7eGw"
   },
   "source": [
    "## Python Modules\n",
    "\n",
    "Modules refer to a file containing Python statements and definitions.\n",
    "\n",
    "A file containing Python code, for example: example.py, is called a module, and its module name would be example.\n",
    "\n",
    "We use modules to break down large programs into small manageable and organized files. Furthermore, modules provide reusability of code.\n",
    "\n",
    "We can define our most used functions in a module and import it, instead of copying their definitions into different programs.\n",
    "\n",
    "Let us create a module. Type the following and save it as example.py.\n",
    "\n"
   ]
  },
  {
   "cell_type": "code",
   "execution_count": null,
   "metadata": {
    "id": "ntMAXzG07eGw"
   },
   "outputs": [],
   "source": [
    "# Python Module example\n",
    "\n",
    "def add(a, b):\n",
    "   \"\"\"This program adds two\n",
    "   numbers and return the result\"\"\"\n",
    "\n",
    "   result = a + b\n",
    "   return result"
   ]
  },
  {
   "cell_type": "markdown",
   "metadata": {
    "id": "iirRyaeP7eGx"
   },
   "source": [
    "Here, we have defined a function add() inside a module named example. The function takes in two numbers and returns their sum."
   ]
  },
  {
   "cell_type": "markdown",
   "metadata": {
    "id": "WO2iV9g87eGx"
   },
   "source": [
    "## How to import modules in Python?\n",
    "\n",
    "We can import the definitions inside a module to another module or the interactive interpreter in Python.\n",
    "\n",
    "We use the import keyword to do this. To import our previously defined module example, we type the following in the Python prompt.\n",
    "\n"
   ]
  },
  {
   "cell_type": "code",
   "execution_count": null,
   "metadata": {
    "id": "AcSpAFi17eGx",
    "outputId": "29ff83d3-558a-43a2-d9f8-4874a58c0f16"
   },
   "outputs": [
    {
     "ename": "ModuleNotFoundError",
     "evalue": "No module named 'example'",
     "output_type": "error",
     "traceback": [
      "\u001b[0;31m---------------------------------------------------------------------------\u001b[0m",
      "\u001b[0;31mModuleNotFoundError\u001b[0m                       Traceback (most recent call last)",
      "\u001b[0;32m<ipython-input-24-621866f4e6d7>\u001b[0m in \u001b[0;36m<module>\u001b[0;34m\u001b[0m\n\u001b[0;32m----> 1\u001b[0;31m \u001b[0;32mimport\u001b[0m \u001b[0mexample\u001b[0m\u001b[0;34m\u001b[0m\u001b[0;34m\u001b[0m\u001b[0m\n\u001b[0m",
      "\u001b[0;31mModuleNotFoundError\u001b[0m: No module named 'example'"
     ]
    }
   ],
   "source": [
    "import example"
   ]
  },
  {
   "cell_type": "markdown",
   "metadata": {
    "id": "1mixSwXU7eGx"
   },
   "source": [
    "This does not import the names of the functions defined in example directly in the current symbol table. It only imports the module name example there.\n",
    "\n",
    "Using the module name we can access the function using the dot . operator. For example:"
   ]
  },
  {
   "cell_type": "code",
   "execution_count": null,
   "metadata": {
    "id": "VkAZlkll7eGx"
   },
   "outputs": [],
   "source": [
    "example.add(4,5.5)"
   ]
  },
  {
   "cell_type": "markdown",
   "metadata": {
    "id": "2PYTs1JX7eGx"
   },
   "source": [
    "Python has tons of standard modules. You can check out the full list of Python standard modules and their use cases. These files are in the Lib directory inside the location where you installed Python.\n",
    "\n",
    "Standard modules can be imported the same way as we import our user-defined modules.\n",
    "https://docs.python.org/3/py-modindex.html\n"
   ]
  },
  {
   "cell_type": "code",
   "execution_count": null,
   "metadata": {
    "id": "s2C4EymO7eGx"
   },
   "outputs": [],
   "source": [
    "# import module by renaming it\n",
    "\n",
    "import math as m\n",
    "print(\"The value of pi is\", m.pi)"
   ]
  },
  {
   "cell_type": "markdown",
   "metadata": {
    "id": "Zzhk8oYv7eGx"
   },
   "source": [
    "Python from...import statement\n",
    "\n",
    "We can import specific names from a module without importing the module as a whole. Here is an example."
   ]
  },
  {
   "cell_type": "code",
   "execution_count": null,
   "metadata": {
    "id": "Ay4kQ4kO7eGx"
   },
   "outputs": [],
   "source": [
    "# import only pi from math module\n",
    "\n",
    "from math import pi\n",
    "print(\"The value of pi is\", pi)"
   ]
  },
  {
   "cell_type": "markdown",
   "metadata": {
    "id": "Q-ZD9tWi7eGy"
   },
   "source": [
    "Here, we imported only the pi attribute from the math module."
   ]
  },
  {
   "cell_type": "markdown",
   "metadata": {
    "id": "oTTxBafu7eGy"
   },
   "source": [
    "Import all names\n",
    "\n",
    "We can import all names(definitions) from a module using the following construct:"
   ]
  },
  {
   "cell_type": "code",
   "execution_count": null,
   "metadata": {
    "id": "8-Kukm837eGy"
   },
   "outputs": [],
   "source": [
    "# import all names from the standard module math\n",
    "\n",
    "from math import *\n",
    "print(\"The value of pi is\", pi)"
   ]
  },
  {
   "cell_type": "markdown",
   "metadata": {
    "id": "ao4YccNq7eGy"
   },
   "source": [
    "## Python Module Search Path\n",
    "\n",
    "\n",
    "While importing a module, Python looks at several places. Interpreter first looks for a built-in module. Then(if built-in module not found), Python looks into a list of directories defined in sys.path. The search is in this order.\n",
    "\n",
    "    The current directory.\n",
    "    PYTHONPATH (an environment variable with a list of directories).\n",
    "    The installation-dependent default directory.\n"
   ]
  },
  {
   "cell_type": "code",
   "execution_count": null,
   "metadata": {
    "id": "EDcKK_Wq7eGy",
    "outputId": "aefb9f47-1ee4-4f28-a277-de2d8696812e"
   },
   "outputs": [
    {
     "name": "stdout",
     "output_type": "stream",
     "text": [
      "['', '/Users/chandinisingh/anaconda3/lib/python36.zip', '/Users/chandinisingh/anaconda3/lib/python3.6', '/Users/chandinisingh/anaconda3/lib/python3.6/lib-dynload', '/Users/chandinisingh/anaconda3/lib/python3.6/site-packages', '/Users/chandinisingh/anaconda3/lib/python3.6/site-packages/aeosa', '/Users/chandinisingh/anaconda3/lib/python3.6/site-packages/torchvision-0.2.1-py3.6.egg', '/Users/chandinisingh/anaconda3/lib/python3.6/site-packages/IPython/extensions', '/Users/chandinisingh/.ipython']\n"
     ]
    }
   ],
   "source": [
    "import sys\n",
    "\n",
    "print(sys.path)"
   ]
  },
  {
   "cell_type": "markdown",
   "metadata": {
    "id": "fWizg4157eGy"
   },
   "source": [
    "## Reloading a module\n",
    "\n",
    "The Python interpreter imports a module only once during a session.\n",
    "\n",
    "If our module changed during the course of the program, we would have to reload it.One way to do this is to restart the interpreter. But this does not help much.\n",
    "\n",
    "Python provides a more efficient way of doing this. We can use the reload() function inside the imp module to reload a module.\n",
    "\n"
   ]
  },
  {
   "cell_type": "markdown",
   "metadata": {
    "id": "1qFIIOWJ7eGy"
   },
   "source": []
  },
  {
   "cell_type": "code",
   "execution_count": null,
   "metadata": {
    "id": "dIzFWWnI7eGy"
   },
   "outputs": [],
   "source": []
  }
 ],
 "metadata": {
  "colab": {
   "name": "Python-Basics-01.ipynb",
   "provenance": []
  },
  "kernelspec": {
   "display_name": "Python 3",
   "language": "python",
   "name": "python3"
  },
  "language_info": {
   "codemirror_mode": {
    "name": "ipython",
    "version": 3
   },
   "file_extension": ".py",
   "mimetype": "text/x-python",
   "name": "python",
   "nbconvert_exporter": "python",
   "pygments_lexer": "ipython3",
   "version": "3.8.5"
  }
 },
 "nbformat": 4,
 "nbformat_minor": 1
}
