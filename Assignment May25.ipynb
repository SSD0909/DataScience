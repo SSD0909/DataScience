{
 "cells": [
  {
   "cell_type": "markdown",
   "metadata": {},
   "source": [
    "####Q1 :\n",
    "\n",
    "Below are the dummy data given. Implement each of the function. Retun the sum from the function and print the sum.\n",
    "\n",
    "data_list = [1, 2, 99, -1, -20] data_tuple = (1, 2, 99, -1, -20) data_set = {1, 2, 99, -1, -20}\n",
    "\n",
    "def sum_of_numbers():\n",
    "\n",
    "return sum \n",
    "def sum_of_abs_value(): pass\n",
    "\n",
    "def sum_of_neg_numbers(): pass\n",
    "\n",
    "def sum_of_pos_numbers(): pass"
   ]
  },
  {
   "cell_type": "code",
   "execution_count": 60,
   "metadata": {},
   "outputs": [
    {
     "name": "stdout",
     "output_type": "stream",
     "text": [
      "Sum of numbers in a list is 81\n",
      "Absolute Sum of numbers in a list is 81\n",
      "Sum of negative numbers in a list is -21\n",
      "Sum of negative numbers in a list is 102\n"
     ]
    }
   ],
   "source": [
    "data_list = [1, 2, 99, -1, -20] \n",
    "def sum_of_numbers(data_list):\n",
    "    if (len(data_list)==1):\n",
    "     return data_list[0]\n",
    "    else:\n",
    "     return data_list[0] + sum_of_numbers(data_list[1:])\n",
    "print(\"Sum of numbers in a list is\",sum_of_numbers( data_list))\n",
    "\n",
    "pass\n",
    "def sum_of_abs_value(data_list):\n",
    "    if (len(data_list)==1):\n",
    "     return data_list[0]\n",
    "    else:\n",
    "     return abs(data_list[0] + sum_of_numbers(data_list[1:]))\n",
    "print(\"Absolute Sum of numbers in a list is\",sum_of_abs_value(data_list))\n",
    "\n",
    "pass\n",
    "\n",
    "def sum_of_neg_numbers(data_list):\n",
    "    sum = 0\n",
    "    for x in data_list:\n",
    "        if x < 0:\n",
    "            sum=sum+x\n",
    "    return(int(sum))\n",
    "           \n",
    "print(\"Sum of negative numbers in a list is\",sum_of_neg_numbers( data_list))\n",
    "pass\n",
    "\n",
    "def sum_of_pos_numbers(data_list): \n",
    "    sum = 0\n",
    "    for x in data_list:\n",
    "        if x > 0:\n",
    "            sum=sum+x\n",
    "    return(int(sum))\n",
    "           \n",
    "print(\"Sum of positive numbers in a list is\",sum_of_pos_numbers( data_list))"
   ]
  },
  {
   "cell_type": "code",
   "execution_count": 58,
   "metadata": {},
   "outputs": [
    {
     "name": "stdout",
     "output_type": "stream",
     "text": [
      "Sum of numbers in a tuple is 81\n",
      "Absolute Sum of numbers in a tuple is 81\n",
      "Sum of negative numbers in a tuple is -21\n",
      "Sum of negative numbers in a tuple is 102\n"
     ]
    }
   ],
   "source": [
    "data_tuple = (1, 2, 99, -1, -20)\n",
    "def sum_of_numbers(data_tuple):\n",
    "    if (len(data_tuple)==1):\n",
    "     return data_tuple[0]\n",
    "    else:\n",
    "     return data_tuple[0] + sum_of_numbers(data_tuple[1:])\n",
    "\n",
    "print(\"Sum of numbers in a tuple is\",sum_of_numbers(data_tuple ))\n",
    "pass\n",
    "\n",
    "def sum_of_abs_numbers(data_tuple):\n",
    "    if (len(data_tuple)==1):\n",
    "     return data_tuple[0]\n",
    "    else:\n",
    "     return abs(data_tuple[0] + sum_of_numbers(data_tuple[1:]))\n",
    "    \n",
    "print(\"Absolute Sum of numbers in a tuple is\",sum_of_abs_value( data_tuple))\n",
    "\n",
    "pass\n",
    "\n",
    "def sum_of_neg_numbers(data_tuple):\n",
    "    sum = 0\n",
    "    for x in data_tuple:\n",
    "        if x < 0:\n",
    "            sum=sum+x\n",
    "    return(int(sum))\n",
    "           \n",
    "print(\"Sum of negative numbers in a tuple is\",sum_of_neg_numbers( data_tuple))\n",
    "pass\n",
    "\n",
    "def sum_of_pos_numbers(data_tuple): \n",
    "    sum = 0\n",
    "    for x in data_tuple:\n",
    "        if x > 0:\n",
    "            sum=sum+x\n",
    "    return(int(sum))\n",
    "           \n",
    "print(\"Sum of positive numbers in a tuple is\",sum_of_pos_numbers( data_tuple))\n"
   ]
  },
  {
   "cell_type": "code",
   "execution_count": 80,
   "metadata": {},
   "outputs": [
    {
     "name": "stdout",
     "output_type": "stream",
     "text": [
      "Sum of numbers ina  set is  81\n"
     ]
    }
   ],
   "source": [
    "data_set = {1, 2, 99, -1, -20}\n",
    "\n",
    "s=sum(data_set)\n",
    "print(\"Sum of numbers ina  set is \",s)\n"
   ]
  },
  {
   "cell_type": "code",
   "execution_count": null,
   "metadata": {},
   "outputs": [],
   "source": [
    "Q2 : Build a dictionary listing all the states of USA eg: states = {'CA' :'CALIFORNIA', 'NY' : 'NEW YORK'}\n",
    "\n",
    "implement the below functions\n",
    "\n",
    "return the result for each of the following. Print the result after each function call.\n",
    "\n",
    "def get_all_states(): pass\n",
    "\n",
    "def get_total_num_states(): pass\n",
    "\n",
    "def get_states(state1): pass\n",
    "\n",
    "def get_states(state1, state2) pass\n",
    "\n",
    "def get_states(state1, state2, ..) pass\n",
    "\n",
    "ca Ny ny"
   ]
  },
  {
   "cell_type": "code",
   "execution_count": 3,
   "metadata": {},
   "outputs": [
    {
     "name": "stdout",
     "output_type": "stream",
     "text": [
      "All states in US is  ['Alaska', 'Alabama', 'Arkansas', 'Arizona', 'California', 'Colorado', 'Connecticut', 'District of Columbia', 'Delaware', 'Florida', 'Georgia', 'Hawaii', 'Iowa', 'Idaho', 'Illinois', 'Indiana', 'Kansas', 'Kentucky', 'Louisiana', 'Massachusetts', 'Maryland', 'Maine', 'Michigan', 'Minnesota', 'Missouri', 'Mississippi', 'Montana', 'North Carolina', 'North Dakota', 'Nebraska', 'New Hampshire', 'New Jersey', 'New Mexico', 'Nevada', 'New York', 'Ohio', 'Oklahoma', 'Oregon', 'Pennsylvania', 'Rhode Island', 'South Carolina', 'South Dakota', 'Tennessee', 'Texas', 'Utah', 'Virginia', 'Vermont', 'Washington', 'Wisconsin', 'West Virginia', 'Wyoming']\n",
      "Total Number of states in US are  51\n",
      "First state ('AK', 'Alaska')\n"
     ]
    }
   ],
   "source": [
    "states={'AK': 'Alaska','AL': 'Alabama','AR': 'Arkansas','AZ': 'Arizona','CA': 'California','CO': 'Colorado','CT': 'Connecticut',\n",
    "    'DC': 'District of Columbia','DE': 'Delaware','FL': 'Florida','GA': 'Georgia','HI': 'Hawaii','IA': 'Iowa','ID': 'Idaho','IL': 'Illinois',\n",
    "    'IN': 'Indiana','KS': 'Kansas','KY': 'Kentucky','LA': 'Louisiana','MA': 'Massachusetts','MD': 'Maryland','ME': 'Maine',\n",
    "    'MI': 'Michigan','MN': 'Minnesota','MO': 'Missouri','MS': 'Mississippi','MT': 'Montana','NC': 'North Carolina',\n",
    "    'ND': 'North Dakota','NE': 'Nebraska','NH': 'New Hampshire','NJ': 'New Jersey','NM': 'New Mexico','NV': 'Nevada',\n",
    "    'NY': 'New York','OH': 'Ohio','OK': 'Oklahoma','OR': 'Oregon','PA': 'Pennsylvania','RI': 'Rhode Island','SC': 'South Carolina',\n",
    "    'SD': 'South Dakota','TN': 'Tennessee','TX': 'Texas','UT': 'Utah','VA': 'Virginia',\n",
    "    'VT': 'Vermont','WA': 'Washington','WI': 'Wisconsin','WV': 'West Virginia','WY': 'Wyoming'}\n",
    "\n",
    "def get_all_states(states):\n",
    "\n",
    "    \n",
    "    state_value=states.values()\n",
    "    return(list(state_value))\n",
    "print(\"All states in US is \",\n",
    "get_all_states( {'AK': 'Alaska','AL': 'Alabama','AR': 'Arkansas','AZ': 'Arizona','CA': 'California','CO': 'Colorado','CT': 'Connecticut',\n",
    "    'DC': 'District of Columbia','DE': 'Delaware','FL': 'Florida','GA': 'Georgia','HI': 'Hawaii','IA': 'Iowa','ID': 'Idaho','IL': 'Illinois',\n",
    "    'IN': 'Indiana','KS': 'Kansas','KY': 'Kentucky','LA': 'Louisiana','MA': 'Massachusetts','MD': 'Maryland','ME': 'Maine',\n",
    "    'MI': 'Michigan','MN': 'Minnesota','MO': 'Missouri','MS': 'Mississippi','MT': 'Montana','NC': 'North Carolina',\n",
    "    'ND': 'North Dakota','NE': 'Nebraska','NH': 'New Hampshire','NJ': 'New Jersey','NM': 'New Mexico','NV': 'Nevada',\n",
    "    'NY': 'New York','OH': 'Ohio','OK': 'Oklahoma','OR': 'Oregon','PA': 'Pennsylvania','RI': 'Rhode Island','SC': 'South Carolina',\n",
    "    'SD': 'South Dakota','TN': 'Tennessee','TX': 'Texas','UT': 'Utah','VA': 'Virginia',\n",
    "    'VT': 'Vermont','WA': 'Washington','WI': 'Wisconsin','WV': 'West Virginia','WY': 'Wyoming'}))\n",
    "pass\n",
    "\n",
    "\n",
    "def get_total_num_states(states):\n",
    "\n",
    "    state_num=len(states.values())\n",
    "    return(state_num)\n",
    "print(\"Total Number of states in US are \",get_total_num_states({'AK': 'Alaska','AL': 'Alabama','AR': 'Arkansas','AZ': 'Arizona','CA': 'California','CO': 'Colorado','CT': 'Connecticut',\n",
    "    'DC': 'District of Columbia','DE': 'Delaware','FL': 'Florida','GA': 'Georgia','HI': 'Hawaii','IA': 'Iowa','ID': 'Idaho','IL': 'Illinois',\n",
    "    'IN': 'Indiana','KS': 'Kansas','KY': 'Kentucky','LA': 'Louisiana','MA': 'Massachusetts','MD': 'Maryland','ME': 'Maine',\n",
    "    'MI': 'Michigan','MN': 'Minnesota','MO': 'Missouri','MS': 'Mississippi','MT': 'Montana','NC': 'North Carolina',\n",
    "    'ND': 'North Dakota','NE': 'Nebraska','NH': 'New Hampshire','NJ': 'New Jersey','NM': 'New Mexico','NV': 'Nevada',\n",
    "    'NY': 'New York','OH': 'Ohio','OK': 'Oklahoma','OR': 'Oregon','PA': 'Pennsylvania','RI': 'Rhode Island','SC': 'South Carolina',\n",
    "    'SD': 'South Dakota','TN': 'Tennessee','TX': 'Texas','UT': 'Utah','VA': 'Virginia',\n",
    "    'VT': 'Vermont','WA': 'Washington','WI': 'Wisconsin','WV': 'West Virginia','WY': 'Wyoming'}))\n",
    "\n",
    "pass\n",
    "\n",
    "def get_states(states):\n",
    "    first_item = list(states.items())[0]\n",
    "    return(first_item)\n",
    "print(\"First state\",get_states({'AK': 'Alaska','AL': 'Alabama','AR': 'Arkansas','AZ': 'Arizona','CA': 'California','CO': 'Colorado','CT': 'Connecticut',\n",
    "    'DC': 'District of Columbia','DE': 'Delaware','FL': 'Florida','GA': 'Georgia','HI': 'Hawaii','IA': 'Iowa','ID': 'Idaho','IL': 'Illinois',\n",
    "    'IN': 'Indiana','KS': 'Kansas','KY': 'Kentucky','LA': 'Louisiana','MA': 'Massachusetts','MD': 'Maryland','ME': 'Maine',\n",
    "    'MI': 'Michigan','MN': 'Minnesota','MO': 'Missouri','MS': 'Mississippi','MT': 'Montana','NC': 'North Carolina',\n",
    "    'ND': 'North Dakota','NE': 'Nebraska','NH': 'New Hampshire','NJ': 'New Jersey','NM': 'New Mexico','NV': 'Nevada',\n",
    "    'NY': 'New York','OH': 'Ohio','OK': 'Oklahoma','OR': 'Oregon','PA': 'Pennsylvania','RI': 'Rhode Island','SC': 'South Carolina',\n",
    "    'SD': 'South Dakota','TN': 'Tennessee','TX': 'Texas','UT': 'Utah','VA': 'Virginia',\n",
    "    'VT': 'Vermont','WA': 'Washington','WI': 'Wisconsin','WV': 'West Virginia','WY': 'Wyoming'}))\n",
    "pass   \n",
    "\n",
    "\n",
    "   "
   ]
  },
  {
   "cell_type": "code",
   "execution_count": null,
   "metadata": {},
   "outputs": [],
   "source": [
    "Q3\n",
    "\n",
    "a. What are different scope of the variables in functions. b. List the difference between global variable and local variable c. \n",
    "Use list (with dunny data) and demostrate programatically how the global variable and local variables differs"
   ]
  },
  {
   "cell_type": "markdown",
   "metadata": {},
   "source": [
    "#a. What are different scope of the variables in functions\n",
    "\n",
    "There are 4 types of scope of variables in python\n",
    "\n",
    "1.Local Scope\n",
    "The Variables which are defined in the function and function body \n",
    "\n",
    "\n",
    "2.Global Scope\n",
    "The Variable which can be read from anywhere in the program is known as a global scope and accessed anywhere in the function\n",
    "\n",
    "3.NonLocal or Enclosing Scope. \n",
    "It is defined in the nested function\n",
    "\n",
    "\n",
    "4.Built-in Scope. \n",
    "If a Variable is not defined in local, nonlocal or global scope then  looks for it in the built-in scope."
   ]
  },
  {
   "cell_type": "code",
   "execution_count": 6,
   "metadata": {},
   "outputs": [
    {
     "name": "stdout",
     "output_type": "stream",
     "text": [
      "Python is  ['plum', 2, 4]\n",
      "Python is  ['apple', 0, 1]\n"
     ]
    }
   ],
   "source": [
    "#Global variable\n",
    "\n",
    "x = [\"apple\",0,1]\n",
    "\n",
    "def myfunc():\n",
    "  x = [\"plum\",2,4]\n",
    "  print(\"Python is \", x)\n",
    "\n",
    "myfunc()\n",
    "\n",
    "print(\"Python is \", x)\n",
    "\n",
    "#variable with the same name inside a function will be local and can only be used inside the function. \n",
    "#global variable(x=[\"apple\",0,1]) with the same name will remain as it is.\n",
    "\n"
   ]
  },
  {
   "cell_type": "code",
   "execution_count": null,
   "metadata": {},
   "outputs": [],
   "source": [
    "#Q4. List different file operations available in python. \n",
    "#(List the maximum you can) Use a sample text file, and demonstrate the above. (Use the most often used file operations)\n",
    "\n",
    "\n"
   ]
  }
 ],
 "metadata": {
  "kernelspec": {
   "display_name": "Python 3",
   "language": "python",
   "name": "python3"
  },
  "language_info": {
   "codemirror_mode": {
    "name": "ipython",
    "version": 3
   },
   "file_extension": ".py",
   "mimetype": "text/x-python",
   "name": "python",
   "nbconvert_exporter": "python",
   "pygments_lexer": "ipython3",
   "version": "3.8.5"
  }
 },
 "nbformat": 4,
 "nbformat_minor": 4
}
