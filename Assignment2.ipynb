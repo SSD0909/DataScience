{
 "cells": [
  {
   "cell_type": "code",
   "execution_count": null,
   "metadata": {},
   "outputs": [],
   "source": [
    "#Take the input from the user asking for the following\n",
    "\n",
    "#a. Name\n",
    "#b. Age\n",
    "#c. DOB\n",
    "\n",
    "#Convert these inputs to the appropriate data formats - eg : Name should be string. \n",
    "\n",
    "#Print the following \n",
    "\n",
    "#Name of the the user is -- . The Data type is -- \n",
    "#Age of the the user is -- . The Data type is -- \n",
    "#DOB of the the user is -- . The Data type is -- "
   ]
  },
  {
   "cell_type": "code",
   "execution_count": 3,
   "metadata": {},
   "outputs": [],
   "source": [
    "import math\n",
    "import datetime\n",
    "import random"
   ]
  },
  {
   "cell_type": "code",
   "execution_count": 45,
   "metadata": {},
   "outputs": [
    {
     "name": "stdout",
     "output_type": "stream",
     "text": [
      "Enter UserNamestephy\n",
      "Enter User Age33\n",
      "Enter User DOB03031988\n",
      "Name of the the user is  stephy The Data type is <class 'str'>\n",
      "Age of the the user is  33 The Data type is <class 'int'>\n",
      "DOB of the the user is  03031988 The Data type is <class 'str'>\n"
     ]
    }
   ],
   "source": [
    "#User can input the name\n",
    "Name=str(input(\"Enter UserName :\"))\n",
    "#User can input the Age\n",
    "Age=int(input(\"Enter User Age :\"))\n",
    "#User can input the DOB\n",
    "DOB=str(input(\"Enter User DOB :\"))\n",
    "\n",
    "print(\"Name of the the user is \", Name, \"The Data type is\",type(Name))\n",
    "      \n",
    "print(\"Age of the the user is \", Age, \"The Data type is\",type(Age))\n",
    "\n",
    "print(\"DOB of the the user is \", DOB, \"The Data type is\",type(DOB))"
   ]
  },
  {
   "cell_type": "code",
   "execution_count": null,
   "metadata": {},
   "outputs": [],
   "source": [
    "#2. List the differences between \n",
    "#a. list and tuple\n",
    "\n",
    "List properties: ordered, iterable, mutable, can contain multiple data types\n",
    "Tuple properties: ordered, iterable, immutable, can contain multiple data types\n",
    "Like lists, but they don't change size\n",
    "#b. Dictionary and set\n",
    "\n",
    "Dictionary properties: unordered, iterable, mutable, can contain multiple data types\n",
    "Made of key-value pairs\n",
    "Keys must be unique, and can be strings, numbers, or tuples\n",
    "Values can be any type\n",
    "\n",
    "Sets value is not mutable"
   ]
  },
  {
   "cell_type": "code",
   "execution_count": 57,
   "metadata": {},
   "outputs": [
    {
     "name": "stdout",
     "output_type": "stream",
     "text": [
      "1\n",
      "5\n",
      "3\n",
      "1\n",
      "4\n",
      "14\n",
      "The Smallest Element in this List is :  1\n",
      "The Largest Element in this List is :  5\n"
     ]
    }
   ],
   "source": [
    "#Generate random numbers (integer)-> Generate 5 random integers \n",
    "def randnumber():\n",
    "   num = [] \n",
    "   for i in range(5):\n",
    "        number = random.randint(0,5)\n",
    "        num.append(number)\n",
    "        \n",
    "        print(number)\n",
    "        \n",
    "#calculate the sum  of the above generate numbers \n",
    "\n",
    "   print(sum(num))\n",
    "#Find the max of the number Find the min of the number\n",
    "\n",
    "   print(\"The Smallest Element in this List is : \", min(num))\n",
    "   print(\"The Largest Element in this List is : \", max(num))\n",
    "   \n",
    "randnumber()"
   ]
  },
  {
   "cell_type": "code",
   "execution_count": 46,
   "metadata": {},
   "outputs": [
    {
     "data": {
      "text/plain": [
       "['cherry', 'lemon', 'apple', 'orange', 'grape', 'apple', 'orange', 'apple']"
      ]
     },
     "execution_count": 46,
     "metadata": {},
     "output_type": "execute_result"
    }
   ],
   "source": [
    "#Lists\n",
    "\n",
    "fruits = ['apple', 'orange', 'grape']\n",
    "fruits [-3]\n",
    "fruits .insert(0,'lemon')\n",
    "fruits \n",
    "fruits [0]\n",
    "len(fruits)\n",
    "fruits.extend(['apple', 'orange', 'apple'])\n",
    "fruits\n",
    "fruits.insert(0, 'cherry')\n",
    "fruits"
   ]
  },
  {
   "cell_type": "code",
   "execution_count": 48,
   "metadata": {},
   "outputs": [
    {
     "data": {
      "text/plain": [
       "['apple', 'orange', 'grape', 'apple', 'orange', 'apple']"
      ]
     },
     "execution_count": 48,
     "metadata": {},
     "output_type": "execute_result"
    }
   ],
   "source": [
    "fruits.remove('lemon')\n",
    "fruits"
   ]
  },
  {
   "cell_type": "code",
   "execution_count": 58,
   "metadata": {},
   "outputs": [
    {
     "data": {
      "text/plain": [
       "'apple'"
      ]
     },
     "execution_count": 58,
     "metadata": {},
     "output_type": "execute_result"
    }
   ],
   "source": [
    "fruits.pop(0)\n"
   ]
  },
  {
   "cell_type": "code",
   "execution_count": 59,
   "metadata": {},
   "outputs": [
    {
     "data": {
      "text/plain": [
       "['grape', 'apple', 'orange', 'apple']"
      ]
     },
     "execution_count": 59,
     "metadata": {},
     "output_type": "execute_result"
    }
   ],
   "source": [
    "# remove element 0 (does not return it)\n",
    "del fruits[0]\n",
    "fruits"
   ]
  },
  {
   "cell_type": "code",
   "execution_count": 60,
   "metadata": {},
   "outputs": [
    {
     "data": {
      "text/plain": [
       "['grape', 'kiwi', 'lemon', 'orange', 'apple']"
      ]
     },
     "execution_count": 60,
     "metadata": {},
     "output_type": "execute_result"
    }
   ],
   "source": [
    "# replace element 0\n",
    "fruits[1:2] = ['kiwi','lemon']\n",
    "fruits"
   ]
  },
  {
   "cell_type": "code",
   "execution_count": 61,
   "metadata": {},
   "outputs": [
    {
     "data": {
      "text/plain": [
       "['grape',\n",
       " ['sam', 'itchy'],\n",
       " 'lemon',\n",
       " 'orange',\n",
       " 'apple',\n",
       " 'zucchini',\n",
       " 'carrot',\n",
       " 'onion']"
      ]
     },
     "execution_count": 61,
     "metadata": {},
     "output_type": "execute_result"
    }
   ],
   "source": [
    "# concatenate lists (slower than 'extend' method)\n",
    "veggies = fruits + ['zucchini', 'carrot', 'onion']\n",
    "veggies\n",
    "veggies[1]=['sam','itchy']\n",
    "veggies"
   ]
  },
  {
   "cell_type": "code",
   "execution_count": 62,
   "metadata": {},
   "outputs": [
    {
     "data": {
      "text/plain": [
       "0"
      ]
     },
     "execution_count": 62,
     "metadata": {},
     "output_type": "execute_result"
    }
   ],
   "source": [
    "# counts the number of instances\n",
    "fruits.count('itchy')\n"
   ]
  },
  {
   "cell_type": "code",
   "execution_count": null,
   "metadata": {},
   "outputs": [],
   "source": [
    "# elements 0 (inclusive) to 3 (exclusive)\n",
    "weekdays = ['mon', 'tues', 'wed', 'thurs', 'fri']\n",
    "weekdays[0:3]\n",
    "weekdays"
   ]
  },
  {
   "cell_type": "code",
   "execution_count": 64,
   "metadata": {},
   "outputs": [
    {
     "data": {
      "text/plain": [
       "['apple', 'grape', 'kiwi', 'lemon', 'orange']"
      ]
     },
     "execution_count": 64,
     "metadata": {},
     "output_type": "execute_result"
    }
   ],
   "source": [
    "fruits.sort()\n",
    "fruits"
   ]
  },
  {
   "cell_type": "code",
   "execution_count": 65,
   "metadata": {},
   "outputs": [
    {
     "name": "stdout",
     "output_type": "stream",
     "text": [
      "0\n",
      "1\n",
      "two\n"
     ]
    }
   ],
   "source": [
    "# create a tuple directly\n",
    "digits = (0, 1, 'two')\n",
    "for i in digits:\n",
    "    print(i)"
   ]
  },
  {
   "cell_type": "code",
   "execution_count": 66,
   "metadata": {},
   "outputs": [
    {
     "data": {
      "text/plain": [
       "(0,)"
      ]
     },
     "execution_count": 66,
     "metadata": {},
     "output_type": "execute_result"
    }
   ],
   "source": [
    "# create a tuple from a list\n",
    "digits = tuple([0, 1, 'two'])\n",
    "digits[0:1]"
   ]
  },
  {
   "cell_type": "code",
   "execution_count": 67,
   "metadata": {},
   "outputs": [
    {
     "data": {
      "text/plain": [
       "2"
      ]
     },
     "execution_count": 67,
     "metadata": {},
     "output_type": "execute_result"
    }
   ],
   "source": [
    "# returns the index of the first instance of that value\n",
    "\n",
    "items = ['car','book','pen']\n",
    "items[2]\n",
    "items.index(\"pen\")"
   ]
  },
  {
   "cell_type": "code",
   "execution_count": 68,
   "metadata": {},
   "outputs": [
    {
     "data": {
      "text/plain": [
       "(0, 1, 'two', 3, 4)"
      ]
     },
     "execution_count": 68,
     "metadata": {},
     "output_type": "execute_result"
    }
   ],
   "source": [
    "# concatenate tuples\n",
    "digits = (0, 1, 'two')\n",
    "digits = digits + (3, 4)\n",
    "digits"
   ]
  },
  {
   "cell_type": "code",
   "execution_count": 69,
   "metadata": {},
   "outputs": [],
   "source": [
    "# create an empty dictionary (two ways)\n",
    "empty_dict = {}\n",
    "empty_dict = dict()"
   ]
  },
  {
   "cell_type": "code",
   "execution_count": 70,
   "metadata": {},
   "outputs": [
    {
     "data": {
      "text/plain": [
       "{'dad': 'homer', 'mom': 'marge', 'size': 6}"
      ]
     },
     "execution_count": 70,
     "metadata": {},
     "output_type": "execute_result"
    }
   ],
   "source": [
    "# create a dictionary (two ways)\n",
    "family = {'dad':'homer', 'mom':'marge', 'size':6}\n",
    "family = dict(dad='homer', mom='marge', size=6)\n",
    "family"
   ]
  },
  {
   "cell_type": "code",
   "execution_count": 71,
   "metadata": {},
   "outputs": [
    {
     "name": "stdout",
     "output_type": "stream",
     "text": [
      "{1, 2, 3, 4, 5, 9}\n",
      "1\n",
      "2\n",
      "3\n",
      "4\n",
      "5\n",
      "9\n"
     ]
    }
   ],
   "source": [
    "set1 = {5,2,3,4,1,9,1}\n",
    "print(set1)\n",
    "#value is not mutable\n",
    "set1\n",
    "for i in set1:\n",
    "    print(i)"
   ]
  },
  {
   "cell_type": "code",
   "execution_count": 72,
   "metadata": {},
   "outputs": [
    {
     "name": "stdout",
     "output_type": "stream",
     "text": [
      "{1, 2, 3, 4, 5, 9}\n"
     ]
    }
   ],
   "source": [
    "print(set1)"
   ]
  },
  {
   "cell_type": "code",
   "execution_count": 82,
   "metadata": {},
   "outputs": [
    {
     "name": "stdout",
     "output_type": "stream",
     "text": [
      "10\n",
      "1\n",
      "4.47213595499958\n",
      "False\n",
      "False\n",
      "True\n",
      "0b1000\n",
      "4\n",
      "['1', '2', '3', 'v', '9ol']\n"
     ]
    }
   ],
   "source": [
    "#five built in functions in python for List\n",
    "#absolute function\n",
    "x=10\n",
    "y=-1\n",
    "z=4+2j\n",
    "print(abs(x))\n",
    "print(abs(y))\n",
    "print(abs(z))\n",
    "\n",
    "#all function, similar to \"and\" operator\n",
    "\n",
    "dict={0:\"lion\", 1:\"tiger\"}#takes only the key and not the value\n",
    "a=all(dict)\n",
    "print(a)\n",
    "\n",
    "tuple=(0,True, False)\n",
    "print(all(tuple))\n",
    "\n",
    "#any function , similar to \"OR\" operator\n",
    "s={0,1,1,1,0,0}\n",
    "b=any(s)\n",
    "print(b)#atleast one is true\n",
    "\n",
    "#bin function, returns binary value of the number\n",
    "t=8\n",
    "print(bin(t))\n",
    "\n",
    "#round function,round off value of a number\n",
    "\n",
    "print(round(4.5))\n",
    "\n",
    "#List() function is used to convert an object into a list\n",
    "l=[\"1\",\"2\",\"3\",\"v\",\"9ol\"]\n",
    "print(list(l))"
   ]
  },
  {
   "cell_type": "code",
   "execution_count": 91,
   "metadata": {},
   "outputs": [
    {
     "name": "stdout",
     "output_type": "stream",
     "text": [
      "True\n",
      "True\n"
     ]
    }
   ],
   "source": [
    "#List the differences between in and is operator and use it in a. list \n",
    "\n",
    "fruits = ['apple', 'orange', 'grape']\n",
    "print(\"orange\" in fruits)\n",
    "\n",
    "fruits = ['apple', 'orange', 'grape']\n",
    "fruits1 = ['apple', 'orange', 'grape']\n",
    "fruits2 = fruits\n",
    "print(fruits is fruits2)\n",
    "\n"
   ]
  },
  {
   "cell_type": "code",
   "execution_count": 86,
   "metadata": {},
   "outputs": [
    {
     "name": "stdout",
     "output_type": "stream",
     "text": [
      "True\n"
     ]
    }
   ],
   "source": [
    "tuple = ('apple', 10, 'banana') \n",
    "print(\"apple\" in tuple)\n"
   ]
  },
  {
   "cell_type": "code",
   "execution_count": 90,
   "metadata": {},
   "outputs": [
    {
     "name": "stdout",
     "output_type": "stream",
     "text": [
      "True\n"
     ]
    }
   ],
   "source": [
    "fruits = ('apple', 'orange', 'grape')\n",
    "fruits1 = ('apple', 'orange', 'grape')\n",
    "fruits2 = fruits\n",
    "print(fruits is fruits2)"
   ]
  },
  {
   "cell_type": "code",
   "execution_count": 92,
   "metadata": {},
   "outputs": [
    {
     "name": "stdout",
     "output_type": "stream",
     "text": [
      "True\n"
     ]
    }
   ],
   "source": [
    "s={'apple', 'orange', 'grape'}\n",
    "print(\"apple\" in s)"
   ]
  },
  {
   "cell_type": "code",
   "execution_count": 93,
   "metadata": {},
   "outputs": [
    {
     "name": "stdout",
     "output_type": "stream",
     "text": [
      "True\n"
     ]
    }
   ],
   "source": [
    "fruits = {'apple', 'orange', 'grape'}\n",
    "fruits1 = {'apple', 'orange', 'grape'}\n",
    "fruits2 = fruits\n",
    "print(fruits is fruits2)"
   ]
  },
  {
   "cell_type": "code",
   "execution_count": 94,
   "metadata": {},
   "outputs": [
    {
     "name": "stdout",
     "output_type": "stream",
     "text": [
      "False\n"
     ]
    }
   ],
   "source": [
    "family = {'dad':'homer', 'mom':'marge', 'size':6}\n",
    "print(\"homer\" in family)"
   ]
  },
  {
   "cell_type": "code",
   "execution_count": 95,
   "metadata": {},
   "outputs": [
    {
     "name": "stdout",
     "output_type": "stream",
     "text": [
      "False\n"
     ]
    }
   ],
   "source": [
    "family = {'dad':'homer', 'mom':'marge', 'size':6}\n",
    "family1 = {'dad':'homer', 'mom':'marge', 'size':6}\n",
    "family2=family\n",
    "print(family is fruits2)"
   ]
  },
  {
   "cell_type": "code",
   "execution_count": null,
   "metadata": {},
   "outputs": [],
   "source": []
  }
 ],
 "metadata": {
  "kernelspec": {
   "display_name": "Python 3",
   "language": "python",
   "name": "python3"
  },
  "language_info": {
   "codemirror_mode": {
    "name": "ipython",
    "version": 3
   },
   "file_extension": ".py",
   "mimetype": "text/x-python",
   "name": "python",
   "nbconvert_exporter": "python",
   "pygments_lexer": "ipython3",
   "version": "3.8.5"
  }
 },
 "nbformat": 4,
 "nbformat_minor": 4
}
