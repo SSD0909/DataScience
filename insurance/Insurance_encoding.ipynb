{
 "cells": [
  {
   "cell_type": "code",
   "execution_count": 3,
   "metadata": {},
   "outputs": [],
   "source": [
    "#import libraries\n",
    "\n",
    "%matplotlib inline\n",
    "\n",
    "import matplotlib.pyplot as plt\n",
    "import seaborn as sns\n",
    "import numpy as np\n",
    "import pandas as pd\n",
    "import warnings\n",
    "warnings.filterwarnings('ignore')"
   ]
  },
  {
   "cell_type": "code",
   "execution_count": 4,
   "metadata": {},
   "outputs": [
    {
     "data": {
      "text/plain": [
       "(1338, 7)"
      ]
     },
     "execution_count": 4,
     "metadata": {},
     "output_type": "execute_result"
    }
   ],
   "source": [
    "#read data\n",
    "data = pd.read_csv('insurance.csv')\n",
    "#check head of it\n",
    "\n",
    "data.head()\n",
    "data.shape"
   ]
  },
  {
   "cell_type": "code",
   "execution_count": 5,
   "metadata": {},
   "outputs": [
    {
     "name": "stdout",
     "output_type": "stream",
     "text": [
      "Pandas factorize function for label encoding with series\n",
      "0    southwest\n",
      "1    southeast\n",
      "2    southeast\n",
      "3    northwest\n",
      "4    northwest\n",
      "5    southeast\n",
      "6    southeast\n",
      "7    northwest\n",
      "8    northeast\n",
      "9    northwest\n",
      "Name: region, dtype: object\n",
      "Index(['southwest', 'southeast', 'northwest', 'northeast'], dtype='object')\n",
      "[0 1 1 2 2 1 1 2 3 2]\n"
     ]
    }
   ],
   "source": [
    "#option0: pandas factorizing: maps each category to a different integer = label encoder of sklearn\n",
    "\n",
    "#create series for pandas\n",
    "\n",
    "region = data[\"region\"] # series \n",
    "\n",
    "region_encoded, region_categories = pd.factorize(region)\n",
    "\n",
    "\n",
    "#list1 = list(region_encoded)\n",
    "#list2 = list(region_categories)\n",
    "\n",
    "#factor_region_mapping = dict(zip(region_categories,region_encoded)) #mapping of encoded numbers and original categories.\n",
    "\n",
    "#test2 = list(zip(list1,list2))\n",
    "#zipped_list = test2[:]\n",
    "#zipped_list_2 = list(test2)\n",
    "\n",
    "print(\"Pandas factorize function for label encoding with series\")  \n",
    "\n",
    "print(region[0:10]) #original version \n",
    "\n",
    "print(region_categories) #list of categories\n",
    "\n",
    "print(region_encoded[0:10]) #encoded numbers for categories \n",
    "#print(factor_region_mapping)\n",
    " # print factor mapping\n",
    "    \n",
    "\n",
    "    \n",
    "    \n",
    "#L = list(region_categories)\n",
    "\n",
    "#l_dict = dict(zip(set(L), range(len(L))))\n",
    "\n",
    "#print(l_dict)\n",
    "\n",
    "\n",
    "\n",
    "\n",
    "#L=list(region_categories)\n",
    "#l_dict=dict(zip(set(L),range(len(L))))\n",
    "#print(l_dict)\n",
    "\n",
    "\n",
    "#print(region_categories)\n",
    "#print(L)"
   ]
  },
  {
   "cell_type": "code",
   "execution_count": null,
   "metadata": {},
   "outputs": [],
   "source": [
    "#zip(region_categories,region_encoded"
   ]
  },
  {
   "cell_type": "code",
   "execution_count": null,
   "metadata": {},
   "outputs": [],
   "source": [
    "#for i in zip(region_categories,region_encoded):\n",
    "    print(i)"
   ]
  },
  {
   "cell_type": "code",
   "execution_count": null,
   "metadata": {},
   "outputs": [],
   "source": [
    "#region_categories, region_encoded"
   ]
  },
  {
   "cell_type": "markdown",
   "metadata": {},
   "source": [
    "``know this``\n",
    "<a href=\"https://stackoverflow.com/questions/40336502/want-to-know-the-diff-among-pd-factorize-pd-get-dummies-sklearn-preprocessing/40338956\">ENCODERS DIFFERENCE</a>\n"
   ]
  },
  {
   "cell_type": "code",
   "execution_count": 6,
   "metadata": {},
   "outputs": [
    {
     "name": "stdout",
     "output_type": "stream",
     "text": [
      "Pandas get_dummies function for one hot encoding with series\n",
      "0    southwest\n",
      "1    southeast\n",
      "2    southeast\n",
      "3    northwest\n",
      "4    northwest\n",
      "5    southeast\n",
      "6    southeast\n",
      "7    northwest\n",
      "8    northeast\n",
      "9    northwest\n",
      "Name: region, dtype: object\n",
      "   _northeast  _northwest  _southeast  _southwest\n",
      "0           0           0           0           1\n",
      "1           0           0           1           0\n",
      "2           0           0           1           0\n",
      "3           0           1           0           0\n",
      "4           0           1           0           0\n",
      "5           0           0           1           0\n",
      "6           0           0           1           0\n",
      "7           0           1           0           0\n",
      "8           1           0           0           0\n",
      "9           0           1           0           0\n"
     ]
    }
   ],
   "source": [
    "#option1: pandas get_dummies: maps each category to 0 (cold) or 1 (hot) = one hot encoder \n",
    "\n",
    "#create series for pandas\n",
    "region = data[\"region\"] # series \n",
    "region_encoded = pd.get_dummies(region, prefix='')\n",
    "\n",
    "print(\"Pandas get_dummies function for one hot encoding with series\")  \n",
    "\n",
    "print(region[0:10]) #original version \n",
    "print(region_encoded[0:10]) #encoded numbers for categories \n"
   ]
  },
  {
   "cell_type": "code",
   "execution_count": 5,
   "metadata": {},
   "outputs": [
    {
     "name": "stdout",
     "output_type": "stream",
     "text": [
      "Sklearn label encoder results for sex:\n",
      "{'female': 0, 'male': 1}\n",
      "  sex\n",
      "0   0\n",
      "1   1\n",
      "2   1\n",
      "3   1\n",
      "4   1\n",
      "5   0\n",
      "6   0\n",
      "7   0\n",
      "8   1\n",
      "9   0\n",
      "Sklearn label encoder results for smoker:\n",
      "{'no': 0, 'yes': 1}\n",
      "  smoker\n",
      "0      1\n",
      "1      0\n",
      "2      0\n",
      "3      0\n",
      "4      0\n",
      "5      0\n",
      "6      0\n",
      "7      0\n",
      "8      0\n",
      "9      0\n"
     ]
    }
   ],
   "source": [
    "#option2: sklearn label encoding: maps each category to a different integer\n",
    "\n",
    "#create ndarray for label encodoing (sklearn)\n",
    "\n",
    "\n",
    "from sklearn.preprocessing import LabelEncoder\n",
    "\n",
    "sex = data.iloc[:,1:2].values\n",
    "smoker = data.iloc[:,4:5].values\n",
    "\n",
    "\n",
    "\n",
    "#label encoder = le\n",
    "\n",
    "\n",
    "## le for sex\n",
    "le = LabelEncoder()\n",
    "sex[:,0] = le.fit_transform(sex[:,0])\n",
    "sex = pd.DataFrame(sex)\n",
    "sex.columns = ['sex']\n",
    "le_sex_mapping = dict(zip(le.classes_, le.transform(le.classes_)))\n",
    "print(\"Sklearn label encoder results for sex:\")\n",
    "print(le_sex_mapping)\n",
    "print(sex[:10])\n",
    "\n",
    "\n",
    "\n",
    "\n",
    "\n",
    "\n",
    "## le for smoker\n",
    "le = LabelEncoder()\n",
    "smoker[:,0] = le.fit_transform(smoker[:,0])\n",
    "smoker = pd.DataFrame(smoker)\n",
    "smoker.columns = ['smoker']\n",
    "le_smoker_mapping = dict(zip(le.classes_, le.transform(le.classes_)))\n",
    "print(\"Sklearn label encoder results for smoker:\")\n",
    "print(le_smoker_mapping)\n",
    "print(smoker[:10])"
   ]
  },
  {
   "cell_type": "code",
   "execution_count": 8,
   "metadata": {},
   "outputs": [
    {
     "name": "stdout",
     "output_type": "stream",
     "text": [
      "Sklearn one hot encoder results for region:\n",
      "   northeast  northwest  southeast  southwest\n",
      "0        0.0        0.0        0.0        1.0\n",
      "1        0.0        0.0        1.0        0.0\n",
      "2        0.0        0.0        1.0        0.0\n",
      "3        0.0        1.0        0.0        0.0\n",
      "4        0.0        1.0        0.0        0.0\n",
      "5        0.0        0.0        1.0        0.0\n",
      "6        0.0        0.0        1.0        0.0\n",
      "7        0.0        1.0        0.0        0.0\n",
      "8        1.0        0.0        0.0        0.0\n",
      "9        0.0        1.0        0.0        0.0\n"
     ]
    }
   ],
   "source": [
    "#option3: sklearn one hot encoding: maps each category to 0 (cold) or 1 (hot) \n",
    "\n",
    "from sklearn.preprocessing import OneHotEncoder\n",
    "\n",
    "#one hot encoder = ohe\n",
    "\n",
    "#create ndarray for one hot encodoing (sklearn)\n",
    "region = data.iloc[:,5:6].values #ndarray\n",
    "\n",
    "## ohe for region\n",
    "ohe = OneHotEncoder() \n",
    "\n",
    "region = ohe.fit_transform(region).toarray()\n",
    "\n",
    "#region\n",
    "region = pd.DataFrame(region)\n",
    "region.columns = ['northeast', 'northwest', 'southeast', 'southwest']\n",
    "\n",
    "print(\"Sklearn one hot encoder results for region:\")  \n",
    "print(region[:10])\n"
   ]
  },
  {
   "cell_type": "code",
   "execution_count": null,
   "metadata": {},
   "outputs": [],
   "source": []
  }
 ],
 "metadata": {
  "kernelspec": {
   "display_name": "Python 3",
   "language": "python",
   "name": "python3"
  },
  "language_info": {
   "codemirror_mode": {
    "name": "ipython",
    "version": 3
   },
   "file_extension": ".py",
   "mimetype": "text/x-python",
   "name": "python",
   "nbconvert_exporter": "python",
   "pygments_lexer": "ipython3",
   "version": "3.8.5"
  }
 },
 "nbformat": 4,
 "nbformat_minor": 5
}
