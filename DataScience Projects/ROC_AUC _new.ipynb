{
 "cells": [
  {
   "cell_type": "markdown",
   "metadata": {
    "id": "4A8FSGNAWAPu"
   },
   "source": [
    "#  ROC (Receiver Operating Characteristic )  Curve\n",
    "# AUC (Area Under the Curve ) Score\n"
   ]
  },
  {
   "cell_type": "code",
   "execution_count": 21,
   "metadata": {
    "colab": {
     "base_uri": "https://localhost:8080/",
     "height": 441
    },
    "executionInfo": {
     "elapsed": 2893,
     "status": "error",
     "timestamp": 1604226879973,
     "user": {
      "displayName": "Hemanth kumar",
      "photoUrl": "https://lh3.googleusercontent.com/a-/AOh14GjkPuIu1A00nC8FCrFCSJmK1K4x-l-UmjHISU2kZQ=s64",
      "userId": "02792351768922846610"
     },
     "user_tz": 480
    },
    "id": "ptgZegCrWAPw",
    "outputId": "62dedaa4-cdeb-4b3c-accb-0fac2739ec91"
   },
   "outputs": [
    {
     "name": "stdout",
     "output_type": "stream",
     "text": [
      "(569, 31)\n"
     ]
    },
    {
     "data": {
      "text/html": [
       "<div>\n",
       "<style scoped>\n",
       "    .dataframe tbody tr th:only-of-type {\n",
       "        vertical-align: middle;\n",
       "    }\n",
       "\n",
       "    .dataframe tbody tr th {\n",
       "        vertical-align: top;\n",
       "    }\n",
       "\n",
       "    .dataframe thead th {\n",
       "        text-align: right;\n",
       "    }\n",
       "</style>\n",
       "<table border=\"1\" class=\"dataframe\">\n",
       "  <thead>\n",
       "    <tr style=\"text-align: right;\">\n",
       "      <th></th>\n",
       "      <th>mean radius</th>\n",
       "      <th>mean texture</th>\n",
       "      <th>mean perimeter</th>\n",
       "      <th>mean area</th>\n",
       "      <th>mean smoothness</th>\n",
       "      <th>mean compactness</th>\n",
       "      <th>mean concavity</th>\n",
       "      <th>mean concave points</th>\n",
       "      <th>mean symmetry</th>\n",
       "      <th>mean fractal dimension</th>\n",
       "      <th>...</th>\n",
       "      <th>worst texture</th>\n",
       "      <th>worst perimeter</th>\n",
       "      <th>worst area</th>\n",
       "      <th>worst smoothness</th>\n",
       "      <th>worst compactness</th>\n",
       "      <th>worst concavity</th>\n",
       "      <th>worst concave points</th>\n",
       "      <th>worst symmetry</th>\n",
       "      <th>worst fractal dimension</th>\n",
       "      <th>outcome</th>\n",
       "    </tr>\n",
       "  </thead>\n",
       "  <tbody>\n",
       "    <tr>\n",
       "      <th>0</th>\n",
       "      <td>17.99</td>\n",
       "      <td>10.38</td>\n",
       "      <td>122.80</td>\n",
       "      <td>1001.0</td>\n",
       "      <td>0.11840</td>\n",
       "      <td>0.27760</td>\n",
       "      <td>0.3001</td>\n",
       "      <td>0.14710</td>\n",
       "      <td>0.2419</td>\n",
       "      <td>0.07871</td>\n",
       "      <td>...</td>\n",
       "      <td>17.33</td>\n",
       "      <td>184.60</td>\n",
       "      <td>2019.0</td>\n",
       "      <td>0.1622</td>\n",
       "      <td>0.6656</td>\n",
       "      <td>0.7119</td>\n",
       "      <td>0.2654</td>\n",
       "      <td>0.4601</td>\n",
       "      <td>0.11890</td>\n",
       "      <td>1</td>\n",
       "    </tr>\n",
       "    <tr>\n",
       "      <th>1</th>\n",
       "      <td>20.57</td>\n",
       "      <td>17.77</td>\n",
       "      <td>132.90</td>\n",
       "      <td>1326.0</td>\n",
       "      <td>0.08474</td>\n",
       "      <td>0.07864</td>\n",
       "      <td>0.0869</td>\n",
       "      <td>0.07017</td>\n",
       "      <td>0.1812</td>\n",
       "      <td>0.05667</td>\n",
       "      <td>...</td>\n",
       "      <td>23.41</td>\n",
       "      <td>158.80</td>\n",
       "      <td>1956.0</td>\n",
       "      <td>0.1238</td>\n",
       "      <td>0.1866</td>\n",
       "      <td>0.2416</td>\n",
       "      <td>0.1860</td>\n",
       "      <td>0.2750</td>\n",
       "      <td>0.08902</td>\n",
       "      <td>1</td>\n",
       "    </tr>\n",
       "    <tr>\n",
       "      <th>2</th>\n",
       "      <td>19.69</td>\n",
       "      <td>21.25</td>\n",
       "      <td>130.00</td>\n",
       "      <td>1203.0</td>\n",
       "      <td>0.10960</td>\n",
       "      <td>0.15990</td>\n",
       "      <td>0.1974</td>\n",
       "      <td>0.12790</td>\n",
       "      <td>0.2069</td>\n",
       "      <td>0.05999</td>\n",
       "      <td>...</td>\n",
       "      <td>25.53</td>\n",
       "      <td>152.50</td>\n",
       "      <td>1709.0</td>\n",
       "      <td>0.1444</td>\n",
       "      <td>0.4245</td>\n",
       "      <td>0.4504</td>\n",
       "      <td>0.2430</td>\n",
       "      <td>0.3613</td>\n",
       "      <td>0.08758</td>\n",
       "      <td>1</td>\n",
       "    </tr>\n",
       "    <tr>\n",
       "      <th>3</th>\n",
       "      <td>11.42</td>\n",
       "      <td>20.38</td>\n",
       "      <td>77.58</td>\n",
       "      <td>386.1</td>\n",
       "      <td>0.14250</td>\n",
       "      <td>0.28390</td>\n",
       "      <td>0.2414</td>\n",
       "      <td>0.10520</td>\n",
       "      <td>0.2597</td>\n",
       "      <td>0.09744</td>\n",
       "      <td>...</td>\n",
       "      <td>26.50</td>\n",
       "      <td>98.87</td>\n",
       "      <td>567.7</td>\n",
       "      <td>0.2098</td>\n",
       "      <td>0.8663</td>\n",
       "      <td>0.6869</td>\n",
       "      <td>0.2575</td>\n",
       "      <td>0.6638</td>\n",
       "      <td>0.17300</td>\n",
       "      <td>1</td>\n",
       "    </tr>\n",
       "    <tr>\n",
       "      <th>4</th>\n",
       "      <td>20.29</td>\n",
       "      <td>14.34</td>\n",
       "      <td>135.10</td>\n",
       "      <td>1297.0</td>\n",
       "      <td>0.10030</td>\n",
       "      <td>0.13280</td>\n",
       "      <td>0.1980</td>\n",
       "      <td>0.10430</td>\n",
       "      <td>0.1809</td>\n",
       "      <td>0.05883</td>\n",
       "      <td>...</td>\n",
       "      <td>16.67</td>\n",
       "      <td>152.20</td>\n",
       "      <td>1575.0</td>\n",
       "      <td>0.1374</td>\n",
       "      <td>0.2050</td>\n",
       "      <td>0.4000</td>\n",
       "      <td>0.1625</td>\n",
       "      <td>0.2364</td>\n",
       "      <td>0.07678</td>\n",
       "      <td>1</td>\n",
       "    </tr>\n",
       "  </tbody>\n",
       "</table>\n",
       "<p>5 rows × 31 columns</p>\n",
       "</div>"
      ],
      "text/plain": [
       "   mean radius  mean texture  mean perimeter  mean area  mean smoothness  \\\n",
       "0        17.99         10.38          122.80     1001.0          0.11840   \n",
       "1        20.57         17.77          132.90     1326.0          0.08474   \n",
       "2        19.69         21.25          130.00     1203.0          0.10960   \n",
       "3        11.42         20.38           77.58      386.1          0.14250   \n",
       "4        20.29         14.34          135.10     1297.0          0.10030   \n",
       "\n",
       "   mean compactness  mean concavity  mean concave points  mean symmetry  \\\n",
       "0           0.27760          0.3001              0.14710         0.2419   \n",
       "1           0.07864          0.0869              0.07017         0.1812   \n",
       "2           0.15990          0.1974              0.12790         0.2069   \n",
       "3           0.28390          0.2414              0.10520         0.2597   \n",
       "4           0.13280          0.1980              0.10430         0.1809   \n",
       "\n",
       "   mean fractal dimension  ...  worst texture  worst perimeter  worst area  \\\n",
       "0                 0.07871  ...          17.33           184.60      2019.0   \n",
       "1                 0.05667  ...          23.41           158.80      1956.0   \n",
       "2                 0.05999  ...          25.53           152.50      1709.0   \n",
       "3                 0.09744  ...          26.50            98.87       567.7   \n",
       "4                 0.05883  ...          16.67           152.20      1575.0   \n",
       "\n",
       "   worst smoothness  worst compactness  worst concavity  worst concave points  \\\n",
       "0            0.1622             0.6656           0.7119                0.2654   \n",
       "1            0.1238             0.1866           0.2416                0.1860   \n",
       "2            0.1444             0.4245           0.4504                0.2430   \n",
       "3            0.2098             0.8663           0.6869                0.2575   \n",
       "4            0.1374             0.2050           0.4000                0.1625   \n",
       "\n",
       "   worst symmetry  worst fractal dimension  outcome  \n",
       "0          0.4601                  0.11890        1  \n",
       "1          0.2750                  0.08902        1  \n",
       "2          0.3613                  0.08758        1  \n",
       "3          0.6638                  0.17300        1  \n",
       "4          0.2364                  0.07678        1  \n",
       "\n",
       "[5 rows x 31 columns]"
      ]
     },
     "execution_count": 21,
     "metadata": {},
     "output_type": "execute_result"
    }
   ],
   "source": [
    "import pandas as pd\n",
    "import warnings\n",
    "warnings.filterwarnings('ignore')\n",
    "data = pd.read_csv('breast_cancer.csv')\n",
    "print(data.shape)\n",
    "data.head()"
   ]
  },
  {
   "cell_type": "code",
   "execution_count": 23,
   "metadata": {
    "id": "lzami_keWAP3",
    "outputId": "04dbcdb3-5f5d-4943-8c6c-7327a3274e36"
   },
   "outputs": [
    {
     "data": {
      "text/plain": [
       "0    357\n",
       "1    212\n",
       "Name: outcome, dtype: int64"
      ]
     },
     "execution_count": 23,
     "metadata": {},
     "output_type": "execute_result"
    }
   ],
   "source": [
    "X = data.iloc[:,:-1]\n",
    "y = data.outcome\n",
    "X.head()\n",
    "data.outcome.value_counts()"
   ]
  },
  {
   "cell_type": "code",
   "execution_count": 26,
   "metadata": {
    "id": "MMXbt28xWAP7"
   },
   "outputs": [
    {
     "data": {
      "text/plain": [
       "((398, 30), (171, 30))"
      ]
     },
     "execution_count": 26,
     "metadata": {},
     "output_type": "execute_result"
    }
   ],
   "source": [
    "from sklearn.model_selection import train_test_split\n",
    "X_train,X_test,y_train,y_test = train_test_split(X,y,test_size=0.3,random_state=10)\n",
    "X_train.shape , X_test.shape"
   ]
  },
  {
   "cell_type": "code",
   "execution_count": 27,
   "metadata": {
    "id": "dr2B9G7fWAP_",
    "outputId": "72a19649-ea39-43f2-9ae1-ec95327a923e"
   },
   "outputs": [
    {
     "data": {
      "text/plain": [
       "array([1, 0, 0, 1, 0, 0, 0, 1, 1, 1, 0, 0, 1, 0, 1, 1, 0, 0, 0, 1, 1, 0,\n",
       "       0, 0, 1, 1, 0, 1, 0, 0, 0, 0, 1, 0, 0, 0, 0, 0, 0, 0, 0, 0, 0, 1,\n",
       "       0, 1, 1, 1, 1, 0, 0, 0, 1, 0, 0, 1, 1, 0, 0, 0, 1, 0, 1, 0, 0, 1,\n",
       "       0, 0, 1, 1, 0, 0, 0, 0, 0, 1, 0, 0, 1, 1, 0, 0, 1, 0, 0, 0, 0, 1,\n",
       "       0, 1, 0, 0, 1, 0, 0, 0, 1, 0, 1, 0, 1, 1, 0, 0, 0, 0, 1, 1, 0, 0,\n",
       "       0, 0, 1, 1, 1, 0, 0, 1, 1, 0, 0, 1, 0, 1, 0, 0, 1, 1, 0, 0, 0, 0,\n",
       "       1, 0, 0, 1, 1, 1, 0, 1, 0, 0, 1, 0, 0, 1, 0, 0, 0, 0, 1, 0, 1, 0,\n",
       "       0, 0, 1, 0, 0, 1, 0, 0, 0, 0, 0, 1, 1, 0, 0, 0, 0], dtype=int64)"
      ]
     },
     "execution_count": 27,
     "metadata": {},
     "output_type": "execute_result"
    }
   ],
   "source": [
    "from sklearn.linear_model import LogisticRegression\n",
    "model = LogisticRegression()\n",
    "model.fit(X_train,y_train)\n",
    "y_predict= model.predict(X_test) #---> model predictions\n",
    "y_predict"
   ]
  },
  {
   "cell_type": "code",
   "execution_count": 45,
   "metadata": {},
   "outputs": [
    {
     "name": "stdout",
     "output_type": "stream",
     "text": [
      "0.9473684210526315\n"
     ]
    }
   ],
   "source": [
    "#preicdting with respect to specific threshold value\n",
    "\n",
    "\n",
    "from sklearn.linear_model import LogisticRegression\n",
    "model = LogisticRegression()\n",
    "model.fit(X_train,y_train)\n",
    "# y_pred = clf.predict(X_test)  # default threshold is 0.5\n",
    "y_pred = (model.predict_proba(X_test)[:,1] >= 0.3).astype(bool) # set threshold as 0.3\n",
    "\n",
    "from sklearn.metrics import accuracy_score\n",
    "\n",
    "print(accuracy_score(y_test,y_pred))\n",
    "\n"
   ]
  },
  {
   "cell_type": "code",
   "execution_count": 28,
   "metadata": {
    "id": "YFlrlAt1WAQC",
    "outputId": "42e6bb6e-ecb4-485c-d114-854ad1ff2dd5"
   },
   "outputs": [
    {
     "name": "stdout",
     "output_type": "stream",
     "text": [
      "0.9473684210526315\n"
     ]
    },
    {
     "data": {
      "text/html": [
       "<div>\n",
       "<style scoped>\n",
       "    .dataframe tbody tr th:only-of-type {\n",
       "        vertical-align: middle;\n",
       "    }\n",
       "\n",
       "    .dataframe tbody tr th {\n",
       "        vertical-align: top;\n",
       "    }\n",
       "\n",
       "    .dataframe thead th {\n",
       "        text-align: right;\n",
       "    }\n",
       "</style>\n",
       "<table border=\"1\" class=\"dataframe\">\n",
       "  <thead>\n",
       "    <tr style=\"text-align: right;\">\n",
       "      <th>col_0</th>\n",
       "      <th>0</th>\n",
       "      <th>1</th>\n",
       "    </tr>\n",
       "    <tr>\n",
       "      <th>outcome</th>\n",
       "      <th></th>\n",
       "      <th></th>\n",
       "    </tr>\n",
       "  </thead>\n",
       "  <tbody>\n",
       "    <tr>\n",
       "      <th>0</th>\n",
       "      <td>106</td>\n",
       "      <td>6</td>\n",
       "    </tr>\n",
       "    <tr>\n",
       "      <th>1</th>\n",
       "      <td>3</td>\n",
       "      <td>56</td>\n",
       "    </tr>\n",
       "  </tbody>\n",
       "</table>\n",
       "</div>"
      ],
      "text/plain": [
       "col_0      0   1\n",
       "outcome         \n",
       "0        106   6\n",
       "1          3  56"
      ]
     },
     "execution_count": 28,
     "metadata": {},
     "output_type": "execute_result"
    }
   ],
   "source": [
    "from sklearn.metrics import accuracy_score\n",
    "\n",
    "print(accuracy_score(y_test,y_predict))\n",
    "\n",
    "pd.crosstab(y_test,y_predict)"
   ]
  },
  {
   "cell_type": "code",
   "execution_count": 29,
   "metadata": {
    "id": "AKEvpztMWAQF",
    "outputId": "76a23484-3d80-4998-cbd6-ee1865c477aa",
    "scrolled": true
   },
   "outputs": [
    {
     "data": {
      "text/plain": [
       "array([1, 0, 0, 1, 0, 0, 0, 1, 1, 1, 0, 0, 1, 0, 1, 1, 0, 0, 0, 1, 1, 0,\n",
       "       0, 0, 1, 1, 0, 1, 0, 0, 0, 0, 1, 0, 0, 0, 0, 0, 0, 0, 0, 0, 0, 1,\n",
       "       0, 1, 1, 1, 1, 0, 0, 0, 1, 0, 0, 1, 1, 0, 0, 0, 1, 0, 1, 0, 0, 1,\n",
       "       0, 0, 1, 1, 0, 0, 0, 0, 0, 1, 0, 0, 1, 1, 0, 0, 1, 0, 0, 0, 0, 1,\n",
       "       0, 1, 0, 0, 1, 0, 0, 0, 1, 0, 1, 0, 1, 1, 0, 0, 0, 0, 1, 1, 0, 0,\n",
       "       0, 0, 1, 1, 1, 0, 0, 1, 1, 0, 0, 1, 0, 1, 0, 0, 1, 1, 0, 0, 0, 0,\n",
       "       1, 0, 0, 1, 1, 1, 0, 1, 0, 0, 1, 0, 0, 1, 0, 0, 0, 0, 1, 0, 1, 0,\n",
       "       0, 0, 1, 0, 0, 1, 0, 0, 0, 0, 0, 1, 1, 0, 0, 0, 0], dtype=int64)"
      ]
     },
     "execution_count": 29,
     "metadata": {},
     "output_type": "execute_result"
    }
   ],
   "source": [
    "model.predict(X_test)"
   ]
  },
  {
   "cell_type": "code",
   "execution_count": 30,
   "metadata": {
    "id": "FnU9V3hOWAQJ",
    "outputId": "3aa8021a-24af-4f7d-efb8-f78f1e1d2a61"
   },
   "outputs": [
    {
     "data": {
      "text/plain": [
       "array([[7.79559400e-03, 9.92204406e-01],\n",
       "       [9.99688751e-01, 3.11248778e-04],\n",
       "       [9.96839260e-01, 3.16074005e-03],\n",
       "       [2.53320833e-04, 9.99746679e-01],\n",
       "       [9.93946032e-01, 6.05396784e-03],\n",
       "       [9.73779008e-01, 2.62209920e-02],\n",
       "       [9.99503729e-01, 4.96271124e-04],\n",
       "       [2.10888515e-01, 7.89111485e-01],\n",
       "       [3.09964508e-06, 9.99996900e-01],\n",
       "       [7.47522376e-02, 9.25247762e-01],\n",
       "       [9.99631943e-01, 3.68056796e-04],\n",
       "       [9.99193644e-01, 8.06356031e-04],\n",
       "       [2.74067465e-01, 7.25932535e-01],\n",
       "       [9.98010703e-01, 1.98929702e-03],\n",
       "       [1.23593484e-03, 9.98764065e-01],\n",
       "       [2.19355315e-03, 9.97806447e-01],\n",
       "       [9.97787283e-01, 2.21271741e-03],\n",
       "       [8.97705946e-01, 1.02294054e-01],\n",
       "       [9.22859494e-01, 7.71405060e-02],\n",
       "       [1.58724338e-02, 9.84127566e-01],\n",
       "       [1.93741626e-01, 8.06258374e-01],\n",
       "       [8.29086565e-01, 1.70913435e-01],\n",
       "       [9.86035726e-01, 1.39642736e-02],\n",
       "       [9.70043878e-01, 2.99561224e-02],\n",
       "       [1.02716236e-09, 9.99999999e-01],\n",
       "       [1.60874910e-07, 9.99999839e-01],\n",
       "       [8.71514852e-01, 1.28485148e-01],\n",
       "       [1.35772289e-08, 9.99999986e-01],\n",
       "       [9.97728930e-01, 2.27107004e-03],\n",
       "       [9.31534112e-01, 6.84658884e-02],\n",
       "       [9.97630830e-01, 2.36917022e-03],\n",
       "       [9.86199376e-01, 1.38006241e-02],\n",
       "       [3.34854589e-10, 1.00000000e+00],\n",
       "       [9.97593598e-01, 2.40640175e-03],\n",
       "       [9.62419748e-01, 3.75802523e-02],\n",
       "       [9.95641928e-01, 4.35807218e-03],\n",
       "       [9.85156380e-01, 1.48436204e-02],\n",
       "       [9.99904002e-01, 9.59984863e-05],\n",
       "       [9.97241513e-01, 2.75848729e-03],\n",
       "       [9.92555047e-01, 7.44495266e-03],\n",
       "       [9.98902323e-01, 1.09767744e-03],\n",
       "       [9.99236588e-01, 7.63412145e-04],\n",
       "       [9.86957807e-01, 1.30421933e-02],\n",
       "       [2.87965705e-01, 7.12034295e-01],\n",
       "       [9.99300362e-01, 6.99637731e-04],\n",
       "       [0.00000000e+00, 1.00000000e+00],\n",
       "       [2.19075148e-02, 9.78092485e-01],\n",
       "       [3.88369401e-03, 9.96116306e-01],\n",
       "       [1.40486792e-02, 9.85951321e-01],\n",
       "       [9.92273938e-01, 7.72606170e-03],\n",
       "       [9.45620349e-01, 5.43796509e-02],\n",
       "       [9.87858454e-01, 1.21415462e-02],\n",
       "       [5.33947555e-04, 9.99466052e-01],\n",
       "       [9.92534286e-01, 7.46571389e-03],\n",
       "       [9.85147452e-01, 1.48525476e-02],\n",
       "       [0.00000000e+00, 1.00000000e+00],\n",
       "       [2.99247222e-05, 9.99970075e-01],\n",
       "       [9.98382991e-01, 1.61700910e-03],\n",
       "       [9.26886155e-01, 7.31138448e-02],\n",
       "       [9.99851377e-01, 1.48622642e-04],\n",
       "       [0.00000000e+00, 1.00000000e+00],\n",
       "       [9.99022823e-01, 9.77176924e-04],\n",
       "       [1.89949385e-02, 9.81005062e-01],\n",
       "       [7.31707672e-01, 2.68292328e-01],\n",
       "       [9.99505848e-01, 4.94152215e-04],\n",
       "       [1.10142246e-01, 8.89857754e-01],\n",
       "       [9.53317949e-01, 4.66820510e-02],\n",
       "       [9.99947805e-01, 5.21945411e-05],\n",
       "       [2.09866806e-03, 9.97901332e-01],\n",
       "       [2.24506827e-02, 9.77549317e-01],\n",
       "       [9.99790135e-01, 2.09864989e-04],\n",
       "       [9.99555270e-01, 4.44730057e-04],\n",
       "       [9.97511604e-01, 2.48839649e-03],\n",
       "       [9.99912607e-01, 8.73931865e-05],\n",
       "       [9.94273393e-01, 5.72660746e-03],\n",
       "       [5.44965430e-02, 9.45503457e-01],\n",
       "       [9.92936871e-01, 7.06312904e-03],\n",
       "       [9.92366179e-01, 7.63382147e-03],\n",
       "       [3.30511172e-05, 9.99966949e-01],\n",
       "       [5.96221662e-04, 9.99403778e-01],\n",
       "       [9.99231440e-01, 7.68559658e-04],\n",
       "       [9.93222049e-01, 6.77795062e-03],\n",
       "       [4.03521883e-10, 1.00000000e+00],\n",
       "       [9.89449518e-01, 1.05504816e-02],\n",
       "       [9.99874725e-01, 1.25274530e-04],\n",
       "       [9.91263144e-01, 8.73685605e-03],\n",
       "       [9.43948742e-01, 5.60512575e-02],\n",
       "       [2.96221176e-02, 9.70377882e-01],\n",
       "       [9.95554763e-01, 4.44523667e-03],\n",
       "       [2.53791059e-01, 7.46208941e-01],\n",
       "       [9.92366681e-01, 7.63331861e-03],\n",
       "       [8.60565457e-01, 1.39434543e-01],\n",
       "       [4.19529543e-05, 9.99958047e-01],\n",
       "       [9.75240560e-01, 2.47594402e-02],\n",
       "       [9.99790319e-01, 2.09680860e-04],\n",
       "       [9.97577996e-01, 2.42200400e-03],\n",
       "       [2.18815941e-08, 9.99999978e-01],\n",
       "       [9.98536609e-01, 1.46339143e-03],\n",
       "       [1.22718724e-10, 1.00000000e+00],\n",
       "       [9.96274997e-01, 3.72500348e-03],\n",
       "       [3.27447305e-08, 9.99999967e-01],\n",
       "       [7.63250048e-04, 9.99236750e-01],\n",
       "       [9.99972220e-01, 2.77797183e-05],\n",
       "       [9.99644897e-01, 3.55102699e-04],\n",
       "       [9.99368033e-01, 6.31966623e-04],\n",
       "       [9.99934974e-01, 6.50257743e-05],\n",
       "       [5.92316487e-08, 9.99999941e-01],\n",
       "       [0.00000000e+00, 1.00000000e+00],\n",
       "       [9.99187295e-01, 8.12704963e-04],\n",
       "       [9.96122204e-01, 3.87779632e-03],\n",
       "       [9.98433907e-01, 1.56609322e-03],\n",
       "       [9.69792863e-01, 3.02071372e-02],\n",
       "       [1.06914477e-11, 1.00000000e+00],\n",
       "       [3.84590686e-06, 9.99996154e-01],\n",
       "       [6.76347867e-12, 1.00000000e+00],\n",
       "       [9.99219455e-01, 7.80545254e-04],\n",
       "       [9.53285040e-01, 4.67149605e-02],\n",
       "       [2.34584574e-10, 1.00000000e+00],\n",
       "       [1.12479375e-02, 9.88752063e-01],\n",
       "       [9.97966869e-01, 2.03313122e-03],\n",
       "       [9.89200937e-01, 1.07990626e-02],\n",
       "       [6.55169992e-06, 9.99993448e-01],\n",
       "       [9.92665269e-01, 7.33473134e-03],\n",
       "       [1.42708068e-12, 1.00000000e+00],\n",
       "       [9.99971843e-01, 2.81565076e-05],\n",
       "       [9.46124721e-01, 5.38752792e-02],\n",
       "       [1.96988426e-10, 1.00000000e+00],\n",
       "       [4.97892086e-03, 9.95021079e-01],\n",
       "       [9.96374158e-01, 3.62584213e-03],\n",
       "       [9.78100503e-01, 2.18994969e-02],\n",
       "       [7.64520393e-01, 2.35479607e-01],\n",
       "       [9.99327813e-01, 6.72186758e-04],\n",
       "       [3.53445457e-01, 6.46554543e-01],\n",
       "       [9.99816311e-01, 1.83689120e-04],\n",
       "       [9.99196047e-01, 8.03953198e-04],\n",
       "       [1.09549953e-07, 9.99999890e-01],\n",
       "       [1.95477055e-01, 8.04522945e-01],\n",
       "       [4.16748236e-08, 9.99999958e-01],\n",
       "       [8.66145928e-01, 1.33854072e-01],\n",
       "       [1.98057029e-07, 9.99999802e-01],\n",
       "       [9.95033797e-01, 4.96620307e-03],\n",
       "       [9.99826948e-01, 1.73052500e-04],\n",
       "       [1.33226763e-15, 1.00000000e+00],\n",
       "       [9.99108767e-01, 8.91233145e-04],\n",
       "       [9.99476717e-01, 5.23282794e-04],\n",
       "       [8.12243606e-11, 1.00000000e+00],\n",
       "       [9.99726976e-01, 2.73024263e-04],\n",
       "       [9.92248346e-01, 7.75165353e-03],\n",
       "       [9.64758087e-01, 3.52419135e-02],\n",
       "       [9.99822767e-01, 1.77232565e-04],\n",
       "       [6.61806910e-04, 9.99338193e-01],\n",
       "       [9.99720580e-01, 2.79419743e-04],\n",
       "       [6.18254559e-10, 9.99999999e-01],\n",
       "       [8.25762480e-01, 1.74237520e-01],\n",
       "       [9.99657282e-01, 3.42717738e-04],\n",
       "       [9.79425036e-01, 2.05749638e-02],\n",
       "       [9.72457216e-08, 9.99999903e-01],\n",
       "       [9.96487011e-01, 3.51298947e-03],\n",
       "       [9.97090744e-01, 2.90925649e-03],\n",
       "       [2.36378332e-04, 9.99763622e-01],\n",
       "       [9.98495387e-01, 1.50461260e-03],\n",
       "       [9.99869379e-01, 1.30620572e-04],\n",
       "       [9.97898333e-01, 2.10166694e-03],\n",
       "       [9.97187874e-01, 2.81212585e-03],\n",
       "       [9.95355473e-01, 4.64452728e-03],\n",
       "       [6.59352816e-05, 9.99934065e-01],\n",
       "       [0.00000000e+00, 1.00000000e+00],\n",
       "       [9.72273519e-01, 2.77264810e-02],\n",
       "       [9.99955775e-01, 4.42248930e-05],\n",
       "       [9.95326237e-01, 4.67376291e-03],\n",
       "       [9.84514618e-01, 1.54853819e-02]])"
      ]
     },
     "execution_count": 30,
     "metadata": {},
     "output_type": "execute_result"
    }
   ],
   "source": [
    "model.predict_proba(X_test)"
   ]
  },
  {
   "cell_type": "code",
   "execution_count": 31,
   "metadata": {
    "id": "sE0RDDY2WAQO"
   },
   "outputs": [
    {
     "data": {
      "text/plain": [
       "array([1, 0, 0, 1, 0, 0, 0, 1, 1, 1, 0, 0, 1, 0, 1, 1, 0, 0, 0, 1, 1, 0,\n",
       "       0, 0, 1, 1, 0, 1, 0, 0, 0, 0, 1, 0, 0, 0, 0, 0, 0, 0, 0, 0, 0, 1,\n",
       "       0, 1, 1, 1, 1, 0, 0, 0, 1, 0, 0, 1, 1, 0, 0, 0, 1, 0, 1, 1, 0, 1,\n",
       "       0, 0, 1, 1, 0, 0, 0, 0, 0, 1, 0, 0, 1, 1, 0, 0, 1, 0, 0, 0, 0, 1,\n",
       "       0, 1, 0, 0, 1, 0, 0, 0, 1, 0, 1, 0, 1, 1, 0, 0, 0, 0, 1, 1, 0, 0,\n",
       "       0, 0, 1, 1, 1, 0, 0, 1, 1, 0, 0, 1, 0, 1, 0, 0, 1, 1, 0, 0, 1, 0,\n",
       "       1, 0, 0, 1, 1, 1, 0, 1, 0, 0, 1, 0, 0, 1, 0, 0, 0, 0, 1, 0, 1, 0,\n",
       "       0, 0, 1, 0, 0, 1, 0, 0, 0, 0, 0, 1, 1, 0, 0, 0, 0])"
      ]
     },
     "execution_count": 31,
     "metadata": {},
     "output_type": "execute_result"
    }
   ],
   "source": [
    "import numpy as np\n",
    "y_predict_th2 = np.where(model.predict_proba(X_test)[:,1]>0.2,1,0) # Threshold is 0.2\n",
    "y_predict_th3 = np.where(model.predict_proba(X_test)[:,1]>0.3,1,0) # Threshold is 0.3\n",
    "y_predict_th4 = np.where(model.predict_proba(X_test)[:,1]>0.4,1,0)\n",
    "y_predict_th2# Threshold is 0.4"
   ]
  },
  {
   "cell_type": "code",
   "execution_count": 32,
   "metadata": {
    "id": "3aUCUwacWAQR",
    "outputId": "d534a122-ff7d-48a4-c74d-ad6b1f7891ee"
   },
   "outputs": [
    {
     "data": {
      "text/html": [
       "<div>\n",
       "<style scoped>\n",
       "    .dataframe tbody tr th:only-of-type {\n",
       "        vertical-align: middle;\n",
       "    }\n",
       "\n",
       "    .dataframe tbody tr th {\n",
       "        vertical-align: top;\n",
       "    }\n",
       "\n",
       "    .dataframe thead th {\n",
       "        text-align: right;\n",
       "    }\n",
       "</style>\n",
       "<table border=\"1\" class=\"dataframe\">\n",
       "  <thead>\n",
       "    <tr style=\"text-align: right;\">\n",
       "      <th>col_0</th>\n",
       "      <th>0</th>\n",
       "      <th>1</th>\n",
       "    </tr>\n",
       "    <tr>\n",
       "      <th>outcome</th>\n",
       "      <th></th>\n",
       "      <th></th>\n",
       "    </tr>\n",
       "  </thead>\n",
       "  <tbody>\n",
       "    <tr>\n",
       "      <th>0</th>\n",
       "      <td>105</td>\n",
       "      <td>7</td>\n",
       "    </tr>\n",
       "    <tr>\n",
       "      <th>1</th>\n",
       "      <td>2</td>\n",
       "      <td>57</td>\n",
       "    </tr>\n",
       "  </tbody>\n",
       "</table>\n",
       "</div>"
      ],
      "text/plain": [
       "col_0      0   1\n",
       "outcome         \n",
       "0        105   7\n",
       "1          2  57"
      ]
     },
     "execution_count": 32,
     "metadata": {},
     "output_type": "execute_result"
    }
   ],
   "source": [
    "pd.crosstab(y_test,y_predict_th2)"
   ]
  },
  {
   "cell_type": "code",
   "execution_count": 33,
   "metadata": {
    "id": "bnzJoSuMWAQU"
   },
   "outputs": [],
   "source": [
    "\n",
    "def predict_threshold (model,X_test,thresholds):\n",
    "    #import numpy as np\n",
    "    return np.where(model.predict_proba(X_test)[:,1]>thresholds,1,0) # Threshold is 0.3"
   ]
  },
  {
   "cell_type": "code",
   "execution_count": 34,
   "metadata": {
    "id": "1vQQ_bL1WAQY",
    "outputId": "3ae92716-db0b-4dfe-b286-d765c058b52f",
    "scrolled": true
   },
   "outputs": [
    {
     "name": "stdout",
     "output_type": "stream",
     "text": [
      "Threshold : 0.0\n",
      "[[  0 112]\n",
      " [  0  59]]\n",
      "accuracy score for 0.0 is 0.34502923976608185\n",
      "f1 score  0.5130434782608695\n",
      "Threshold : 0.1\n",
      "[[100  12]\n",
      " [  1  58]]\n",
      "accuracy score for 0.1 is 0.9239766081871345\n",
      "f1 score  0.8992248062015504\n",
      "Threshold : 0.2\n",
      "[[105   7]\n",
      " [  2  57]]\n",
      "accuracy score for 0.2 is 0.9473684210526315\n",
      "f1 score  0.9268292682926829\n",
      "Threshold : 0.30000000000000004\n",
      "[[106   6]\n",
      " [  3  56]]\n",
      "accuracy score for 0.30000000000000004 is 0.9473684210526315\n",
      "f1 score  0.9256198347107438\n",
      "Threshold : 0.4\n",
      "[[106   6]\n",
      " [  3  56]]\n",
      "accuracy score for 0.4 is 0.9473684210526315\n",
      "f1 score  0.9256198347107438\n",
      "Threshold : 0.5\n",
      "[[106   6]\n",
      " [  3  56]]\n",
      "accuracy score for 0.5 is 0.9473684210526315\n",
      "f1 score  0.9256198347107438\n",
      "Threshold : 0.6000000000000001\n",
      "[[106   6]\n",
      " [  3  56]]\n",
      "accuracy score for 0.6000000000000001 is 0.9473684210526315\n",
      "f1 score  0.9256198347107438\n",
      "Threshold : 0.7000000000000001\n",
      "[[106   6]\n",
      " [  4  55]]\n",
      "accuracy score for 0.7000000000000001 is 0.9415204678362573\n",
      "f1 score  0.9166666666666666\n",
      "Threshold : 0.8\n",
      "[[108   4]\n",
      " [  6  53]]\n",
      "accuracy score for 0.8 is 0.9415204678362573\n",
      "f1 score  0.9137931034482759\n",
      "Threshold : 0.9\n",
      "[[110   2]\n",
      " [  7  52]]\n",
      "accuracy score for 0.9 is 0.9473684210526315\n",
      "f1 score  0.9203539823008849\n",
      "Threshold : 1.0\n",
      "[[112   0]\n",
      " [ 59   0]]\n",
      "accuracy score for 1.0 is 0.6549707602339181\n",
      "f1 score  0.0\n"
     ]
    }
   ],
   "source": [
    "import numpy as np\n",
    "\n",
    "from sklearn.metrics import confusion_matrix, accuracy_score, f1_score\n",
    "\n",
    "for thr in np.arange(0,1.1,0.1):\n",
    "    y_predict = predict_threshold(model,X_test,thr)\n",
    "    print(\"Threshold :\",thr)\n",
    "    print(confusion_matrix(y_test,y_predict))\n",
    "    print(\"accuracy score for\" , thr , \"is\", accuracy_score(y_test, y_predict))\n",
    "    print(\"f1 score \", f1_score(y_test, y_predict))"
   ]
  },
  {
   "cell_type": "code",
   "execution_count": null,
   "metadata": {
    "id": "RdMKqK0uWAQb"
   },
   "outputs": [],
   "source": [
    "from sklearn.metrics import roc_curve, roc_auc_score"
   ]
  },
  {
   "cell_type": "code",
   "execution_count": null,
   "metadata": {
    "id": "4zsB_tPXWAQe"
   },
   "outputs": [],
   "source": [
    "tpr,fpr,thresholds = roc_curve(y_test,model.predict_proba(X_test)[:,1])"
   ]
  },
  {
   "cell_type": "code",
   "execution_count": 35,
   "metadata": {
    "id": "qfOGrvfhWAQh",
    "outputId": "d835f2d0-0789-4b6a-aab2-6c314b6b7326"
   },
   "outputs": [
    {
     "data": {
      "text/plain": [
       "array([2.00000000e+00, 1.00000000e+00, 9.85951321e-01, 9.84127566e-01,\n",
       "       9.77549317e-01, 9.70377882e-01, 9.25247762e-01, 8.89857754e-01,\n",
       "       8.06258374e-01, 7.46208941e-01, 2.68292328e-01, 1.74237520e-01,\n",
       "       1.70913435e-01, 5.38752792e-02, 4.67149605e-02, 2.77797183e-05])"
      ]
     },
     "execution_count": 35,
     "metadata": {},
     "output_type": "execute_result"
    }
   ],
   "source": [
    "thresholds"
   ]
  },
  {
   "cell_type": "code",
   "execution_count": 38,
   "metadata": {
    "id": "UldbGwHAWAQl",
    "outputId": "95a9a53c-1794-45d2-906e-dcffc467ca32"
   },
   "outputs": [
    {
     "name": "stdout",
     "output_type": "stream",
     "text": [
      "0.9909200968523002\n"
     ]
    },
    {
     "data": {
      "image/png": "[encoded data removed]",
      "text/plain": [
       "<Figure size 432x288 with 1 Axes>"
      ]
     },
     "metadata": {
      "needs_background": "light"
     },
     "output_type": "display_data"
    }
   ],
   "source": [
    "import matplotlib.pyplot as plt\n",
    "from sklearn.metrics import roc_curve,roc_auc_score\n",
    "%matplotlib inline\n",
    "\n",
    "y_predict = model.predict_proba(X_test)[:,1]\n",
    "fpr, tpr, thresholds = roc_curve(y_test,y_predict)\n",
    "plt.title('ROC curve for breast cancer classifier')\n",
    "plt.xlabel('False Positive Rate')\n",
    "plt.ylabel('True Positive Rate (Sensitivity)')\n",
    "\n",
    "plt.plot(fpr, tpr,color='green',lw=5)\n",
    "print(roc_auc_score(y_test,y_predict))\n",
    "plt.show()"
   ]
  },
  {
   "cell_type": "code",
   "execution_count": 39,
   "metadata": {
    "id": "6L127i5MWAQo"
   },
   "outputs": [],
   "source": [
    "def plot_roc_curve(fpr, tpr):\n",
    "    plt.plot(fpr, tpr, color='orange', label='ROC')\n",
    "    plt.plot([0, 1], [0, 1], color='darkblue', linestyle='--')\n",
    "    plt.xlabel('False Positive Rate')\n",
    "    plt.ylabel('True Positive Rate')\n",
    "    plt.title('Receiver Operating Characteristic (ROC) Curve')\n",
    "    plt.legend()\n",
    "    plt.show()\n"
   ]
  },
  {
   "cell_type": "markdown",
   "metadata": {},
   "source": [
    "``The optimal cut off would be where tpr is high and fpr is low``\n",
    "``The ROC curve shows how tpr and fpr varies at every possible threshold``"
   ]
  },
  {
   "cell_type": "code",
   "execution_count": 40,
   "metadata": {
    "id": "YBFSX8gZWAQr"
   },
   "outputs": [
    {
     "name": "stdout",
     "output_type": "stream",
     "text": [
      "[0.         0.08474576 0.79661017 0.79661017 0.84745763 0.84745763\n",
      " 0.88135593 0.88135593 0.89830508 0.89830508 0.96610169 0.96610169\n",
      " 0.98305085 0.98305085 1.         1.        ]\n",
      "[0.         0.         0.         0.00892857 0.00892857 0.01785714\n",
      " 0.01785714 0.02678571 0.02678571 0.05357143 0.05357143 0.07142857\n",
      " 0.07142857 0.16071429 0.16071429 1.        ]\n",
      "[2.00000000e+00 1.00000000e+00 9.85951321e-01 9.84127566e-01\n",
      " 9.77549317e-01 9.70377882e-01 9.25247762e-01 8.89857754e-01\n",
      " 8.06258374e-01 7.46208941e-01 2.68292328e-01 1.74237520e-01\n",
      " 1.70913435e-01 5.38752792e-02 4.67149605e-02 2.77797183e-05]\n",
      "0.9909200968523002\n",
      "10\n",
      "Threshold value is: 0.2682923279855817\n"
     ]
    },
    {
     "data": {
      "image/png": "[encoded data removed]",
      "text/plain": [
       "<Figure size 432x288 with 1 Axes>"
      ]
     },
     "metadata": {
      "needs_background": "light"
     },
     "output_type": "display_data"
    }
   ],
   "source": [
    "fpr, tpr, thresholds = roc_curve(y_test,y_predict)\n",
    "\n",
    "\n",
    "#tuple unpacking \n",
    "print(tpr)\n",
    "print(fpr)\n",
    "print(thresholds)\n",
    "print(roc_auc_score(y_test,y_predict))\n",
    "optimal_idx = np.argmax(tpr - fpr)\n",
    "print(optimal_idx)\n",
    "optimal_threshold = thresholds[optimal_idx]\n",
    "print(\"Threshold value is:\", optimal_threshold)\n",
    "plot_roc_curve(fpr, tpr)"
   ]
  },
  {
   "cell_type": "code",
   "execution_count": null,
   "metadata": {
    "id": "6HQUc4eSWAQu"
   },
   "outputs": [],
   "source": []
  }
 ],
 "metadata": {
  "colab": {
   "name": "ROC_AUC .ipynb",
   "provenance": []
  },
  "kernelspec": {
   "display_name": "Python 3",
   "language": "python",
   "name": "python3"
  },
  "language_info": {
   "codemirror_mode": {
    "name": "ipython",
    "version": 3
   },
   "file_extension": ".py",
   "mimetype": "text/x-python",
   "name": "python",
   "nbconvert_exporter": "python",
   "pygments_lexer": "ipython3",
   "version": "3.8.5"
  }
 },
 "nbformat": 4,
 "nbformat_minor": 1
}
