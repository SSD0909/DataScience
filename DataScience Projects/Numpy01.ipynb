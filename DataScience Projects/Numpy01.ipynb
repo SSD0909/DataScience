{
 "cells": [
  {
   "cell_type": "code",
   "execution_count": null,
   "metadata": {
    "id": "1L4Am0QATgOc"
   },
   "outputs": [],
   "source": [
    "!python --version"
   ]
  },
  {
   "cell_type": "markdown",
   "metadata": {
    "id": "3cfrOV4dL9hW"
   },
   "source": [
    "## Numpy"
   ]
  },
  {
   "cell_type": "markdown",
   "metadata": {
    "id": "fY12nHhyL9hX"
   },
   "source": [
    "Numpy is the core library for scientific computing in Python. It provides a high-performance multidimensional array object, and tools for working with these arrays. "
   ]
  },
  {
   "cell_type": "markdown",
   "metadata": {
    "id": "lZMyAdqhL9hY"
   },
   "source": [
    "To use Numpy, we first need to import the `numpy` package:"
   ]
  },
  {
   "cell_type": "code",
   "execution_count": 3,
   "metadata": {
    "id": "58QdX8BLL9hZ"
   },
   "outputs": [],
   "source": [
    "import numpy as np"
   ]
  },
  {
   "cell_type": "markdown",
   "metadata": {
    "id": "DDx6v1EdL9hb"
   },
   "source": [
    "### Arrays"
   ]
  },
  {
   "cell_type": "markdown",
   "metadata": {
    "id": "f-Zv3f7LL9hc"
   },
   "source": [
    "A numpy array is a grid of values, all of the same type, and is indexed by a tuple of nonnegative integers. The number of dimensions is the rank of the array; the shape of an array is a tuple of integers giving the size of the array along each dimension."
   ]
  },
  {
   "cell_type": "markdown",
   "metadata": {
    "id": "_eMTRnZRL9hc"
   },
   "source": [
    "We can initialize numpy arrays from nested Python lists, and access elements using square brackets:"
   ]
  },
  {
   "cell_type": "code",
   "execution_count": null,
   "metadata": {
    "id": "-l3JrGxCL9hc"
   },
   "outputs": [],
   "source": [
    "#first array\n",
    "a = np.array([1, 2, 3])  # Create a 1 dimeniosnal array/ rank 1 array\n",
    "print(type(a), a[0], a[1], a[2])\n",
    "a[0] = 5       # Change an element of the array\n",
    "print(\"array is:\\n\",a) \n",
    "print(\"data type of array:\",a.dtype)\n",
    "print(\"shape of array:\", a.shape)"
   ]
  },
  {
   "cell_type": "code",
   "execution_count": null,
   "metadata": {
    "id": "ma6mk-kdL9hh"
   },
   "outputs": [],
   "source": [
    "#second array\n",
    "\n",
    "b = np.array([[1,2,3],[4,5,6]])   # Create a rank 2 array\n",
    "print(\"array b is :\\n\",b)"
   ]
  },
  {
   "cell_type": "code",
   "execution_count": null,
   "metadata": {
    "id": "ymfSHAwtL9hj"
   },
   "outputs": [],
   "source": [
    "print(\"shape of array is:\",b.shape)\n",
    "print(\"acessing indivdual elements:\",b[0, 0], b[0, 1], b[1, 0])\n",
    "print(\"array is :\",b)\n",
    "print(\"accessing submatrix:\\n\", b[0: , 0:2])"
   ]
  },
  {
   "cell_type": "code",
   "execution_count": null,
   "metadata": {
    "id": "Krp78rakKQzp"
   },
   "outputs": [],
   "source": [
    "#3d array\n",
    "c  =  np.array([[[1,2,3,8], [4,5,6,7], [3,4,5,10]]])\n",
    "print(c)\n",
    "print(\"-\"*40)\n",
    "print(c.shape)\n",
    "print(c.ndim)\n",
    "print(\"accessing the first element:\",c[0,0,0])\n",
    "print(\"accessing submatrix:\\n\", c[0, 0:2, 1:3])"
   ]
  },
  {
   "cell_type": "markdown",
   "metadata": {
    "id": "F2qwdyvuL9hn"
   },
   "source": [
    "Numpy also provides many functions to create arrays:"
   ]
  },
  {
   "cell_type": "code",
   "execution_count": null,
   "metadata": {
    "id": "mVTN_EBqL9hn"
   },
   "outputs": [],
   "source": [
    "a = np.zeros((2,2))  # Create an array of all zeros\n",
    "print(a)"
   ]
  },
  {
   "cell_type": "code",
   "execution_count": null,
   "metadata": {
    "id": "skiKlNmlL9h5"
   },
   "outputs": [],
   "source": [
    "b = np.ones((2,2))   # Create an array of all ones\n",
    "print(b)"
   ]
  },
  {
   "cell_type": "code",
   "execution_count": null,
   "metadata": {
    "id": "HtFsr03bL9h7"
   },
   "outputs": [],
   "source": [
    "c = np.full((2,2), 7) # Create a constant array\n",
    "print(c)"
   ]
  },
  {
   "cell_type": "code",
   "execution_count": null,
   "metadata": {
    "id": "-QcALHvkL9h9"
   },
   "outputs": [],
   "source": [
    "d = np.eye(2)        # Create a 2x2 identity matrix\n",
    "print(d)"
   ]
  },
  {
   "cell_type": "code",
   "execution_count": null,
   "metadata": {
    "id": "RCpaYg9qL9iA"
   },
   "outputs": [],
   "source": [
    "e = np.random.random((2,2)) # Create an array filled with random values\n",
    "print(e)\n",
    "\n",
    "# explore np.random.randint function\n",
    "# explore np.random.randn function"
   ]
  },
  {
   "cell_type": "code",
   "execution_count": 21,
   "metadata": {},
   "outputs": [
    {
     "data": {
      "text/plain": [
       "array([0.98808577, 0.2947761 , 0.06005591, 0.32651757, 0.47516381,\n",
       "       0.41670013, 0.86632614, 0.53739948, 0.8897474 , 0.33956635])"
      ]
     },
     "execution_count": 21,
     "metadata": {},
     "output_type": "execute_result"
    }
   ],
   "source": [
    "import numpy as np\n",
    "import warnings\n",
    "warnings.filterwarnings(\"ignore\")\n",
    "arr3 = np.random.rand(10)\n",
    "arr3"
   ]
  },
  {
   "cell_type": "code",
   "execution_count": 23,
   "metadata": {},
   "outputs": [
    {
     "name": "stdout",
     "output_type": "stream",
     "text": [
      "array: [2 2 3 4 2 3 4 4 2 3]\n",
      "**********\n",
      "shape is: (10,)\n",
      "**********\n",
      "dimension: 1\n",
      "arr5: [[[-0.59498667  0.85558944  0.6759958   1.74646747 -1.69604113]\n",
      "  [ 0.69617784  0.3936187  -0.72890612  1.10514724  0.24730125]\n",
      "  [-1.33279329 -1.30672693 -0.69074032  0.78713296  0.48810961]\n",
      "  [-0.92870409  0.18140109 -0.40983832 -3.56835148  1.06389967]]\n",
      "\n",
      " [[ 0.21993436  0.06087483  0.3078474  -1.02521648 -0.77798879]\n",
      "  [-0.00535608  0.27996259 -1.46179209 -0.422485    1.4454509 ]\n",
      "  [ 0.09430418  2.095053    1.21005829  1.5250032   1.1209165 ]\n",
      "  [-0.12820384 -0.92981666 -0.1854963  -0.29130806  0.84131492]]]\n"
     ]
    }
   ],
   "source": [
    "\n",
    "arr4 = np.random.randint(2,5,10)\n",
    "print(\"array:\", arr4)\n",
    "print(\"*\"*10)\n",
    "print(\"shape is:\", arr4.shape)\n",
    "print(\"*\"*10)\n",
    "print(\"dimension:\", arr4.ndim)\n",
    "\n",
    "#arr4\n",
    "arr5=np.random.randn(2,4,5)\n",
    "print(\"arr5:\" ,arr5)\n",
    "#arr6=np.random.random_integers(15)\n",
    "#arr6"
   ]
  },
  {
   "cell_type": "code",
   "execution_count": 26,
   "metadata": {},
   "outputs": [],
   "source": [
    "arr7=np.linspace(1,10,100)\n",
    "#linearly spaced numbers"
   ]
  },
  {
   "cell_type": "code",
   "execution_count": 56,
   "metadata": {},
   "outputs": [
    {
     "name": "stdout",
     "output_type": "stream",
     "text": [
      "2D array: [[1 2 3]\n",
      " [4 5 6]\n",
      " [7 8 9]]\n",
      "Dimension :  2\n",
      "shape : (3, 3)\n",
      "accessing : 1\n",
      "accessing submatrix: \n",
      " [[1 2]\n",
      " [4 5]]\n",
      "accessing submatrix: \n",
      " [[1 2 3]\n",
      " [4 5 6]]\n",
      "accessing submatrix1: \n",
      " []\n"
     ]
    }
   ],
   "source": [
    "#2 dimensional arrays\n",
    "\n",
    "arr8 = np.array([[1,2,3],[4,5,6],[7,8,9]])\n",
    "print(\"2D array:\", arr8)\n",
    "print(\"Dimension : \",arr8.ndim)\n",
    "print(\"shape :\",arr8.shape)\n",
    "print(\"accessing :\", arr8[0][0])\n",
    "print(\"accessing submatrix: \\n\", arr8[0:2,0:2])\n",
    "print(\"accessing submatrix: \\n\", arr8[0:2][0:2])\n",
    "#2 dimensional arrays\n",
    "\n",
    "print(\"accessing submatrix1: \\n\", arr8[1:3][2:3])\n"
   ]
  },
  {
   "cell_type": "code",
   "execution_count": 96,
   "metadata": {},
   "outputs": [
    {
     "name": "stdout",
     "output_type": "stream",
     "text": [
      "ravel: [10]\n",
      "eye [[1. 0. 0. 0. 0. 0. 0. 0. 0. 0.]\n",
      " [0. 1. 0. 0. 0. 0. 0. 0. 0. 0.]\n",
      " [0. 0. 1. 0. 0. 0. 0. 0. 0. 0.]\n",
      " [0. 0. 0. 1. 0. 0. 0. 0. 0. 0.]\n",
      " [0. 0. 0. 0. 1. 0. 0. 0. 0. 0.]\n",
      " [0. 0. 0. 0. 0. 1. 0. 0. 0. 0.]\n",
      " [0. 0. 0. 0. 0. 0. 1. 0. 0. 0.]\n",
      " [0. 0. 0. 0. 0. 0. 0. 1. 0. 0.]\n",
      " [0. 0. 0. 0. 0. 0. 0. 0. 1. 0.]\n",
      " [0. 0. 0. 0. 0. 0. 0. 0. 0. 1.]]\n",
      "identity: [[1. 0. 0. 0. 0.]\n",
      " [0. 1. 0. 0. 0.]\n",
      " [0. 0. 1. 0. 0.]\n",
      " [0. 0. 0. 1. 0.]\n",
      " [0. 0. 0. 0. 1.]]\n",
      "[[1 2]\n",
      " [3 4]]\n",
      "[[11 12]\n",
      " [13 14]]\n",
      "dot :\n",
      " [[37 40]\n",
      " [85 92]]\n"
     ]
    }
   ],
   "source": [
    "arr9=np.arange(10).reshape(5,2)\n",
    "arr9\n",
    "#shape will give multidimensioanl, ravel gives single dimensional\n",
    "arr10=np.ravel(10)\n",
    "print(\"ravel:\",arr10)\n",
    "#arr11=np.random.randint((3,3))\n",
    "arr11=np.ravel([[1,2,3],[4,5,6]])\n",
    "arr11\n",
    "arr12=np.zeros(10).reshape(5,2)\n",
    "arr12\n",
    "arr13=np.zeros((2,5))\n",
    "arr13\n",
    "arr14=np.ones(10)\n",
    "arr14\n",
    "arr15=np.eye(10)\n",
    "print(\"eye\",arr15)\n",
    "arr16=np.identity(5)\n",
    "print(\"identity:\",arr16)\n",
    "arr17=np.arange(10).reshape(5,2)\n",
    "arr17\n",
    "#arr18=np.ones_like()\n",
    "#arr18\n",
    "#x=np.arrange(10)\n",
    "#y=np.arrange(10)\n",
    "#print(x)\n",
    "#print(y)\n",
    "#print(\"add\",x+y)\n",
    "#x1=np.arange(9).reshape(5,4)\n",
    "#x2=np.arange(9).reshape(5,4)\n",
    "#print(\"x1:\\n\", x1)\n",
    "#print(\"x2:\\n\", x2)\n",
    "#print(x1+x2)\n",
    "#print(x1*x2)\n",
    "w=np.array([[1,2],[3,4]])\n",
    "u=np.array([[11,12],[13,14]])\n",
    "print(w)\n",
    "print(u)\n",
    "a=np.dot(w,u)\n",
    "print(\"dot :\\n\",a)\n",
    "#multiplication operator dot"
   ]
  },
  {
   "cell_type": "code",
   "execution_count": 110,
   "metadata": {},
   "outputs": [
    {
     "data": {
      "text/plain": [
       "array([0., 0., 0., 0., 0., 0., 0., 0., 0., 0.])"
      ]
     },
     "execution_count": 110,
     "metadata": {},
     "output_type": "execute_result"
    }
   ],
   "source": [
    "np.zeros(10)"
   ]
  },
  {
   "cell_type": "code",
   "execution_count": 98,
   "metadata": {},
   "outputs": [
    {
     "data": {
      "text/plain": [
       "array([[37, 40],\n",
       "       [85, 92]])"
      ]
     },
     "execution_count": 98,
     "metadata": {},
     "output_type": "execute_result"
    }
   ],
   "source": [
    "w=np.array([[1,2],[3,4]])\n",
    "u=np.array([[11,12],[13,14]])\n",
    "w.dot(u)"
   ]
  },
  {
   "cell_type": "code",
   "execution_count": 106,
   "metadata": {},
   "outputs": [
    {
     "name": "stdout",
     "output_type": "stream",
     "text": [
      "x matrix \n",
      " [[1 2 3]\n",
      " [4 5 6]]\n",
      "transpose_matrix \n",
      " [[1 4]\n",
      " [2 5]\n",
      " [3 6]]\n",
      "Transpose using T \n",
      ": [[1 4]\n",
      " [2 5]\n",
      " [3 6]]\n"
     ]
    }
   ],
   "source": [
    "#transpose of a matrix\n",
    "x1=np.array([[1,2,3],[4,5,6]])\n",
    "print(\"x matrix \\n\", x1)\n",
    "print(\"transpose_matrix \\n\",np.transpose(x1))\n",
    "print(\"Transpose using T \\n:\", x1.T)"
   ]
  },
  {
   "cell_type": "code",
   "execution_count": 109,
   "metadata": {},
   "outputs": [
    {
     "data": {
      "text/plain": [
       "array([[1, 1, 1, 1],\n",
       "       [1, 1, 1, 1],\n",
       "       [1, 1, 1, 1],\n",
       "       [2, 2, 2, 2],\n",
       "       [2, 2, 2, 2],\n",
       "       [2, 2, 2, 2],\n",
       "       [3, 3, 3, 3],\n",
       "       [3, 3, 3, 3],\n",
       "       [3, 3, 3, 3]])"
      ]
     },
     "execution_count": 109,
     "metadata": {},
     "output_type": "execute_result"
    }
   ],
   "source": [
    "q1=np.full((3,4),1)\n",
    "q2=np.full((3,4),2)\n",
    "q3=np.full((3,4),3)\n",
    "q4=np.vstack((q1,q2,q3))\n",
    "q4\n",
    "#np.hstack  #np.concatenate\n",
    "q5=np.hstack((q1,q2,q3))\n",
    "q5\n",
    "q6=np.concatenate((q1,q2,q3))\n",
    "q6"
   ]
  },
  {
   "cell_type": "markdown",
   "metadata": {
    "id": "jI5qcSDfL9iC"
   },
   "source": [
    "### Array indexing"
   ]
  },
  {
   "cell_type": "markdown",
   "metadata": {
    "id": "M-E4MUeVL9iC"
   },
   "source": [
    "Numpy offers several ways to index into arrays."
   ]
  },
  {
   "cell_type": "markdown",
   "metadata": {
    "id": "QYv4JyIEL9iD"
   },
   "source": [
    "Slicing: Similar to Python lists, numpy arrays can be sliced. Since arrays may be multidimensional, you must specify a slice for each dimension of the array:"
   ]
  },
  {
   "cell_type": "code",
   "execution_count": null,
   "metadata": {
    "id": "wLWA0udwL9iD"
   },
   "outputs": [],
   "source": [
    "import numpy as np\n",
    "\n",
    "# Create the following rank 2 array with shape (3, 4)\n",
    "# [[ 1  2  3  4]\n",
    "#  [ 5  6  7  8]\n",
    "#  [ 9 10 11 12]]\n",
    "a = np.array([[1,2,3,4], [5,6,7,8], [9,10,11,12]])\n",
    "\n",
    "# Use slicing to pull out the subarray consisting of the first 2 rows\n",
    "# and columns 1 and 2; b is the following array of shape (2, 2):\n",
    "# [[2 3]\n",
    "#  [6 7]]\n",
    "b = a[:2, 1:3]\n",
    "print(b)"
   ]
  },
  {
   "cell_type": "code",
   "execution_count": null,
   "metadata": {
    "id": "G6lfbPuxL9iJ"
   },
   "outputs": [],
   "source": [
    "# Create the following rank 2 array with shape (3, 4)\n",
    "a = np.array([[1,2,3,4], [5,6,7,8], [9,10,11,12]])\n",
    "print(a)"
   ]
  },
  {
   "cell_type": "markdown",
   "metadata": {
    "id": "NCye3NXhL9iL"
   },
   "source": [
    "Two ways of accessing the data in the middle row of the array.\n",
    "Mixing integer indexing with slices yields an array of lower rank,\n",
    "while using only slices yields an array of the same rank as the\n",
    "original array:"
   ]
  },
  {
   "cell_type": "code",
   "execution_count": 111,
   "metadata": {
    "id": "EOiEMsmNL9iL"
   },
   "outputs": [
    {
     "name": "stdout",
     "output_type": "stream",
     "text": [
      "[85 92] (2,)\n",
      "-------------------\n",
      "[[85 92]] (1, 2)\n"
     ]
    }
   ],
   "source": [
    "row_r1 = a[1, :]    # Rank 1 view of the second row of a  \n",
    "row_r2 = a[1:2, :]  # Rank 2 view of the second row of a\n",
    "\n",
    "print(row_r1, row_r1.shape)\n",
    "print(\"-------------------\")\n",
    "print(row_r2, row_r2.shape)\n"
   ]
  },
  {
   "cell_type": "code",
   "execution_count": null,
   "metadata": {
    "id": "JXu73pfDL9iN"
   },
   "outputs": [],
   "source": [
    "# We can make the same distinction when accessing columns of an array:\n",
    "col_r1 = a[:, 1]\n",
    "col_r2 = a[:, 1:2]\n",
    "print(col_r1, col_r1.shape)\n",
    "print('----------------------')\n",
    "print(col_r2, col_r2.shape)"
   ]
  },
  {
   "cell_type": "code",
   "execution_count": null,
   "metadata": {
    "id": "y1VWd49QKQz0"
   },
   "outputs": [],
   "source": [
    "#use of arange function\n",
    "\n",
    "my_array  = np.arange(10) #create array of ten elements\n",
    "print(my_array)\n",
    "\n",
    "\n",
    "#create array using start and stop options \n",
    "\n",
    "my_array1  =  np.arange(1, 10)\n",
    "print(my_array1)\n",
    "\n",
    "#create array using start and stop option and step size\n",
    "\n",
    "my_array2  =  np.arange(1,10,2)\n",
    "print(my_array2)\n"
   ]
  },
  {
   "cell_type": "code",
   "execution_count": null,
   "metadata": {
    "id": "ESB_mcccKQz1"
   },
   "outputs": [],
   "source": [
    "#reshape function in numpy \n",
    "\n",
    "my_array3  =  np.arange(10).reshape(2,5)\n",
    "print(my_array3)\n",
    "print('-------------------')\n",
    "print(my_array3.shape)\n",
    "print('--------------------')\n",
    "print(my_array3.ndim)\n"
   ]
  },
  {
   "cell_type": "code",
   "execution_count": null,
   "metadata": {
    "id": "32PusjtKL9id"
   },
   "outputs": [],
   "source": [
    "\n",
    "\n",
    "a = np.array([[1,2], [3, 4], [5, 6]])\n",
    "\n",
    "bool_idx = (a > 2)  # Find the elements of a that are bigger than 2;\n",
    "                    # this returns a numpy array of Booleans of the same\n",
    "                    # shape as a, where each slot of bool_idx tells\n",
    "                    # whether that element of a is > 2.\n",
    "\n",
    "print(bool_idx)"
   ]
  },
  {
   "cell_type": "markdown",
   "metadata": {
    "id": "jTctwqdQL9ih"
   },
   "source": [
    "### Datatypes"
   ]
  },
  {
   "cell_type": "markdown",
   "metadata": {
    "id": "kSZQ1WkIL9ih"
   },
   "source": [
    "Every numpy array is a grid of elements of the same type. Numpy provides a large set of numeric datatypes that you can use to construct arrays. Numpy tries to guess a datatype when you create an array, but functions that construct arrays usually also include an optional argument to explicitly specify the datatype. Here is an example:"
   ]
  },
  {
   "cell_type": "code",
   "execution_count": null,
   "metadata": {
    "id": "4za4O0m5L9ih"
   },
   "outputs": [],
   "source": [
    "x = np.array([1, 2])  # Let numpy choose the datatype\n",
    "y = np.array([1.0, 2.0])  # Let numpy choose the datatype\n",
    "z = np.array([1, 2], dtype=np.int64)  # Force a particular datatype\n",
    "\n",
    "print(x.dtype, y.dtype, z.dtype)"
   ]
  },
  {
   "cell_type": "markdown",
   "metadata": {
    "id": "RLVIsZQpL9ik"
   },
   "source": [
    "You can read all about numpy datatypes in the [documentation](http://docs.scipy.org/doc/numpy/reference/arrays.dtypes.html)."
   ]
  },
  {
   "cell_type": "markdown",
   "metadata": {
    "id": "TuB-fdhIL9ik"
   },
   "source": [
    "### Array math"
   ]
  },
  {
   "cell_type": "markdown",
   "metadata": {
    "id": "18e8V8elL9ik"
   },
   "source": [
    "Basic mathematical functions operate elementwise on arrays, and are available both as operator overloads and as functions in the numpy module:"
   ]
  },
  {
   "cell_type": "code",
   "execution_count": null,
   "metadata": {
    "id": "gHKvBrSKL9il"
   },
   "outputs": [],
   "source": [
    "x = np.array([[1,2],[3,4]], dtype=np.float64)\n",
    "y = np.array([[5,6],[7,8]], dtype=np.float64)\n",
    "\n",
    "print(x)\n",
    "print('-----------------')\n",
    "print(y)\n",
    "print('-----------------')\n",
    "# Elementwise sum; both produce the array\n",
    "print(x + y)\n",
    "print('-----------------')\n",
    "print(np.add(x, y))"
   ]
  },
  {
   "cell_type": "code",
   "execution_count": null,
   "metadata": {
    "id": "1fZtIAMxL9in"
   },
   "outputs": [],
   "source": [
    "# Elementwise difference; both produce the array\n",
    "print(x - y)\n",
    "print('---------------')\n",
    "print(np.subtract(x, y))"
   ]
  },
  {
   "cell_type": "code",
   "execution_count": null,
   "metadata": {
    "id": "nil4AScML9io"
   },
   "outputs": [],
   "source": [
    "# Elementwise product; both produce the array\n",
    "print(x * y)\n",
    "print('-----------------')\n",
    "print(np.multiply(x, y))"
   ]
  },
  {
   "cell_type": "code",
   "execution_count": null,
   "metadata": {
    "id": "0JoA4lH6L9ip"
   },
   "outputs": [],
   "source": [
    "# Elementwise division; both produce the array\n",
    "# [[ 0.2         0.33333333]\n",
    "#  [ 0.42857143  0.5       ]]\n",
    "print(x / y)\n",
    "\n",
    "print('-'*30)\n",
    "\n",
    "print(np.divide(x, y))"
   ]
  },
  {
   "cell_type": "code",
   "execution_count": null,
   "metadata": {
    "id": "g0iZuA6bL9ir"
   },
   "outputs": [],
   "source": [
    "# Elementwise square root; produces the array\n",
    "# [[ 1.          1.41421356]\n",
    "#  [ 1.73205081  2.        ]]\n",
    "print(np.sqrt(x))"
   ]
  },
  {
   "cell_type": "code",
   "execution_count": null,
   "metadata": {
    "id": "I3FnmoSeL9iu"
   },
   "outputs": [],
   "source": [
    "x = np.array([[1,2],[3,4]])\n",
    "y = np.array([[5,6],[7,8]])\n",
    "\n",
    "v = np.array([9,10])\n",
    "w = np.array([11, 12])\n",
    "\n",
    "# Inner product of vectors; both produce 219\n",
    "print(v.dot(w))\n",
    "print(np.dot(v, w))"
   ]
  },
  {
   "cell_type": "markdown",
   "metadata": {
    "id": "vmxPbrHASVeA"
   },
   "source": [
    "You can also use the `@` operator which is equivalent to numpy's `dot` operator."
   ]
  },
  {
   "cell_type": "code",
   "execution_count": null,
   "metadata": {
    "id": "vyrWA-mXSdtt"
   },
   "outputs": [],
   "source": [
    "print(v @ w)"
   ]
  },
  {
   "cell_type": "code",
   "execution_count": null,
   "metadata": {
    "id": "zvUODeTxL9iw"
   },
   "outputs": [],
   "source": [
    "# Matrix / vector product; both produce the rank 1 array [29 67]\n",
    "print(x.dot(v))\n",
    "print(np.dot(x, v))\n",
    "print(x @ v)"
   ]
  },
  {
   "cell_type": "code",
   "execution_count": null,
   "metadata": {
    "id": "3V_3NzNEL9iy"
   },
   "outputs": [],
   "source": [
    "# Matrix / matrix product; both produce the rank 2 array\n",
    "# [[19 22]\n",
    "#  [43 50]]\n",
    "print(x.dot(y))\n",
    "print(np.dot(x, y))\n",
    "print(x @ y)"
   ]
  },
  {
   "cell_type": "markdown",
   "metadata": {
    "id": "FbE-1If_L9i0"
   },
   "source": [
    "Numpy provides many useful functions for performing computations on arrays; one of the most useful is `sum`:"
   ]
  },
  {
   "cell_type": "code",
   "execution_count": null,
   "metadata": {
    "id": "DZUdZvPrL9i0"
   },
   "outputs": [],
   "source": [
    "x = np.array([[1,2],[3,4]])\n",
    "\n",
    "print(np.sum(x))  # Compute sum of all elements; prints \"10\"\n",
    "print(np.sum(x, axis=0))  # Compute sum of each column; prints \"[4 6]\"\n",
    "print(np.sum(x, axis=1))  # Compute sum of each row; prints \"[3 7]\""
   ]
  },
  {
   "cell_type": "markdown",
   "metadata": {
    "id": "ahdVW4iUL9i3"
   },
   "source": [
    "You can find the full list of mathematical functions provided by numpy in the [documentation](http://docs.scipy.org/doc/numpy/reference/routines.math.html).\n",
    "\n",
    "Apart from computing mathematical functions using arrays, we frequently need to reshape or otherwise manipulate data in arrays. The simplest example of this type of operation is transposing a matrix; to transpose a matrix, simply use the T attribute of an array object:"
   ]
  },
  {
   "cell_type": "code",
   "execution_count": null,
   "metadata": {
    "id": "63Yl1f3oL9i3"
   },
   "outputs": [],
   "source": [
    "print(x)\n",
    "print(\"transpose\\n\", x.T)"
   ]
  },
  {
   "cell_type": "code",
   "execution_count": null,
   "metadata": {
    "id": "mkk03eNIL9i4"
   },
   "outputs": [],
   "source": [
    "v = np.array([[1,2,3]])\n",
    "print(v )\n",
    "print(\"transpose\\n\", v.T)"
   ]
  },
  {
   "cell_type": "markdown",
   "metadata": {
    "id": "2N_K8qlTKQ0H"
   },
   "source": [
    "Other useful functions are:\n",
    "    \n",
    "- `np.mean` (computes arithmetic mean or average)\n",
    "- `np.std` (computes the standard deviation)\n",
    "- `np.var` (computes variance)\n",
    "- `np.sort` (sorts an array)\n",
    "- `np.argsort` (returns indices that would sort an array)\n",
    "- `np.min` (returns the minimum value of an array)\n",
    "- `np.max` (returns the maximum value of an array)\n",
    "- `np.argmin` (returns the index of the minimum value)\n",
    "- `np.argmax` (returns the index of the maximum value)\n",
    "- `np.array_equal` (checks if two arrays have the same shape and elements)"
   ]
  },
  {
   "cell_type": "markdown",
   "metadata": {
    "id": "iF3ZtwVNL9jQ"
   },
   "source": [
    "Check out the [numpy reference](http://docs.scipy.org/doc/numpy/reference/) to find out much more about numpy."
   ]
  },
  {
   "cell_type": "code",
   "execution_count": null,
   "metadata": {
    "id": "IiB4s8AfKQ0I"
   },
   "outputs": [],
   "source": []
  }
 ],
 "metadata": {
  "colab": {
   "collapsed_sections": [],
   "name": "Numpy01.ipynb",
   "provenance": []
  },
  "kernelspec": {
   "display_name": "Python 3",
   "language": "python",
   "name": "python3"
  },
  "language_info": {
   "codemirror_mode": {
    "name": "ipython",
    "version": 3
   },
   "file_extension": ".py",
   "mimetype": "text/x-python",
   "name": "python",
   "nbconvert_exporter": "python",
   "pygments_lexer": "ipython3",
   "version": "3.8.5"
  }
 },
 "nbformat": 4,
 "nbformat_minor": 1
}
