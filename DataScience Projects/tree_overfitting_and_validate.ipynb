{
 "cells": [
  {
   "cell_type": "code",
   "execution_count": 2,
   "metadata": {},
   "outputs": [
    {
     "data": {
      "text/plain": [
       "5    681\n",
       "6    638\n",
       "7    199\n",
       "4     53\n",
       "8     18\n",
       "3     10\n",
       "Name: quality, dtype: int64"
      ]
     },
     "execution_count": 2,
     "metadata": {},
     "output_type": "execute_result"
    }
   ],
   "source": [
    "\n",
    "#import libraries\n",
    "\n",
    "\n",
    "import pandas as pd\n",
    "df = pd.read_csv(\"winequality-red.csv\")\n",
    "\n",
    "\n",
    "\n",
    "#check missing values\n",
    "df.isnull().sum()\n",
    "#df.head()\n",
    "df.quality.value_counts()"
   ]
  },
  {
   "cell_type": "code",
   "execution_count": 3,
   "metadata": {},
   "outputs": [],
   "source": [
    "# a mapping dictionary that maps the quality values from 0 to 5\n",
    "quality_mapping = {\n",
    "3: 0,\n",
    "4: 1,\n",
    "5: 2,\n",
    "6: 3,\n",
    "7: 4,\n",
    "8: 5\n",
    "}\n",
    "\n",
    "#df['quality'].value_counts()"
   ]
  },
  {
   "cell_type": "code",
   "execution_count": 4,
   "metadata": {},
   "outputs": [
    {
     "data": {
      "text/plain": [
       "2    681\n",
       "3    638\n",
       "4    199\n",
       "1     53\n",
       "5     18\n",
       "0     10\n",
       "Name: quality, dtype: int64"
      ]
     },
     "execution_count": 4,
     "metadata": {},
     "output_type": "execute_result"
    }
   ],
   "source": [
    "# you can use the map function of pandas with\n",
    "# any dictionary to convert the values in a given\n",
    "# column to values in the dictionary\n",
    "\n",
    "\n",
    "\n",
    "df.loc[:, \"quality\"] = df.quality.map(quality_mapping)\n",
    "df['quality'].value_counts()"
   ]
  },
  {
   "cell_type": "code",
   "execution_count": 5,
   "metadata": {},
   "outputs": [],
   "source": [
    "\n",
    "#split into x and y\n",
    "\n",
    "x  = df.iloc[:,:-1]\n",
    "y = df.iloc[:, -1]\n",
    "\n",
    "\n",
    "#df"
   ]
  },
  {
   "cell_type": "code",
   "execution_count": 6,
   "metadata": {},
   "outputs": [
    {
     "data": {
      "text/plain": [
       "((1279, 11), (320, 11))"
      ]
     },
     "execution_count": 6,
     "metadata": {},
     "output_type": "execute_result"
    }
   ],
   "source": [
    "#train and test split\n",
    "\n",
    "from sklearn.model_selection import train_test_split\n",
    "\n",
    "\n",
    "X_train, X_test, y_train, y_test = train_test_split(x, y, test_size=0.20, random_state=10)\n",
    "\n",
    "X_train.shape , X_test.shape"
   ]
  },
  {
   "cell_type": "code",
   "execution_count": 9,
   "metadata": {},
   "outputs": [
    {
     "data": {
      "text/plain": [
       "DecisionTreeClassifier(max_depth=3)"
      ]
     },
     "execution_count": 9,
     "metadata": {},
     "output_type": "execute_result"
    }
   ],
   "source": [
    "#import algorithms\n",
    "\n",
    "\n",
    "from sklearn.tree import DecisionTreeClassifier\n",
    "\n",
    "\n",
    "tree_model  =  DecisionTreeClassifier(max_depth=3)\n",
    "\n",
    "\n",
    "tree_model.fit(X_train , y_train)\n"
   ]
  },
  {
   "cell_type": "code",
   "execution_count": 8,
   "metadata": {},
   "outputs": [],
   "source": [
    "#predictions\n",
    "\n",
    "train_predictions  = tree_model.predict(X_train)\n",
    "test_predictions   = tree_model.predict(X_test)\n"
   ]
  },
  {
   "cell_type": "code",
   "execution_count": 10,
   "metadata": {},
   "outputs": [
    {
     "name": "stdout",
     "output_type": "stream",
     "text": [
      "0.5723221266614542\n",
      "0.521875\n"
     ]
    }
   ],
   "source": [
    "#accuracy \n",
    "\n",
    "from sklearn.metrics import accuracy_score\n",
    "\n",
    "print(accuracy_score(y_train ,train_predictions ))\n",
    "print(accuracy_score(y_test , test_predictions))\n"
   ]
  },
  {
   "cell_type": "code",
   "execution_count": null,
   "metadata": {},
   "outputs": [],
   "source": [
    "# import scikit-learn tree and metrics\n",
    "from sklearn import tree\n",
    "from sklearn import metrics\n",
    "# import matplotlib and seaborn\n",
    "# for plotting\n",
    "\n",
    "import matplotlib\n",
    "import matplotlib.pyplot as plt\n",
    "import seaborn as sns\n",
    "\n",
    "# this is our global size of label text\n",
    "# on the plots\n",
    "\n",
    "\n",
    "# This line ensures that the plot is displayed\n",
    "# inside the notebook\n",
    "\n",
    "%matplotlib inline\n",
    "# initialize lists to store accuracies\n",
    "# for training and test data\n",
    "# we start with 50% accuracy\n",
    "\n",
    "train_accuracies = []\n",
    "test_accuracies = []\n",
    "\n",
    "# iterate over a few depth values\n",
    "for depth in range(1, 25):\n",
    "# init the model\n",
    "    tree_model  =  DecisionTreeClassifier(max_depth=depth)\n",
    "    \n",
    "    \n",
    "    #clf = tree.DecisionTreeClassifier(max_depth=depth)\n",
    "# columns/features for training\n",
    "# note that, this can be done outside\n",
    "# the loop\n",
    "    cols = [\n",
    "    'fixed acidity',\n",
    "    'volatile acidity',\n",
    "    'citric acid',\n",
    "    'residual sugar',\n",
    "    'chlorides',\n",
    "    'free sulfur dioxide',\n",
    "    'total sulfur dioxide',\n",
    "    'density',\n",
    "    #'pH',\n",
    "    #'sulphates',\n",
    "    #'alcohol'\n",
    "    ]\n",
    "\n",
    "\n",
    "# fit the model on given features\n",
    "    tree_model.fit(X_train , y_train)  \n",
    "\n",
    "\n",
    "\n",
    "# create training & test predictions\n",
    "    train_predictions = tree_model.predict(X_train)\n",
    "    test_predictions = tree_model.predict(X_test)\n",
    "\n",
    "\n",
    "\n",
    "\n",
    "# calculate training & test accuracies\n",
    "    train_accuracy = metrics.accuracy_score(y_train, train_predictions)\n",
    "\n",
    "\n",
    "    test_accuracy = metrics.accuracy_score(y_test, test_predictions)\n",
    "\n",
    "\n",
    "\n",
    "# append accuracies\n",
    "    train_accuracies.append(train_accuracy)\n",
    "    test_accuracies.append(test_accuracy)\n",
    "\n",
    "\n",
    "# create two plots using matplotlib\n",
    "# and seaborn\n",
    "plt.figure(figsize=(10, 5))\n",
    "sns.set_style(\"whitegrid\")\n",
    "plt.plot(train_accuracies, label=\"train accuracy\")\n",
    "plt.plot(test_accuracies, label=\"test accuracy\")\n",
    "plt.legend(loc=\"upper left\")\n",
    "plt.xticks(range(0, 26, 5))\n",
    "plt.xlabel(\"max_depth\", size=20)\n",
    "plt.ylabel(\"accuracy\", size=20)\n",
    "plt.show()\n",
    "\n",
    "\n",
    "#print(train_accuracy)\n",
    "#print(test_accuracy)"
   ]
  },
  {
   "cell_type": "markdown",
   "metadata": {},
   "source": [
    "**kfold cross validation**"
   ]
  },
  {
   "cell_type": "code",
   "execution_count": null,
   "metadata": {},
   "outputs": [],
   "source": [
    "#import algorithm\n",
    "\n",
    "from sklearn.ensemble import RandomForestClassifier\n",
    "model = RandomForestClassifier(random_state=5,\n",
    "                               max_depth=18,\n",
    "                               n_estimators=100,\n",
    "                               max_features=4,\n",
    "                              )\n",
    "\n",
    "\n",
    "\n",
    "#gridsearch cv\n",
    "#randomsearch cv\n"
   ]
  },
  {
   "cell_type": "code",
   "execution_count": null,
   "metadata": {},
   "outputs": [],
   "source": [
    "#cross_valiation\n",
    "\n",
    "from sklearn.model_selection import cross_val_score\n",
    "\n",
    "scores = cross_val_score(model,x,y,cv=5,scoring='accuracy')\n",
    "\n",
    "print(scores)\n",
    "print(\"Average Accuracy:\",scores.mean())\n",
    "print(\"Std :\",scores.std())\n",
    "\n",
    "#std of < 0.05 is good. \n"
   ]
  },
  {
   "cell_type": "code",
   "execution_count": null,
   "metadata": {},
   "outputs": [],
   "source": [
    "#check the count of samples of each outcome\n",
    "\n",
    "df.quality.value_counts()"
   ]
  },
  {
   "cell_type": "code",
   "execution_count": null,
   "metadata": {},
   "outputs": [],
   "source": [
    "from sklearn.model_selection import StratifiedKFold, KFold , cross_val_score\n",
    "\n",
    "\n",
    "print(cross_val_score(model, x, y, cv=KFold(n_splits=5)))\n",
    "print(cross_val_score(model,x,y,cv=5))\n",
    "print(cross_val_score(model, x, y, cv=StratifiedKFold(n_splits=5)))\n",
    "\n"
   ]
  },
  {
   "cell_type": "code",
   "execution_count": null,
   "metadata": {},
   "outputs": [],
   "source": []
  }
 ],
 "metadata": {
  "kernelspec": {
   "display_name": "Python 3",
   "language": "python",
   "name": "python3"
  },
  "language_info": {
   "codemirror_mode": {
    "name": "ipython",
    "version": 3
   },
   "file_extension": ".py",
   "mimetype": "text/x-python",
   "name": "python",
   "nbconvert_exporter": "python",
   "pygments_lexer": "ipython3",
   "version": "3.8.5"
  }
 },
 "nbformat": 4,
 "nbformat_minor": 5
}
