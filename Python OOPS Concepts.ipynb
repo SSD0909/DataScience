{
 "cells": [
  {
   "cell_type": "markdown",
   "metadata": {},
   "source": [
    "All the questions around oops revolve around five classes\n",
    "a. Vehiles b. Car c. Truck d. MotorBike e. Bicycle\n",
    "\n",
    "Reuse your code for the questions\n",
    "#### Q1. a. What is a class. b. create an Empty class called Vehicles (code)\n",
    "\n"
   ]
  },
  {
   "cell_type": "markdown",
   "metadata": {},
   "source": [
    " Python is an Object Oriented Programming Language, where almost everything in Python is an Object which have its properties and methods.\n",
    "The two main aspects of OOPs concept are classes and Object. \n",
    "In Python , classes helps us to bring all objects and functionalities related to each other and helps us to manage the code in a better way.\n",
    "What is class and Objects in python?\n",
    "A class is an Object constructor or blueprint from which Objects are created .It provides a means of building data and functionality.\n",
    "Objects are instances of a particular class. For Example, we have blueprint of car which is the class and the different make's of the cars is the objects of the class. An object is the collection of various data and functions that operate on those data. An object contains the following properties.\n",
    "State - The attributes of an object represents its state. It also reflects the properties of an object.\n",
    "Behavior - The method of an object is its behavior.\n",
    "Identity - Each object must be uniquely identified and allow interacting with the other objects.\n",
    "\n",
    "Syntax:<object-name> =<class-name>(<arguments>)"
   ]
  },
  {
   "cell_type": "markdown",
   "metadata": {},
   "source": [
    "### How to create an empty Class?\n",
    "Creating a class in Python is as simple as creating a function in Python. In the below example , an empty class Vehicles is being created with no variables and methods in it.\n"
   ]
  },
  {
   "cell_type": "code",
   "execution_count": 49,
   "metadata": {},
   "outputs": [
    {
     "name": "stdout",
     "output_type": "stream",
     "text": [
      "Empty class vehicles is created\n"
     ]
    }
   ],
   "source": [
    "class Vehicles:\n",
    "    print(\"Empty class vehicles is created\")\n",
    "    pass"
   ]
  },
  {
   "cell_type": "markdown",
   "metadata": {},
   "source": [
    "### What are Class Attributes?\n",
    "Python Class Attributes are variables that are defined inside a class and used by all the objects. The attributes can be called using the class and the attribute name with dot(.) operator.\n",
    "\n",
    "Such attributes are defined in the class body parts usually at the top before the _init_ method and it doesn't need initialization.\n",
    "\n",
    "If any changes is made to the class attributes it will affect all the objects using that class attribute.\n"
   ]
  },
  {
   "cell_type": "code",
   "execution_count": 39,
   "metadata": {},
   "outputs": [],
   "source": [
    "class Vehicle(object):\n",
    "\n",
    "    vehilce1= 'Car'\n",
    "\n",
    "    def __init__(self, veh_make):\n",
    "            self.veh_make = veh_make\n",
    "            \n",
    "\n",
    "        "
   ]
  },
  {
   "cell_type": "markdown",
   "metadata": {},
   "source": [
    "### What are Python Instance Attributes?\n",
    "Python Instance Attributes are attached to instance of a class. When a new object is created the __init__ method is called. \n",
    "\n",
    "Instance attributes are defined inside an __init__ method. \n",
    "\n",
    "This methods will have the statements that will be executed during the run time(time of object creation)"
   ]
  },
  {
   "cell_type": "code",
   "execution_count": 29,
   "metadata": {},
   "outputs": [
    {
     "name": "stdout",
     "output_type": "stream",
     "text": [
      "The Make of vehicle is: Car\n",
      "The Make of vehicle is: Jeep\n"
     ]
    }
   ],
   "source": [
    "class Vehicle:\n",
    "   #init method\n",
    "    def __init__(self, vehicle_make):\n",
    "        \n",
    "        self.vehicle_make = vehicle_make\n",
    "#normal method\n",
    "    def vehicleMake(self):\n",
    "        print(\"The Make of vehicle is:\", self.vehicle_make)\n",
    "\n",
    "obj1=Vehicle(\"Car\")\n",
    "obj1.vehicleMake()\n",
    "obj2=Vehicle(\"Jeep\")\n",
    "obj2.vehicleMake()\n"
   ]
  },
  {
   "cell_type": "code",
   "execution_count": null,
   "metadata": {},
   "outputs": [],
   "source": [
    "#Create a class motobike\n",
    "class MotorBike:\n",
    " \n",
    "   \n",
    "    \n",
    "    #Class Attributes\n",
    "    motorbike_model = \"Electric\"\n",
    "        \n",
    "    #initialization\n",
    "    def __init__(self, motorbike_color,motorbike_make):\n",
    "        #motorbike_color,motorbike_make are variables passed to the \n",
    "        #instance attributes\n",
    "        self.motorbike_color = motorbike_color\n",
    "        self.motorbike_make = motorbike_make\n",
    "                   \n",
    "#Object instantiation\n",
    "motorbike1 = MotorBike(\"Pink\",\"Yamaha\")\n",
    "motorbike2 = MotorBike(\"Blue\",\"KTM\")\n",
    "\n",
    "pass"
   ]
  },
  {
   "cell_type": "code",
   "execution_count": 31,
   "metadata": {},
   "outputs": [
    {
     "name": "stdout",
     "output_type": "stream",
     "text": [
      "Accelerating\n",
      "Tilt steering wheel\n",
      "Capacity for loading\n"
     ]
    }
   ],
   "source": [
    "class Truck:\n",
    "    def __init__(self):\n",
    "        #variable initialized in \n",
    "        self.wheels = \"8\"\n",
    "\n",
    "        # calling methods \n",
    "        self.speed()\n",
    "        self.power_brakes()\n",
    "        self.capacity()\n",
    "\n",
    "    def speed(self):\n",
    "            print('Accelerating')\n",
    "\n",
    "    def power_brakes(self):\n",
    "            print('Tilt steering wheel')\n",
    "\n",
    "    def capacity(self):\n",
    "            print('Capacity for loading')\n",
    "\n",
    "ba = Truck()"
   ]
  },
  {
   "cell_type": "markdown",
   "metadata": {},
   "source": [
    "### Define constructor for class Vehicles\n",
    "In class vehicle , constructor (_init_) is initialized with few attributes"
   ]
  },
  {
   "cell_type": "code",
   "execution_count": 32,
   "metadata": {},
   "outputs": [],
   "source": [
    "#class vehicle is created\n",
    "\n",
    "class Vehicles:\n",
    "    #Constructor\n",
    "    def __init__(self, vehicle_make,vehicle_model):\n",
    "        #attributes initialized\n",
    "        self.vehicle_make = vehicle_make\n",
    "        self.vehicle_model = vehicle_model\n",
    "\n",
    "pass"
   ]
  },
  {
   "cell_type": "markdown",
   "metadata": {},
   "source": [
    "## Create a object for the class Vehicles"
   ]
  },
  {
   "cell_type": "code",
   "execution_count": 34,
   "metadata": {},
   "outputs": [],
   "source": [
    "#class vehicle is created\n",
    "\n",
    "class Vehicles:\n",
    "    #Constructor\n",
    "    def __init__(self, vehicle_make,vehicle_model):\n",
    "        #attributes initialized\n",
    "        self.vehicle_make = vehicle_make\n",
    "        self.vehicle_model = vehicle_model\n",
    "        \n",
    "#object instantiation\n",
    "vehicle1=Vehicles(\"Benz\",\"Truck\")\n",
    "\n",
    "pass"
   ]
  },
  {
   "cell_type": "markdown",
   "metadata": {},
   "source": [
    "### Create a class for each of the following :\n",
    "1. Car\n",
    "2. Truck\n",
    "3. MotorBike\n",
    "4. Bicycle\n",
    "\n",
    "Make sure to include relevant attributes and methods for each of the class. \n",
    "Create object for each of the class and display messages accordingly (include print statements)\n"
   ]
  },
  {
   "cell_type": "code",
   "execution_count": 48,
   "metadata": {},
   "outputs": [
    {
     "name": "stdout",
     "output_type": "stream",
     "text": [
      "Car type is  Tesla Sedan black 2022\n",
      "Car type is  Tesla Self Drive black 2024\n"
     ]
    }
   ],
   "source": [
    "class Car:\n",
    "    \n",
    "    wheels=4\n",
    "    #constructor\n",
    "    def __init__(self, make, model, color, year):\n",
    "        #attributes initialized\n",
    "        self.make = make\n",
    "        self.model = model\n",
    "        self.color= color\n",
    "        self.year = year\n",
    "            \n",
    "    #defining method1\n",
    "    def car_type(self):        \n",
    "        print(\"Car type is \", self.make,self.model,self.color,self.year)\n",
    "        \n",
    "    #defining method2\n",
    "    def future_car(self, model, year):\n",
    "        \n",
    "        self.model = model\n",
    "        self.year = year\n",
    "        \n",
    "#object instantiation\n",
    "\n",
    "car1=Car('Tesla','Sedan','black',2022)\n",
    "\n",
    "#calling method1\n",
    "car1.car_type()\n",
    "#calling method2\n",
    "car1.future_car('Self Drive',2024)\n",
    "\n",
    "car1.car_type() "
   ]
  },
  {
   "cell_type": "code",
   "execution_count": 75,
   "metadata": {},
   "outputs": [
    {
     "name": "stdout",
     "output_type": "stream",
     "text": [
      "Truck Mileage is 200,000M and make is Toyota\n",
      "Truck Mileage is 20MPG and make is Chevrolet\n"
     ]
    }
   ],
   "source": [
    "#Create a class Truck\n",
    "class Truck:\n",
    " \n",
    "   \n",
    "    \n",
    "    #Class Attributes\n",
    "    motorbike_model = \"Pickup\"\n",
    "        \n",
    "    #initialization\n",
    "    def __init__(self, truck_mileage,truck_make):\n",
    "        #motorbike_color,motorbike_make are variables passed to the \n",
    "        #instance attributes\n",
    "        self.truck_mileage = truck_mileage\n",
    "        self.truck_make = truck_make\n",
    "        \n",
    "#Method1\n",
    "    def truck_details(self):\n",
    "        make = self.truck_make\n",
    "        mileage = self.truck_mileage\n",
    "        \n",
    "        print(\"Truck Mileage is {0} and make is {1}\".format(mileage,make))\n",
    "    \n",
    "        \n",
    "#Object instantiation\n",
    "truck1 = Truck('200,000M', 'Toyota')\n",
    "truck2 = Truck('20MPG','Chevrolet')\n",
    "\n",
    "truck1.truck_details()\n",
    "truck2.truck_details()"
   ]
  },
  {
   "cell_type": "code",
   "execution_count": 82,
   "metadata": {},
   "outputs": [
    {
     "name": "stdout",
     "output_type": "stream",
     "text": [
      "Motorbike color is Pink and make is Yamaha , Motorbike model is Electric\n",
      "Motorbike color is Blue and make is KTM , Motorbike model is Electric\n"
     ]
    }
   ],
   "source": [
    "#Create a class motobike\n",
    "class MotorBike:\n",
    " \n",
    "   \n",
    "    \n",
    "    #Class Attributes\n",
    "    motorbike_model = \"Electric\"\n",
    "        \n",
    "    #initialization\n",
    "    def __init__(self, motorbike_color,motorbike_make):\n",
    "        #motorbike_color,motorbike_make are variables passed to the \n",
    "        #instance attributes\n",
    "        self.motorbike_color = motorbike_color\n",
    "        self.motorbike_make = motorbike_make\n",
    "        \n",
    "#Method1\n",
    "    def motorbike_type(self):\n",
    "        make = self.motorbike_make\n",
    "        color = self.motorbike_color\n",
    "        #calling class attribute within the method alongwith instance attributes\n",
    "        print(\"Motorbike color is {0} and make is {1} ,\".format(color, make) + \" Motorbike model is {0}\".format(__class__.motorbike_model))\n",
    "    \n",
    "        \n",
    "#Object instantiation\n",
    "motorbike1 = MotorBike(\"Pink\",\"Yamaha\")\n",
    "motorbike2 = MotorBike(\"Blue\",\"KTM\")\n",
    "\n",
    "motorbike1.motorbike_type()\n",
    "motorbike2.motorbike_type()"
   ]
  },
  {
   "cell_type": "code",
   "execution_count": 94,
   "metadata": {},
   "outputs": [
    {
     "name": "stdout",
     "output_type": "stream",
     "text": [
      "Bike color is Pink and make is EBike , and Bike model is All Terrain\n",
      "Bike color is Blue and make is Magiccycle , and Bike model is All Terrain\n"
     ]
    }
   ],
   "source": [
    "#Create a class motobike\n",
    "class Bike:\n",
    " \n",
    "   \n",
    "    \n",
    "    #Class Attributes\n",
    "    bike_model = \"All Terrain\"\n",
    "        \n",
    "    #initialization\n",
    "    def __init__(self, bike_color,bike_make):\n",
    "        #bike_color,bike_make are variables passed to the \n",
    "        #instance attributes\n",
    "        self.bike_color = bike_color\n",
    "        self.bike_make =bike_make\n",
    "        \n",
    "#Method1\n",
    "    def bike_type(self):\n",
    "        make = self.bike_make\n",
    "        color = self.bike_color\n",
    "        #calling class attribute within the method alongwith instance attributes\n",
    "        print(\"Bike color is {0} and make is {1} , and\".format(color, make) + \" Bike model is {0}\".format(__class__.bike_model))\n",
    "    \n",
    "        \n",
    "#Object instantiation\n",
    "bike1 = Bike(\"Pink\",\"EBike\")\n",
    "bike2 = Bike(\"Blue\",\"Magiccycle\")\n",
    "\n",
    "bike1.bike_type()\n",
    "bike2.bike_type()"
   ]
  }
 ],
 "metadata": {
  "kernelspec": {
   "display_name": "Python 3",
   "language": "python",
   "name": "python3"
  },
  "language_info": {
   "codemirror_mode": {
    "name": "ipython",
    "version": 3
   },
   "file_extension": ".py",
   "mimetype": "text/x-python",
   "name": "python",
   "nbconvert_exporter": "python",
   "pygments_lexer": "ipython3",
   "version": "3.8.5"
  }
 },
 "nbformat": 4,
 "nbformat_minor": 4
}
